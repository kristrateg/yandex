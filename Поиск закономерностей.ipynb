{
 "cells": [
  {
   "cell_type": "markdown",
   "metadata": {},
   "source": [
    "#### Вступление"
   ]
  },
  {
   "cell_type": "markdown",
   "metadata": {},
   "source": [
    "**Перед нами стоит задача: проанализировать базу данных по компьютерным играм, чтобы сделать прогноз на 2017-й год. Наш проект — интернет-магазин компьютерных игр, который работает по всему миру.**"
   ]
  },
  {
   "cell_type": "code",
   "execution_count": 285,
   "metadata": {},
   "outputs": [],
   "source": [
    "# импортируем необходимые для работы библиотеки\n",
    "\n",
    "import datetime as dt\n",
    "\n",
    "import pandas as pd\n",
    "import numpy as np\n",
    "import matplotlib.pyplot as plt\n",
    "import seaborn as sns\n",
    "from scipy import stats as st"
   ]
  },
  {
   "cell_type": "markdown",
   "metadata": {},
   "source": [
    "### Загрузка данных"
   ]
  },
  {
   "cell_type": "code",
   "execution_count": 286,
   "metadata": {},
   "outputs": [
    {
     "data": {
      "text/html": [
       "<div>\n",
       "<style scoped>\n",
       "    .dataframe tbody tr th:only-of-type {\n",
       "        vertical-align: middle;\n",
       "    }\n",
       "\n",
       "    .dataframe tbody tr th {\n",
       "        vertical-align: top;\n",
       "    }\n",
       "\n",
       "    .dataframe thead th {\n",
       "        text-align: right;\n",
       "    }\n",
       "</style>\n",
       "<table border=\"1\" class=\"dataframe\">\n",
       "  <thead>\n",
       "    <tr style=\"text-align: right;\">\n",
       "      <th></th>\n",
       "      <th>Name</th>\n",
       "      <th>Platform</th>\n",
       "      <th>Year_of_Release</th>\n",
       "      <th>Genre</th>\n",
       "      <th>NA_sales</th>\n",
       "      <th>EU_sales</th>\n",
       "      <th>JP_sales</th>\n",
       "      <th>Other_sales</th>\n",
       "      <th>Critic_Score</th>\n",
       "      <th>User_Score</th>\n",
       "      <th>Rating</th>\n",
       "    </tr>\n",
       "  </thead>\n",
       "  <tbody>\n",
       "    <tr>\n",
       "      <th>3243</th>\n",
       "      <td>Guitar Hero: Metallica</td>\n",
       "      <td>PS3</td>\n",
       "      <td>2009.0</td>\n",
       "      <td>Misc</td>\n",
       "      <td>0.28</td>\n",
       "      <td>0.24</td>\n",
       "      <td>0.00</td>\n",
       "      <td>0.10</td>\n",
       "      <td>86.0</td>\n",
       "      <td>8</td>\n",
       "      <td>T</td>\n",
       "    </tr>\n",
       "    <tr>\n",
       "      <th>10980</th>\n",
       "      <td>Metal Slug X</td>\n",
       "      <td>PS</td>\n",
       "      <td>2001.0</td>\n",
       "      <td>Shooter</td>\n",
       "      <td>0.05</td>\n",
       "      <td>0.03</td>\n",
       "      <td>0.00</td>\n",
       "      <td>0.01</td>\n",
       "      <td>85.0</td>\n",
       "      <td>8.8</td>\n",
       "      <td>T</td>\n",
       "    </tr>\n",
       "    <tr>\n",
       "      <th>8381</th>\n",
       "      <td>VR Golf '97</td>\n",
       "      <td>PS</td>\n",
       "      <td>1996.0</td>\n",
       "      <td>Sports</td>\n",
       "      <td>0.09</td>\n",
       "      <td>0.06</td>\n",
       "      <td>0.00</td>\n",
       "      <td>0.01</td>\n",
       "      <td>NaN</td>\n",
       "      <td>NaN</td>\n",
       "      <td>NaN</td>\n",
       "    </tr>\n",
       "    <tr>\n",
       "      <th>8355</th>\n",
       "      <td>Catwoman</td>\n",
       "      <td>PS2</td>\n",
       "      <td>2004.0</td>\n",
       "      <td>Action</td>\n",
       "      <td>0.08</td>\n",
       "      <td>0.06</td>\n",
       "      <td>0.00</td>\n",
       "      <td>0.02</td>\n",
       "      <td>46.0</td>\n",
       "      <td>6.9</td>\n",
       "      <td>T</td>\n",
       "    </tr>\n",
       "    <tr>\n",
       "      <th>3701</th>\n",
       "      <td>Dragon Ball Z: Shin Budokai</td>\n",
       "      <td>PSP</td>\n",
       "      <td>2006.0</td>\n",
       "      <td>Fighting</td>\n",
       "      <td>0.26</td>\n",
       "      <td>0.08</td>\n",
       "      <td>0.13</td>\n",
       "      <td>0.07</td>\n",
       "      <td>70.0</td>\n",
       "      <td>8.1</td>\n",
       "      <td>T</td>\n",
       "    </tr>\n",
       "  </tbody>\n",
       "</table>\n",
       "</div>"
      ],
      "text/plain": [
       "                              Name Platform  Year_of_Release     Genre  \\\n",
       "3243        Guitar Hero: Metallica      PS3           2009.0      Misc   \n",
       "10980                 Metal Slug X       PS           2001.0   Shooter   \n",
       "8381                   VR Golf '97       PS           1996.0    Sports   \n",
       "8355                      Catwoman      PS2           2004.0    Action   \n",
       "3701   Dragon Ball Z: Shin Budokai      PSP           2006.0  Fighting   \n",
       "\n",
       "       NA_sales  EU_sales  JP_sales  Other_sales  Critic_Score User_Score  \\\n",
       "3243       0.28      0.24      0.00         0.10          86.0          8   \n",
       "10980      0.05      0.03      0.00         0.01          85.0        8.8   \n",
       "8381       0.09      0.06      0.00         0.01           NaN        NaN   \n",
       "8355       0.08      0.06      0.00         0.02          46.0        6.9   \n",
       "3701       0.26      0.08      0.13         0.07          70.0        8.1   \n",
       "\n",
       "      Rating  \n",
       "3243       T  \n",
       "10980      T  \n",
       "8381     NaN  \n",
       "8355       T  \n",
       "3701       T  "
      ]
     },
     "execution_count": 286,
     "metadata": {},
     "output_type": "execute_result"
    }
   ],
   "source": [
    "data = pd.read_csv('/datasets/games.csv') # откроем нашу базу данных и сохраним в дата\n",
    "data.sample(5) # посмотрим случайный фрагмент датафрейма"
   ]
  },
  {
   "cell_type": "code",
   "execution_count": 287,
   "metadata": {},
   "outputs": [
    {
     "name": "stdout",
     "output_type": "stream",
     "text": [
      "<class 'pandas.core.frame.DataFrame'>\n",
      "RangeIndex: 16715 entries, 0 to 16714\n",
      "Data columns (total 11 columns):\n",
      " #   Column           Non-Null Count  Dtype  \n",
      "---  ------           --------------  -----  \n",
      " 0   Name             16713 non-null  object \n",
      " 1   Platform         16715 non-null  object \n",
      " 2   Year_of_Release  16446 non-null  float64\n",
      " 3   Genre            16713 non-null  object \n",
      " 4   NA_sales         16715 non-null  float64\n",
      " 5   EU_sales         16715 non-null  float64\n",
      " 6   JP_sales         16715 non-null  float64\n",
      " 7   Other_sales      16715 non-null  float64\n",
      " 8   Critic_Score     8137 non-null   float64\n",
      " 9   User_Score       10014 non-null  object \n",
      " 10  Rating           9949 non-null   object \n",
      "dtypes: float64(6), object(5)\n",
      "memory usage: 1.4+ MB\n"
     ]
    }
   ],
   "source": [
    "data.info() # посмотрим на число и тип данных"
   ]
  },
  {
   "cell_type": "code",
   "execution_count": 288,
   "metadata": {},
   "outputs": [
    {
     "data": {
      "text/html": [
       "<div>\n",
       "<style scoped>\n",
       "    .dataframe tbody tr th:only-of-type {\n",
       "        vertical-align: middle;\n",
       "    }\n",
       "\n",
       "    .dataframe tbody tr th {\n",
       "        vertical-align: top;\n",
       "    }\n",
       "\n",
       "    .dataframe thead th {\n",
       "        text-align: right;\n",
       "    }\n",
       "</style>\n",
       "<table border=\"1\" class=\"dataframe\">\n",
       "  <thead>\n",
       "    <tr style=\"text-align: right;\">\n",
       "      <th></th>\n",
       "      <th>Name</th>\n",
       "      <th>Platform</th>\n",
       "      <th>Year_of_Release</th>\n",
       "      <th>Genre</th>\n",
       "      <th>NA_sales</th>\n",
       "      <th>EU_sales</th>\n",
       "      <th>JP_sales</th>\n",
       "      <th>Other_sales</th>\n",
       "      <th>Critic_Score</th>\n",
       "      <th>User_Score</th>\n",
       "      <th>Rating</th>\n",
       "    </tr>\n",
       "  </thead>\n",
       "  <tbody>\n",
       "    <tr>\n",
       "      <th>count</th>\n",
       "      <td>16713</td>\n",
       "      <td>16715</td>\n",
       "      <td>16446.000000</td>\n",
       "      <td>16713</td>\n",
       "      <td>16715.000000</td>\n",
       "      <td>16715.000000</td>\n",
       "      <td>16715.000000</td>\n",
       "      <td>16715.000000</td>\n",
       "      <td>8137.000000</td>\n",
       "      <td>10014</td>\n",
       "      <td>9949</td>\n",
       "    </tr>\n",
       "    <tr>\n",
       "      <th>unique</th>\n",
       "      <td>11559</td>\n",
       "      <td>31</td>\n",
       "      <td>NaN</td>\n",
       "      <td>12</td>\n",
       "      <td>NaN</td>\n",
       "      <td>NaN</td>\n",
       "      <td>NaN</td>\n",
       "      <td>NaN</td>\n",
       "      <td>NaN</td>\n",
       "      <td>96</td>\n",
       "      <td>8</td>\n",
       "    </tr>\n",
       "    <tr>\n",
       "      <th>top</th>\n",
       "      <td>Need for Speed: Most Wanted</td>\n",
       "      <td>PS2</td>\n",
       "      <td>NaN</td>\n",
       "      <td>Action</td>\n",
       "      <td>NaN</td>\n",
       "      <td>NaN</td>\n",
       "      <td>NaN</td>\n",
       "      <td>NaN</td>\n",
       "      <td>NaN</td>\n",
       "      <td>tbd</td>\n",
       "      <td>E</td>\n",
       "    </tr>\n",
       "    <tr>\n",
       "      <th>freq</th>\n",
       "      <td>12</td>\n",
       "      <td>2161</td>\n",
       "      <td>NaN</td>\n",
       "      <td>3369</td>\n",
       "      <td>NaN</td>\n",
       "      <td>NaN</td>\n",
       "      <td>NaN</td>\n",
       "      <td>NaN</td>\n",
       "      <td>NaN</td>\n",
       "      <td>2424</td>\n",
       "      <td>3990</td>\n",
       "    </tr>\n",
       "    <tr>\n",
       "      <th>mean</th>\n",
       "      <td>NaN</td>\n",
       "      <td>NaN</td>\n",
       "      <td>2006.484616</td>\n",
       "      <td>NaN</td>\n",
       "      <td>0.263377</td>\n",
       "      <td>0.145060</td>\n",
       "      <td>0.077617</td>\n",
       "      <td>0.047342</td>\n",
       "      <td>68.967679</td>\n",
       "      <td>NaN</td>\n",
       "      <td>NaN</td>\n",
       "    </tr>\n",
       "    <tr>\n",
       "      <th>std</th>\n",
       "      <td>NaN</td>\n",
       "      <td>NaN</td>\n",
       "      <td>5.877050</td>\n",
       "      <td>NaN</td>\n",
       "      <td>0.813604</td>\n",
       "      <td>0.503339</td>\n",
       "      <td>0.308853</td>\n",
       "      <td>0.186731</td>\n",
       "      <td>13.938165</td>\n",
       "      <td>NaN</td>\n",
       "      <td>NaN</td>\n",
       "    </tr>\n",
       "    <tr>\n",
       "      <th>min</th>\n",
       "      <td>NaN</td>\n",
       "      <td>NaN</td>\n",
       "      <td>1980.000000</td>\n",
       "      <td>NaN</td>\n",
       "      <td>0.000000</td>\n",
       "      <td>0.000000</td>\n",
       "      <td>0.000000</td>\n",
       "      <td>0.000000</td>\n",
       "      <td>13.000000</td>\n",
       "      <td>NaN</td>\n",
       "      <td>NaN</td>\n",
       "    </tr>\n",
       "    <tr>\n",
       "      <th>25%</th>\n",
       "      <td>NaN</td>\n",
       "      <td>NaN</td>\n",
       "      <td>2003.000000</td>\n",
       "      <td>NaN</td>\n",
       "      <td>0.000000</td>\n",
       "      <td>0.000000</td>\n",
       "      <td>0.000000</td>\n",
       "      <td>0.000000</td>\n",
       "      <td>60.000000</td>\n",
       "      <td>NaN</td>\n",
       "      <td>NaN</td>\n",
       "    </tr>\n",
       "    <tr>\n",
       "      <th>50%</th>\n",
       "      <td>NaN</td>\n",
       "      <td>NaN</td>\n",
       "      <td>2007.000000</td>\n",
       "      <td>NaN</td>\n",
       "      <td>0.080000</td>\n",
       "      <td>0.020000</td>\n",
       "      <td>0.000000</td>\n",
       "      <td>0.010000</td>\n",
       "      <td>71.000000</td>\n",
       "      <td>NaN</td>\n",
       "      <td>NaN</td>\n",
       "    </tr>\n",
       "    <tr>\n",
       "      <th>75%</th>\n",
       "      <td>NaN</td>\n",
       "      <td>NaN</td>\n",
       "      <td>2010.000000</td>\n",
       "      <td>NaN</td>\n",
       "      <td>0.240000</td>\n",
       "      <td>0.110000</td>\n",
       "      <td>0.040000</td>\n",
       "      <td>0.030000</td>\n",
       "      <td>79.000000</td>\n",
       "      <td>NaN</td>\n",
       "      <td>NaN</td>\n",
       "    </tr>\n",
       "    <tr>\n",
       "      <th>max</th>\n",
       "      <td>NaN</td>\n",
       "      <td>NaN</td>\n",
       "      <td>2016.000000</td>\n",
       "      <td>NaN</td>\n",
       "      <td>41.360000</td>\n",
       "      <td>28.960000</td>\n",
       "      <td>10.220000</td>\n",
       "      <td>10.570000</td>\n",
       "      <td>98.000000</td>\n",
       "      <td>NaN</td>\n",
       "      <td>NaN</td>\n",
       "    </tr>\n",
       "  </tbody>\n",
       "</table>\n",
       "</div>"
      ],
      "text/plain": [
       "                               Name Platform  Year_of_Release   Genre  \\\n",
       "count                         16713    16715     16446.000000   16713   \n",
       "unique                        11559       31              NaN      12   \n",
       "top     Need for Speed: Most Wanted      PS2              NaN  Action   \n",
       "freq                             12     2161              NaN    3369   \n",
       "mean                            NaN      NaN      2006.484616     NaN   \n",
       "std                             NaN      NaN         5.877050     NaN   \n",
       "min                             NaN      NaN      1980.000000     NaN   \n",
       "25%                             NaN      NaN      2003.000000     NaN   \n",
       "50%                             NaN      NaN      2007.000000     NaN   \n",
       "75%                             NaN      NaN      2010.000000     NaN   \n",
       "max                             NaN      NaN      2016.000000     NaN   \n",
       "\n",
       "            NA_sales      EU_sales      JP_sales   Other_sales  Critic_Score  \\\n",
       "count   16715.000000  16715.000000  16715.000000  16715.000000   8137.000000   \n",
       "unique           NaN           NaN           NaN           NaN           NaN   \n",
       "top              NaN           NaN           NaN           NaN           NaN   \n",
       "freq             NaN           NaN           NaN           NaN           NaN   \n",
       "mean        0.263377      0.145060      0.077617      0.047342     68.967679   \n",
       "std         0.813604      0.503339      0.308853      0.186731     13.938165   \n",
       "min         0.000000      0.000000      0.000000      0.000000     13.000000   \n",
       "25%         0.000000      0.000000      0.000000      0.000000     60.000000   \n",
       "50%         0.080000      0.020000      0.000000      0.010000     71.000000   \n",
       "75%         0.240000      0.110000      0.040000      0.030000     79.000000   \n",
       "max        41.360000     28.960000     10.220000     10.570000     98.000000   \n",
       "\n",
       "       User_Score Rating  \n",
       "count       10014   9949  \n",
       "unique         96      8  \n",
       "top           tbd      E  \n",
       "freq         2424   3990  \n",
       "mean          NaN    NaN  \n",
       "std           NaN    NaN  \n",
       "min           NaN    NaN  \n",
       "25%           NaN    NaN  \n",
       "50%           NaN    NaN  \n",
       "75%           NaN    NaN  \n",
       "max           NaN    NaN  "
      ]
     },
     "execution_count": 288,
     "metadata": {},
     "output_type": "execute_result"
    }
   ],
   "source": [
    "data.describe(include='all') # посмотрим статистические характеристики столбцов данных"
   ]
  },
  {
   "cell_type": "markdown",
   "metadata": {},
   "source": [
    "### Подготовка данных"
   ]
  },
  {
   "cell_type": "markdown",
   "metadata": {},
   "source": [
    "#### Перевод в нижний регистр"
   ]
  },
  {
   "cell_type": "code",
   "execution_count": 289,
   "metadata": {
    "scrolled": true
   },
   "outputs": [
    {
     "name": "stdout",
     "output_type": "stream",
     "text": [
      "<class 'pandas.core.frame.DataFrame'>\n",
      "RangeIndex: 16715 entries, 0 to 16714\n",
      "Data columns (total 11 columns):\n",
      " #   Column           Non-Null Count  Dtype  \n",
      "---  ------           --------------  -----  \n",
      " 0   name             16713 non-null  object \n",
      " 1   platform         16715 non-null  object \n",
      " 2   year_of_release  16446 non-null  float64\n",
      " 3   genre            16713 non-null  object \n",
      " 4   na_sales         16715 non-null  float64\n",
      " 5   eu_sales         16715 non-null  float64\n",
      " 6   jp_sales         16715 non-null  float64\n",
      " 7   other_sales      16715 non-null  float64\n",
      " 8   critic_score     8137 non-null   float64\n",
      " 9   user_score       10014 non-null  object \n",
      " 10  rating           9949 non-null   object \n",
      "dtypes: float64(6), object(5)\n",
      "memory usage: 1.4+ MB\n",
      "None\n"
     ]
    }
   ],
   "source": [
    "# приведём названия столбцов к нижнему регистру\n",
    "data.columns = [x.lower() for x in data.columns]\n",
    "print(data.info())"
   ]
  },
  {
   "cell_type": "markdown",
   "metadata": {},
   "source": [
    "#### Замена типов данных и устранение пропусков"
   ]
  },
  {
   "cell_type": "markdown",
   "metadata": {},
   "source": [
    "Посмотрим на типы данных. Нужно заменить: **year_of_release** (дробное число вместо даты), **user_score** (строка вместо дроби). Для удобства обработки данных заодно заменим пропуски."
   ]
  },
  {
   "cell_type": "code",
   "execution_count": 290,
   "metadata": {},
   "outputs": [
    {
     "name": "stdout",
     "output_type": "stream",
     "text": [
      "<class 'pandas.core.frame.DataFrame'>\n",
      "Int64Index: 16715 entries, 0 to 16714\n",
      "Data columns (total 11 columns):\n",
      " #   Column           Non-Null Count  Dtype  \n",
      "---  ------           --------------  -----  \n",
      " 0   name             16713 non-null  object \n",
      " 1   platform         16715 non-null  object \n",
      " 2   year_of_release  16446 non-null  float64\n",
      " 3   genre            16713 non-null  object \n",
      " 4   na_sales         16715 non-null  float64\n",
      " 5   eu_sales         16715 non-null  float64\n",
      " 6   jp_sales         16715 non-null  float64\n",
      " 7   other_sales      16715 non-null  float64\n",
      " 8   critic_score     8137 non-null   float64\n",
      " 9   user_score       10014 non-null  object \n",
      " 10  rating           9949 non-null   object \n",
      "dtypes: float64(6), object(5)\n",
      "memory usage: 1.5+ MB\n"
     ]
    }
   ],
   "source": [
    "# на всякий случай удалим явные дубли\n",
    "data = data.drop_duplicates()\n",
    "data.info()"
   ]
  },
  {
   "cell_type": "code",
   "execution_count": 291,
   "metadata": {},
   "outputs": [
    {
     "data": {
      "text/html": [
       "<div>\n",
       "<style scoped>\n",
       "    .dataframe tbody tr th:only-of-type {\n",
       "        vertical-align: middle;\n",
       "    }\n",
       "\n",
       "    .dataframe tbody tr th {\n",
       "        vertical-align: top;\n",
       "    }\n",
       "\n",
       "    .dataframe thead th {\n",
       "        text-align: right;\n",
       "    }\n",
       "</style>\n",
       "<table border=\"1\" class=\"dataframe\">\n",
       "  <thead>\n",
       "    <tr style=\"text-align: right;\">\n",
       "      <th></th>\n",
       "      <th>name</th>\n",
       "      <th>platform</th>\n",
       "      <th>year_of_release</th>\n",
       "      <th>genre</th>\n",
       "      <th>na_sales</th>\n",
       "      <th>eu_sales</th>\n",
       "      <th>jp_sales</th>\n",
       "      <th>other_sales</th>\n",
       "      <th>critic_score</th>\n",
       "      <th>user_score</th>\n",
       "      <th>rating</th>\n",
       "    </tr>\n",
       "  </thead>\n",
       "  <tbody>\n",
       "    <tr>\n",
       "      <th>604</th>\n",
       "      <td>Madden NFL 13</td>\n",
       "      <td>PS3</td>\n",
       "      <td>2012.0</td>\n",
       "      <td>Sports</td>\n",
       "      <td>2.11</td>\n",
       "      <td>0.22</td>\n",
       "      <td>0.00</td>\n",
       "      <td>0.23</td>\n",
       "      <td>83.0</td>\n",
       "      <td>5.5</td>\n",
       "      <td>E</td>\n",
       "    </tr>\n",
       "    <tr>\n",
       "      <th>659</th>\n",
       "      <td>NaN</td>\n",
       "      <td>GEN</td>\n",
       "      <td>1993.0</td>\n",
       "      <td>NaN</td>\n",
       "      <td>1.78</td>\n",
       "      <td>0.53</td>\n",
       "      <td>0.00</td>\n",
       "      <td>0.08</td>\n",
       "      <td>NaN</td>\n",
       "      <td>NaN</td>\n",
       "      <td>NaN</td>\n",
       "    </tr>\n",
       "    <tr>\n",
       "      <th>14244</th>\n",
       "      <td>NaN</td>\n",
       "      <td>GEN</td>\n",
       "      <td>1993.0</td>\n",
       "      <td>NaN</td>\n",
       "      <td>0.00</td>\n",
       "      <td>0.00</td>\n",
       "      <td>0.03</td>\n",
       "      <td>0.00</td>\n",
       "      <td>NaN</td>\n",
       "      <td>NaN</td>\n",
       "      <td>NaN</td>\n",
       "    </tr>\n",
       "    <tr>\n",
       "      <th>16230</th>\n",
       "      <td>Madden NFL 13</td>\n",
       "      <td>PS3</td>\n",
       "      <td>2012.0</td>\n",
       "      <td>Sports</td>\n",
       "      <td>0.00</td>\n",
       "      <td>0.01</td>\n",
       "      <td>0.00</td>\n",
       "      <td>0.00</td>\n",
       "      <td>83.0</td>\n",
       "      <td>5.5</td>\n",
       "      <td>E</td>\n",
       "    </tr>\n",
       "  </tbody>\n",
       "</table>\n",
       "</div>"
      ],
      "text/plain": [
       "                name platform  year_of_release   genre  na_sales  eu_sales  \\\n",
       "604    Madden NFL 13      PS3           2012.0  Sports      2.11      0.22   \n",
       "659              NaN      GEN           1993.0     NaN      1.78      0.53   \n",
       "14244            NaN      GEN           1993.0     NaN      0.00      0.00   \n",
       "16230  Madden NFL 13      PS3           2012.0  Sports      0.00      0.01   \n",
       "\n",
       "       jp_sales  other_sales  critic_score user_score rating  \n",
       "604        0.00         0.23          83.0        5.5      E  \n",
       "659        0.00         0.08           NaN        NaN    NaN  \n",
       "14244      0.03         0.00           NaN        NaN    NaN  \n",
       "16230      0.00         0.00          83.0        5.5      E  "
      ]
     },
     "execution_count": 291,
     "metadata": {},
     "output_type": "execute_result"
    }
   ],
   "source": [
    "# поищем неполные дубликаты\n",
    "data[data[['name', 'platform','year_of_release']].duplicated(keep=False)]"
   ]
  },
  {
   "cell_type": "code",
   "execution_count": 292,
   "metadata": {},
   "outputs": [],
   "source": [
    "# у нас две одинаковые игры, отбросим дубли\n",
    "data = data.drop (index=[16230, 14244])"
   ]
  },
  {
   "cell_type": "code",
   "execution_count": 293,
   "metadata": {},
   "outputs": [
    {
     "data": {
      "text/html": [
       "<div>\n",
       "<style scoped>\n",
       "    .dataframe tbody tr th:only-of-type {\n",
       "        vertical-align: middle;\n",
       "    }\n",
       "\n",
       "    .dataframe tbody tr th {\n",
       "        vertical-align: top;\n",
       "    }\n",
       "\n",
       "    .dataframe thead th {\n",
       "        text-align: right;\n",
       "    }\n",
       "</style>\n",
       "<table border=\"1\" class=\"dataframe\">\n",
       "  <thead>\n",
       "    <tr style=\"text-align: right;\">\n",
       "      <th></th>\n",
       "      <th>name</th>\n",
       "      <th>platform</th>\n",
       "      <th>year_of_release</th>\n",
       "      <th>genre</th>\n",
       "      <th>na_sales</th>\n",
       "      <th>eu_sales</th>\n",
       "      <th>jp_sales</th>\n",
       "      <th>other_sales</th>\n",
       "      <th>critic_score</th>\n",
       "      <th>user_score</th>\n",
       "      <th>rating</th>\n",
       "    </tr>\n",
       "  </thead>\n",
       "  <tbody>\n",
       "  </tbody>\n",
       "</table>\n",
       "</div>"
      ],
      "text/plain": [
       "Empty DataFrame\n",
       "Columns: [name, platform, year_of_release, genre, na_sales, eu_sales, jp_sales, other_sales, critic_score, user_score, rating]\n",
       "Index: []"
      ]
     },
     "execution_count": 293,
     "metadata": {},
     "output_type": "execute_result"
    }
   ],
   "source": [
    "# запустим проверку ещё раз\n",
    "data[data[['name', 'platform','year_of_release']].duplicated(keep=False)]"
   ]
  },
  {
   "cell_type": "code",
   "execution_count": 294,
   "metadata": {},
   "outputs": [
    {
     "data": {
      "text/plain": [
       "E       3989\n",
       "T       2961\n",
       "M       1563\n",
       "E10+    1420\n",
       "EC         8\n",
       "RP         3\n",
       "K-A        3\n",
       "AO         1\n",
       "Name: rating, dtype: int64"
      ]
     },
     "execution_count": 294,
     "metadata": {},
     "output_type": "execute_result"
    }
   ],
   "source": [
    "# поищем неявные дубликаты в рейтингах\n",
    "data['rating'].value_counts()"
   ]
  },
  {
   "cell_type": "code",
   "execution_count": 295,
   "metadata": {},
   "outputs": [],
   "source": [
    "# у нас есть редкие рейтинги, которые можно объединить с другими / заменить\n",
    "\n",
    "data.loc[data['rating'] == \"EC\", \"rating\"] = \"E\" # EC - для детей младшего возраста, заменим на \"для всех\"\n",
    "data.loc[data['rating'] == \"K-A\", \"rating\"] = \"E\" # K-A - kids to adults, тоже меняем на \"для всех\"\n",
    "data.loc[data['rating'] == \"AO\", \"rating\"] = \"M\" # adults only - заменим на М, для взрослых\n",
    "data.loc[data['rating'] == \"RP\", \"rating\"] = \"M\" # рейтинг ожидается, но близок к М, заменяем"
   ]
  },
  {
   "cell_type": "code",
   "execution_count": 296,
   "metadata": {},
   "outputs": [
    {
     "data": {
      "text/plain": [
       "E       4000\n",
       "T       2961\n",
       "M       1567\n",
       "E10+    1420\n",
       "Name: rating, dtype: int64"
      ]
     },
     "execution_count": 296,
     "metadata": {},
     "output_type": "execute_result"
    }
   ],
   "source": [
    "# посмотрим результат\n",
    "data['rating'].value_counts()"
   ]
  },
  {
   "cell_type": "code",
   "execution_count": 297,
   "metadata": {},
   "outputs": [
    {
     "data": {
      "text/plain": [
       "name                  1\n",
       "platform              0\n",
       "year_of_release     269\n",
       "genre                 1\n",
       "na_sales              0\n",
       "eu_sales              0\n",
       "jp_sales              0\n",
       "other_sales           0\n",
       "critic_score       8577\n",
       "user_score         6700\n",
       "rating             6765\n",
       "dtype: int64"
      ]
     },
     "execution_count": 297,
     "metadata": {},
     "output_type": "execute_result"
    }
   ],
   "source": [
    "data.isna().sum()"
   ]
  },
  {
   "cell_type": "code",
   "execution_count": 298,
   "metadata": {},
   "outputs": [],
   "source": [
    "# отбросим 2 пропуска в жанре, названии и годах\n",
    "data.dropna(subset=['genre', 'name', 'year_of_release'], inplace=True)\n",
    "\n",
    "# пропуски в оценках оставим так\n",
    "# их слишком много и они не критичны"
   ]
  },
  {
   "cell_type": "code",
   "execution_count": 299,
   "metadata": {},
   "outputs": [
    {
     "data": {
      "text/plain": [
       "name                  0\n",
       "platform              0\n",
       "year_of_release       0\n",
       "genre                 0\n",
       "na_sales              0\n",
       "eu_sales              0\n",
       "jp_sales              0\n",
       "other_sales           0\n",
       "critic_score       8461\n",
       "user_score         6605\n",
       "rating             6676\n",
       "dtype: int64"
      ]
     },
     "execution_count": 299,
     "metadata": {},
     "output_type": "execute_result"
    }
   ],
   "source": [
    "# проверим число пропусков\n",
    "data.isna().sum()"
   ]
  },
  {
   "cell_type": "code",
   "execution_count": 300,
   "metadata": {},
   "outputs": [],
   "source": [
    "# переведём столбец в формат даты, пропущенные значения переведём в NaT\n",
    "data['year_of_release'] = pd.to_datetime(data['year_of_release'], format='%Y', errors='coerce')"
   ]
  },
  {
   "cell_type": "code",
   "execution_count": 301,
   "metadata": {},
   "outputs": [
    {
     "data": {
      "text/html": [
       "<div>\n",
       "<style scoped>\n",
       "    .dataframe tbody tr th:only-of-type {\n",
       "        vertical-align: middle;\n",
       "    }\n",
       "\n",
       "    .dataframe tbody tr th {\n",
       "        vertical-align: top;\n",
       "    }\n",
       "\n",
       "    .dataframe thead th {\n",
       "        text-align: right;\n",
       "    }\n",
       "</style>\n",
       "<table border=\"1\" class=\"dataframe\">\n",
       "  <thead>\n",
       "    <tr style=\"text-align: right;\">\n",
       "      <th></th>\n",
       "      <th>name</th>\n",
       "      <th>platform</th>\n",
       "      <th>year_of_release</th>\n",
       "      <th>genre</th>\n",
       "      <th>na_sales</th>\n",
       "      <th>eu_sales</th>\n",
       "      <th>jp_sales</th>\n",
       "      <th>other_sales</th>\n",
       "      <th>critic_score</th>\n",
       "      <th>user_score</th>\n",
       "      <th>rating</th>\n",
       "    </tr>\n",
       "  </thead>\n",
       "  <tbody>\n",
       "    <tr>\n",
       "      <th>0</th>\n",
       "      <td>Wii Sports</td>\n",
       "      <td>Wii</td>\n",
       "      <td>2006</td>\n",
       "      <td>Sports</td>\n",
       "      <td>41.36</td>\n",
       "      <td>28.96</td>\n",
       "      <td>3.77</td>\n",
       "      <td>8.45</td>\n",
       "      <td>76.0</td>\n",
       "      <td>8</td>\n",
       "      <td>E</td>\n",
       "    </tr>\n",
       "    <tr>\n",
       "      <th>1</th>\n",
       "      <td>Super Mario Bros.</td>\n",
       "      <td>NES</td>\n",
       "      <td>1985</td>\n",
       "      <td>Platform</td>\n",
       "      <td>29.08</td>\n",
       "      <td>3.58</td>\n",
       "      <td>6.81</td>\n",
       "      <td>0.77</td>\n",
       "      <td>NaN</td>\n",
       "      <td>NaN</td>\n",
       "      <td>NaN</td>\n",
       "    </tr>\n",
       "    <tr>\n",
       "      <th>2</th>\n",
       "      <td>Mario Kart Wii</td>\n",
       "      <td>Wii</td>\n",
       "      <td>2008</td>\n",
       "      <td>Racing</td>\n",
       "      <td>15.68</td>\n",
       "      <td>12.76</td>\n",
       "      <td>3.79</td>\n",
       "      <td>3.29</td>\n",
       "      <td>82.0</td>\n",
       "      <td>8.3</td>\n",
       "      <td>E</td>\n",
       "    </tr>\n",
       "    <tr>\n",
       "      <th>3</th>\n",
       "      <td>Wii Sports Resort</td>\n",
       "      <td>Wii</td>\n",
       "      <td>2009</td>\n",
       "      <td>Sports</td>\n",
       "      <td>15.61</td>\n",
       "      <td>10.93</td>\n",
       "      <td>3.28</td>\n",
       "      <td>2.95</td>\n",
       "      <td>80.0</td>\n",
       "      <td>8</td>\n",
       "      <td>E</td>\n",
       "    </tr>\n",
       "    <tr>\n",
       "      <th>4</th>\n",
       "      <td>Pokemon Red/Pokemon Blue</td>\n",
       "      <td>GB</td>\n",
       "      <td>1996</td>\n",
       "      <td>Role-Playing</td>\n",
       "      <td>11.27</td>\n",
       "      <td>8.89</td>\n",
       "      <td>10.22</td>\n",
       "      <td>1.00</td>\n",
       "      <td>NaN</td>\n",
       "      <td>NaN</td>\n",
       "      <td>NaN</td>\n",
       "    </tr>\n",
       "  </tbody>\n",
       "</table>\n",
       "</div>"
      ],
      "text/plain": [
       "                       name platform  year_of_release         genre  na_sales  \\\n",
       "0                Wii Sports      Wii             2006        Sports     41.36   \n",
       "1         Super Mario Bros.      NES             1985      Platform     29.08   \n",
       "2            Mario Kart Wii      Wii             2008        Racing     15.68   \n",
       "3         Wii Sports Resort      Wii             2009        Sports     15.61   \n",
       "4  Pokemon Red/Pokemon Blue       GB             1996  Role-Playing     11.27   \n",
       "\n",
       "   eu_sales  jp_sales  other_sales  critic_score user_score rating  \n",
       "0     28.96      3.77         8.45          76.0          8      E  \n",
       "1      3.58      6.81         0.77           NaN        NaN    NaN  \n",
       "2     12.76      3.79         3.29          82.0        8.3      E  \n",
       "3     10.93      3.28         2.95          80.0          8      E  \n",
       "4      8.89     10.22         1.00           NaN        NaN    NaN  "
      ]
     },
     "execution_count": 301,
     "metadata": {},
     "output_type": "execute_result"
    }
   ],
   "source": [
    "# оставим в столбце только год\n",
    "data['year_of_release'] = data['year_of_release'].dt.year\n",
    "data.head()"
   ]
  },
  {
   "cell_type": "code",
   "execution_count": 302,
   "metadata": {},
   "outputs": [
    {
     "data": {
      "text/plain": [
       "tbd    2376\n",
       "7.8     322\n",
       "8       285\n",
       "8.2     276\n",
       "8.3     252\n",
       "Name: user_score, dtype: int64"
      ]
     },
     "execution_count": 302,
     "metadata": {},
     "output_type": "execute_result"
    }
   ],
   "source": [
    "data['user_score'].value_counts().head()"
   ]
  },
  {
   "cell_type": "markdown",
   "metadata": {},
   "source": [
    "У нас много оценок tbd - to be decided, неопределённых. Их нельзя заменить медианой или средним, но можно поставить заглушку для удобства обработки. "
   ]
  },
  {
   "cell_type": "code",
   "execution_count": 303,
   "metadata": {},
   "outputs": [],
   "source": [
    "# с практической точки зрения tbd — это NaN, заменим\n",
    "data.loc[data['user_score'] == \"tbd\", \"user_score\"] = np.nan"
   ]
  },
  {
   "cell_type": "code",
   "execution_count": 304,
   "metadata": {},
   "outputs": [],
   "source": [
    "# заменим пропуски на NaN (отсутствующие значения, пригодные для обработки)\n",
    "data['critic_score'] = data['critic_score'].fillna(np.nan)\n",
    "data['user_score'] = data['user_score'].fillna(np.nan)"
   ]
  },
  {
   "cell_type": "code",
   "execution_count": 305,
   "metadata": {},
   "outputs": [
    {
     "data": {
      "text/plain": [
       "name                  0\n",
       "platform              0\n",
       "year_of_release       0\n",
       "genre                 0\n",
       "na_sales              0\n",
       "eu_sales              0\n",
       "jp_sales              0\n",
       "other_sales           0\n",
       "critic_score       8461\n",
       "user_score         8981\n",
       "rating             6676\n",
       "dtype: int64"
      ]
     },
     "execution_count": 305,
     "metadata": {},
     "output_type": "execute_result"
    }
   ],
   "source": [
    "data.isna().sum()"
   ]
  },
  {
   "cell_type": "markdown",
   "metadata": {},
   "source": [
    "Пропущенных значений в оценках стало больше, но в целом там стало больше порядка. Нет путаницы с tbd и значениями-заглушками."
   ]
  },
  {
   "cell_type": "code",
   "execution_count": 306,
   "metadata": {},
   "outputs": [],
   "source": [
    "data['rating'] = data['rating'].fillna('NR')"
   ]
  },
  {
   "cell_type": "code",
   "execution_count": 307,
   "metadata": {},
   "outputs": [],
   "source": [
    "data['user_score'] = data['user_score'].astype(float)"
   ]
  },
  {
   "cell_type": "code",
   "execution_count": 308,
   "metadata": {},
   "outputs": [
    {
     "name": "stdout",
     "output_type": "stream",
     "text": [
      "<class 'pandas.core.frame.DataFrame'>\n",
      "Int64Index: 16443 entries, 0 to 16714\n",
      "Data columns (total 11 columns):\n",
      " #   Column           Non-Null Count  Dtype  \n",
      "---  ------           --------------  -----  \n",
      " 0   name             16443 non-null  object \n",
      " 1   platform         16443 non-null  object \n",
      " 2   year_of_release  16443 non-null  int64  \n",
      " 3   genre            16443 non-null  object \n",
      " 4   na_sales         16443 non-null  float64\n",
      " 5   eu_sales         16443 non-null  float64\n",
      " 6   jp_sales         16443 non-null  float64\n",
      " 7   other_sales      16443 non-null  float64\n",
      " 8   critic_score     7982 non-null   float64\n",
      " 9   user_score       7462 non-null   float64\n",
      " 10  rating           16443 non-null  object \n",
      "dtypes: float64(6), int64(1), object(4)\n",
      "memory usage: 1.5+ MB\n"
     ]
    }
   ],
   "source": [
    "data.info()"
   ]
  },
  {
   "cell_type": "markdown",
   "metadata": {},
   "source": [
    "**Откуда взялись пропуски?**\n",
    "\n",
    "**Скорее всего, некоторые игры просто не оценены: какие-то выпущены до появления рейтинга, какие-то вышли совсем недавно и ещё не успели заработать оценку. Что касается рейтинга, то он американский, на японском рынке есть свой рейнтинг. Также пропуски были в году релиза — возможно это необязательное поле, которое не заполняют, либо игра слишком старая и информация не сохранилась.**"
   ]
  },
  {
   "cell_type": "markdown",
   "metadata": {},
   "source": [
    "#### Столбец суммарных продаж"
   ]
  },
  {
   "cell_type": "code",
   "execution_count": 309,
   "metadata": {},
   "outputs": [
    {
     "data": {
      "text/html": [
       "<div>\n",
       "<style scoped>\n",
       "    .dataframe tbody tr th:only-of-type {\n",
       "        vertical-align: middle;\n",
       "    }\n",
       "\n",
       "    .dataframe tbody tr th {\n",
       "        vertical-align: top;\n",
       "    }\n",
       "\n",
       "    .dataframe thead th {\n",
       "        text-align: right;\n",
       "    }\n",
       "</style>\n",
       "<table border=\"1\" class=\"dataframe\">\n",
       "  <thead>\n",
       "    <tr style=\"text-align: right;\">\n",
       "      <th></th>\n",
       "      <th>name</th>\n",
       "      <th>platform</th>\n",
       "      <th>year_of_release</th>\n",
       "      <th>genre</th>\n",
       "      <th>na_sales</th>\n",
       "      <th>eu_sales</th>\n",
       "      <th>jp_sales</th>\n",
       "      <th>other_sales</th>\n",
       "      <th>critic_score</th>\n",
       "      <th>user_score</th>\n",
       "      <th>rating</th>\n",
       "      <th>total_sales</th>\n",
       "    </tr>\n",
       "  </thead>\n",
       "  <tbody>\n",
       "    <tr>\n",
       "      <th>0</th>\n",
       "      <td>Wii Sports</td>\n",
       "      <td>Wii</td>\n",
       "      <td>2006</td>\n",
       "      <td>Sports</td>\n",
       "      <td>41.36</td>\n",
       "      <td>28.96</td>\n",
       "      <td>3.77</td>\n",
       "      <td>8.45</td>\n",
       "      <td>76.0</td>\n",
       "      <td>8.0</td>\n",
       "      <td>E</td>\n",
       "      <td>82.54</td>\n",
       "    </tr>\n",
       "    <tr>\n",
       "      <th>1</th>\n",
       "      <td>Super Mario Bros.</td>\n",
       "      <td>NES</td>\n",
       "      <td>1985</td>\n",
       "      <td>Platform</td>\n",
       "      <td>29.08</td>\n",
       "      <td>3.58</td>\n",
       "      <td>6.81</td>\n",
       "      <td>0.77</td>\n",
       "      <td>NaN</td>\n",
       "      <td>NaN</td>\n",
       "      <td>NR</td>\n",
       "      <td>40.24</td>\n",
       "    </tr>\n",
       "    <tr>\n",
       "      <th>2</th>\n",
       "      <td>Mario Kart Wii</td>\n",
       "      <td>Wii</td>\n",
       "      <td>2008</td>\n",
       "      <td>Racing</td>\n",
       "      <td>15.68</td>\n",
       "      <td>12.76</td>\n",
       "      <td>3.79</td>\n",
       "      <td>3.29</td>\n",
       "      <td>82.0</td>\n",
       "      <td>8.3</td>\n",
       "      <td>E</td>\n",
       "      <td>35.52</td>\n",
       "    </tr>\n",
       "    <tr>\n",
       "      <th>3</th>\n",
       "      <td>Wii Sports Resort</td>\n",
       "      <td>Wii</td>\n",
       "      <td>2009</td>\n",
       "      <td>Sports</td>\n",
       "      <td>15.61</td>\n",
       "      <td>10.93</td>\n",
       "      <td>3.28</td>\n",
       "      <td>2.95</td>\n",
       "      <td>80.0</td>\n",
       "      <td>8.0</td>\n",
       "      <td>E</td>\n",
       "      <td>32.77</td>\n",
       "    </tr>\n",
       "    <tr>\n",
       "      <th>4</th>\n",
       "      <td>Pokemon Red/Pokemon Blue</td>\n",
       "      <td>GB</td>\n",
       "      <td>1996</td>\n",
       "      <td>Role-Playing</td>\n",
       "      <td>11.27</td>\n",
       "      <td>8.89</td>\n",
       "      <td>10.22</td>\n",
       "      <td>1.00</td>\n",
       "      <td>NaN</td>\n",
       "      <td>NaN</td>\n",
       "      <td>NR</td>\n",
       "      <td>31.38</td>\n",
       "    </tr>\n",
       "  </tbody>\n",
       "</table>\n",
       "</div>"
      ],
      "text/plain": [
       "                       name platform  year_of_release         genre  na_sales  \\\n",
       "0                Wii Sports      Wii             2006        Sports     41.36   \n",
       "1         Super Mario Bros.      NES             1985      Platform     29.08   \n",
       "2            Mario Kart Wii      Wii             2008        Racing     15.68   \n",
       "3         Wii Sports Resort      Wii             2009        Sports     15.61   \n",
       "4  Pokemon Red/Pokemon Blue       GB             1996  Role-Playing     11.27   \n",
       "\n",
       "   eu_sales  jp_sales  other_sales  critic_score  user_score rating  \\\n",
       "0     28.96      3.77         8.45          76.0         8.0      E   \n",
       "1      3.58      6.81         0.77           NaN         NaN     NR   \n",
       "2     12.76      3.79         3.29          82.0         8.3      E   \n",
       "3     10.93      3.28         2.95          80.0         8.0      E   \n",
       "4      8.89     10.22         1.00           NaN         NaN     NR   \n",
       "\n",
       "   total_sales  \n",
       "0        82.54  \n",
       "1        40.24  \n",
       "2        35.52  \n",
       "3        32.77  \n",
       "4        31.38  "
      ]
     },
     "execution_count": 309,
     "metadata": {},
     "output_type": "execute_result"
    }
   ],
   "source": [
    "#data['total_sales'] = data['na_sales'] + data['eu_sales'] + data['jp_sales'] + data['other_sales']\n",
    "\n",
    "# суммарные продажи во всех регионах запишем в отдельный столбец\n",
    "data['total_sales'] = data[['na_sales','eu_sales','jp_sales', 'other_sales']].sum(axis = 1)\n",
    "data.head()"
   ]
  },
  {
   "cell_type": "markdown",
   "metadata": {},
   "source": [
    "**Вывод: мы открыли базу данных и подготовили её к работе. Выяснили, что в данных много пропусков в оценках и рейтинге, встречаются единичные случаи пропусков в названии, жанре, плюс достаточно часто не проставлены годы выпуска. Также мы удалили дублирующуюся информацию и посчитали суммарные продажи по всем регионам.**"
   ]
  },
  {
   "cell_type": "code",
   "execution_count": 310,
   "metadata": {},
   "outputs": [
    {
     "data": {
      "text/html": [
       "<div>\n",
       "<style scoped>\n",
       "    .dataframe tbody tr th:only-of-type {\n",
       "        vertical-align: middle;\n",
       "    }\n",
       "\n",
       "    .dataframe tbody tr th {\n",
       "        vertical-align: top;\n",
       "    }\n",
       "\n",
       "    .dataframe thead th {\n",
       "        text-align: right;\n",
       "    }\n",
       "</style>\n",
       "<table border=\"1\" class=\"dataframe\">\n",
       "  <thead>\n",
       "    <tr style=\"text-align: right;\">\n",
       "      <th></th>\n",
       "      <th>name</th>\n",
       "      <th>platform</th>\n",
       "      <th>year_of_release</th>\n",
       "      <th>genre</th>\n",
       "      <th>na_sales</th>\n",
       "      <th>eu_sales</th>\n",
       "      <th>jp_sales</th>\n",
       "      <th>other_sales</th>\n",
       "      <th>critic_score</th>\n",
       "      <th>user_score</th>\n",
       "      <th>rating</th>\n",
       "      <th>total_sales</th>\n",
       "    </tr>\n",
       "  </thead>\n",
       "  <tbody>\n",
       "    <tr>\n",
       "      <th>1</th>\n",
       "      <td>Super Mario Bros.</td>\n",
       "      <td>NES</td>\n",
       "      <td>1985</td>\n",
       "      <td>Platform</td>\n",
       "      <td>29.08</td>\n",
       "      <td>3.58</td>\n",
       "      <td>6.81</td>\n",
       "      <td>0.77</td>\n",
       "      <td>NaN</td>\n",
       "      <td>NaN</td>\n",
       "      <td>NR</td>\n",
       "      <td>40.24</td>\n",
       "    </tr>\n",
       "    <tr>\n",
       "      <th>201</th>\n",
       "      <td>Super Mario Bros.</td>\n",
       "      <td>GB</td>\n",
       "      <td>1999</td>\n",
       "      <td>Platform</td>\n",
       "      <td>3.40</td>\n",
       "      <td>1.30</td>\n",
       "      <td>0.15</td>\n",
       "      <td>0.22</td>\n",
       "      <td>NaN</td>\n",
       "      <td>NaN</td>\n",
       "      <td>NR</td>\n",
       "      <td>5.07</td>\n",
       "    </tr>\n",
       "  </tbody>\n",
       "</table>\n",
       "</div>"
      ],
      "text/plain": [
       "                  name platform  year_of_release     genre  na_sales  \\\n",
       "1    Super Mario Bros.      NES             1985  Platform     29.08   \n",
       "201  Super Mario Bros.       GB             1999  Platform      3.40   \n",
       "\n",
       "     eu_sales  jp_sales  other_sales  critic_score  user_score rating  \\\n",
       "1        3.58      6.81         0.77           NaN         NaN     NR   \n",
       "201      1.30      0.15         0.22           NaN         NaN     NR   \n",
       "\n",
       "     total_sales  \n",
       "1          40.24  \n",
       "201         5.07  "
      ]
     },
     "execution_count": 310,
     "metadata": {},
     "output_type": "execute_result"
    }
   ],
   "source": [
    "data.query('name == \"Super Mario Bros.\"')"
   ]
  },
  {
   "cell_type": "code",
   "execution_count": 311,
   "metadata": {},
   "outputs": [
    {
     "data": {
      "text/html": [
       "<div>\n",
       "<style scoped>\n",
       "    .dataframe tbody tr th:only-of-type {\n",
       "        vertical-align: middle;\n",
       "    }\n",
       "\n",
       "    .dataframe tbody tr th {\n",
       "        vertical-align: top;\n",
       "    }\n",
       "\n",
       "    .dataframe thead th {\n",
       "        text-align: right;\n",
       "    }\n",
       "</style>\n",
       "<table border=\"1\" class=\"dataframe\">\n",
       "  <thead>\n",
       "    <tr style=\"text-align: right;\">\n",
       "      <th></th>\n",
       "      <th>name</th>\n",
       "      <th>platform</th>\n",
       "      <th>year_of_release</th>\n",
       "      <th>genre</th>\n",
       "      <th>na_sales</th>\n",
       "      <th>eu_sales</th>\n",
       "      <th>jp_sales</th>\n",
       "      <th>other_sales</th>\n",
       "      <th>critic_score</th>\n",
       "      <th>user_score</th>\n",
       "      <th>rating</th>\n",
       "      <th>total_sales</th>\n",
       "    </tr>\n",
       "  </thead>\n",
       "  <tbody>\n",
       "    <tr>\n",
       "      <th>1</th>\n",
       "      <td>Super Mario Bros.</td>\n",
       "      <td>NES</td>\n",
       "      <td>1985</td>\n",
       "      <td>Platform</td>\n",
       "      <td>29.08</td>\n",
       "      <td>3.58</td>\n",
       "      <td>6.81</td>\n",
       "      <td>0.77</td>\n",
       "      <td>NaN</td>\n",
       "      <td>NaN</td>\n",
       "      <td>NR</td>\n",
       "      <td>40.24</td>\n",
       "    </tr>\n",
       "    <tr>\n",
       "      <th>6</th>\n",
       "      <td>New Super Mario Bros.</td>\n",
       "      <td>DS</td>\n",
       "      <td>2006</td>\n",
       "      <td>Platform</td>\n",
       "      <td>11.28</td>\n",
       "      <td>9.14</td>\n",
       "      <td>6.50</td>\n",
       "      <td>2.88</td>\n",
       "      <td>89.0</td>\n",
       "      <td>8.5</td>\n",
       "      <td>E</td>\n",
       "      <td>29.80</td>\n",
       "    </tr>\n",
       "    <tr>\n",
       "      <th>8</th>\n",
       "      <td>New Super Mario Bros. Wii</td>\n",
       "      <td>Wii</td>\n",
       "      <td>2009</td>\n",
       "      <td>Platform</td>\n",
       "      <td>14.44</td>\n",
       "      <td>6.94</td>\n",
       "      <td>4.70</td>\n",
       "      <td>2.24</td>\n",
       "      <td>87.0</td>\n",
       "      <td>8.4</td>\n",
       "      <td>E</td>\n",
       "      <td>28.32</td>\n",
       "    </tr>\n",
       "    <tr>\n",
       "      <th>22</th>\n",
       "      <td>Super Mario Bros. 3</td>\n",
       "      <td>NES</td>\n",
       "      <td>1988</td>\n",
       "      <td>Platform</td>\n",
       "      <td>9.54</td>\n",
       "      <td>3.44</td>\n",
       "      <td>3.84</td>\n",
       "      <td>0.46</td>\n",
       "      <td>NaN</td>\n",
       "      <td>NaN</td>\n",
       "      <td>NR</td>\n",
       "      <td>17.28</td>\n",
       "    </tr>\n",
       "    <tr>\n",
       "      <th>62</th>\n",
       "      <td>New Super Mario Bros. 2</td>\n",
       "      <td>3DS</td>\n",
       "      <td>2012</td>\n",
       "      <td>Platform</td>\n",
       "      <td>3.66</td>\n",
       "      <td>3.14</td>\n",
       "      <td>2.47</td>\n",
       "      <td>0.63</td>\n",
       "      <td>78.0</td>\n",
       "      <td>7.2</td>\n",
       "      <td>E</td>\n",
       "      <td>9.90</td>\n",
       "    </tr>\n",
       "    <tr>\n",
       "      <th>98</th>\n",
       "      <td>Super Mario Bros. 2</td>\n",
       "      <td>NES</td>\n",
       "      <td>1988</td>\n",
       "      <td>Platform</td>\n",
       "      <td>5.39</td>\n",
       "      <td>1.18</td>\n",
       "      <td>0.70</td>\n",
       "      <td>0.19</td>\n",
       "      <td>NaN</td>\n",
       "      <td>NaN</td>\n",
       "      <td>NR</td>\n",
       "      <td>7.46</td>\n",
       "    </tr>\n",
       "    <tr>\n",
       "      <th>185</th>\n",
       "      <td>New Super Mario Bros. U</td>\n",
       "      <td>WiiU</td>\n",
       "      <td>2012</td>\n",
       "      <td>Platform</td>\n",
       "      <td>2.30</td>\n",
       "      <td>1.34</td>\n",
       "      <td>1.27</td>\n",
       "      <td>0.32</td>\n",
       "      <td>84.0</td>\n",
       "      <td>8.1</td>\n",
       "      <td>E</td>\n",
       "      <td>5.23</td>\n",
       "    </tr>\n",
       "    <tr>\n",
       "      <th>187</th>\n",
       "      <td>Super Mario Bros. 3</td>\n",
       "      <td>GBA</td>\n",
       "      <td>2003</td>\n",
       "      <td>Platform</td>\n",
       "      <td>2.93</td>\n",
       "      <td>1.25</td>\n",
       "      <td>0.83</td>\n",
       "      <td>0.20</td>\n",
       "      <td>NaN</td>\n",
       "      <td>NaN</td>\n",
       "      <td>NR</td>\n",
       "      <td>5.21</td>\n",
       "    </tr>\n",
       "    <tr>\n",
       "      <th>201</th>\n",
       "      <td>Super Mario Bros.</td>\n",
       "      <td>GB</td>\n",
       "      <td>1999</td>\n",
       "      <td>Platform</td>\n",
       "      <td>3.40</td>\n",
       "      <td>1.30</td>\n",
       "      <td>0.15</td>\n",
       "      <td>0.22</td>\n",
       "      <td>NaN</td>\n",
       "      <td>NaN</td>\n",
       "      <td>NR</td>\n",
       "      <td>5.07</td>\n",
       "    </tr>\n",
       "    <tr>\n",
       "      <th>574</th>\n",
       "      <td>Super Mario Bros.: The Lost Levels</td>\n",
       "      <td>NES</td>\n",
       "      <td>1986</td>\n",
       "      <td>Platform</td>\n",
       "      <td>0.00</td>\n",
       "      <td>0.00</td>\n",
       "      <td>2.65</td>\n",
       "      <td>0.00</td>\n",
       "      <td>NaN</td>\n",
       "      <td>NaN</td>\n",
       "      <td>NR</td>\n",
       "      <td>2.65</td>\n",
       "    </tr>\n",
       "    <tr>\n",
       "      <th>1342</th>\n",
       "      <td>Classic NES Series: Super Mario Bros.</td>\n",
       "      <td>GBA</td>\n",
       "      <td>2004</td>\n",
       "      <td>Platform</td>\n",
       "      <td>0.00</td>\n",
       "      <td>0.00</td>\n",
       "      <td>1.39</td>\n",
       "      <td>0.03</td>\n",
       "      <td>84.0</td>\n",
       "      <td>8.6</td>\n",
       "      <td>E</td>\n",
       "      <td>1.42</td>\n",
       "    </tr>\n",
       "    <tr>\n",
       "      <th>4072</th>\n",
       "      <td>Puzzle &amp; Dragons Z + Super Mario Bros. Edition</td>\n",
       "      <td>3DS</td>\n",
       "      <td>2015</td>\n",
       "      <td>Puzzle</td>\n",
       "      <td>0.06</td>\n",
       "      <td>0.07</td>\n",
       "      <td>0.34</td>\n",
       "      <td>0.01</td>\n",
       "      <td>NaN</td>\n",
       "      <td>NaN</td>\n",
       "      <td>NR</td>\n",
       "      <td>0.48</td>\n",
       "    </tr>\n",
       "    <tr>\n",
       "      <th>4569</th>\n",
       "      <td>Famicom Mini: Super Mario Bros. 2</td>\n",
       "      <td>GBA</td>\n",
       "      <td>2004</td>\n",
       "      <td>Platform</td>\n",
       "      <td>0.00</td>\n",
       "      <td>0.00</td>\n",
       "      <td>0.41</td>\n",
       "      <td>0.01</td>\n",
       "      <td>NaN</td>\n",
       "      <td>NaN</td>\n",
       "      <td>NR</td>\n",
       "      <td>0.42</td>\n",
       "    </tr>\n",
       "  </tbody>\n",
       "</table>\n",
       "</div>"
      ],
      "text/plain": [
       "                                                name platform  \\\n",
       "1                                  Super Mario Bros.      NES   \n",
       "6                              New Super Mario Bros.       DS   \n",
       "8                          New Super Mario Bros. Wii      Wii   \n",
       "22                               Super Mario Bros. 3      NES   \n",
       "62                           New Super Mario Bros. 2      3DS   \n",
       "98                               Super Mario Bros. 2      NES   \n",
       "185                          New Super Mario Bros. U     WiiU   \n",
       "187                              Super Mario Bros. 3      GBA   \n",
       "201                                Super Mario Bros.       GB   \n",
       "574               Super Mario Bros.: The Lost Levels      NES   \n",
       "1342           Classic NES Series: Super Mario Bros.      GBA   \n",
       "4072  Puzzle & Dragons Z + Super Mario Bros. Edition      3DS   \n",
       "4569               Famicom Mini: Super Mario Bros. 2      GBA   \n",
       "\n",
       "      year_of_release     genre  na_sales  eu_sales  jp_sales  other_sales  \\\n",
       "1                1985  Platform     29.08      3.58      6.81         0.77   \n",
       "6                2006  Platform     11.28      9.14      6.50         2.88   \n",
       "8                2009  Platform     14.44      6.94      4.70         2.24   \n",
       "22               1988  Platform      9.54      3.44      3.84         0.46   \n",
       "62               2012  Platform      3.66      3.14      2.47         0.63   \n",
       "98               1988  Platform      5.39      1.18      0.70         0.19   \n",
       "185              2012  Platform      2.30      1.34      1.27         0.32   \n",
       "187              2003  Platform      2.93      1.25      0.83         0.20   \n",
       "201              1999  Platform      3.40      1.30      0.15         0.22   \n",
       "574              1986  Platform      0.00      0.00      2.65         0.00   \n",
       "1342             2004  Platform      0.00      0.00      1.39         0.03   \n",
       "4072             2015    Puzzle      0.06      0.07      0.34         0.01   \n",
       "4569             2004  Platform      0.00      0.00      0.41         0.01   \n",
       "\n",
       "      critic_score  user_score rating  total_sales  \n",
       "1              NaN         NaN     NR        40.24  \n",
       "6             89.0         8.5      E        29.80  \n",
       "8             87.0         8.4      E        28.32  \n",
       "22             NaN         NaN     NR        17.28  \n",
       "62            78.0         7.2      E         9.90  \n",
       "98             NaN         NaN     NR         7.46  \n",
       "185           84.0         8.1      E         5.23  \n",
       "187            NaN         NaN     NR         5.21  \n",
       "201            NaN         NaN     NR         5.07  \n",
       "574            NaN         NaN     NR         2.65  \n",
       "1342          84.0         8.6      E         1.42  \n",
       "4072           NaN         NaN     NR         0.48  \n",
       "4569           NaN         NaN     NR         0.42  "
      ]
     },
     "execution_count": 311,
     "metadata": {},
     "output_type": "execute_result"
    }
   ],
   "source": [
    "data[data['name'].str.lower().str.contains('super mario bros')]"
   ]
  },
  {
   "cell_type": "markdown",
   "metadata": {},
   "source": [
    "### Исследовательский анализ данных"
   ]
  },
  {
   "cell_type": "markdown",
   "metadata": {},
   "source": [
    "#### Число игр по годам"
   ]
  },
  {
   "cell_type": "code",
   "execution_count": 312,
   "metadata": {},
   "outputs": [
    {
     "data": {
      "image/png": "[encoded data removed]",
      "text/plain": [
       "<Figure size 396x554.4 with 1 Axes>"
      ]
     },
     "metadata": {},
     "output_type": "display_data"
    }
   ],
   "source": [
    "# посмотрим, сколько игр выпускалось в разные годы\n",
    "data.pivot_table(values='name', index='year_of_release', aggfunc='count').plot(grid=True);"
   ]
  },
  {
   "cell_type": "code",
   "execution_count": 313,
   "metadata": {},
   "outputs": [
    {
     "data": {
      "text/html": [
       "<div>\n",
       "<style scoped>\n",
       "    .dataframe tbody tr th:only-of-type {\n",
       "        vertical-align: middle;\n",
       "    }\n",
       "\n",
       "    .dataframe tbody tr th {\n",
       "        vertical-align: top;\n",
       "    }\n",
       "\n",
       "    .dataframe thead th {\n",
       "        text-align: right;\n",
       "    }\n",
       "</style>\n",
       "<table border=\"1\" class=\"dataframe\">\n",
       "  <thead>\n",
       "    <tr style=\"text-align: right;\">\n",
       "      <th></th>\n",
       "      <th>name</th>\n",
       "    </tr>\n",
       "    <tr>\n",
       "      <th>year_of_release</th>\n",
       "      <th></th>\n",
       "    </tr>\n",
       "  </thead>\n",
       "  <tbody>\n",
       "    <tr>\n",
       "      <th>1994</th>\n",
       "      <td>121</td>\n",
       "    </tr>\n",
       "    <tr>\n",
       "      <th>1993</th>\n",
       "      <td>60</td>\n",
       "    </tr>\n",
       "    <tr>\n",
       "      <th>1981</th>\n",
       "      <td>46</td>\n",
       "    </tr>\n",
       "    <tr>\n",
       "      <th>1992</th>\n",
       "      <td>43</td>\n",
       "    </tr>\n",
       "    <tr>\n",
       "      <th>1991</th>\n",
       "      <td>41</td>\n",
       "    </tr>\n",
       "    <tr>\n",
       "      <th>1982</th>\n",
       "      <td>36</td>\n",
       "    </tr>\n",
       "    <tr>\n",
       "      <th>1986</th>\n",
       "      <td>21</td>\n",
       "    </tr>\n",
       "    <tr>\n",
       "      <th>1989</th>\n",
       "      <td>17</td>\n",
       "    </tr>\n",
       "    <tr>\n",
       "      <th>1983</th>\n",
       "      <td>17</td>\n",
       "    </tr>\n",
       "    <tr>\n",
       "      <th>1990</th>\n",
       "      <td>16</td>\n",
       "    </tr>\n",
       "    <tr>\n",
       "      <th>1987</th>\n",
       "      <td>16</td>\n",
       "    </tr>\n",
       "    <tr>\n",
       "      <th>1988</th>\n",
       "      <td>15</td>\n",
       "    </tr>\n",
       "    <tr>\n",
       "      <th>1985</th>\n",
       "      <td>14</td>\n",
       "    </tr>\n",
       "    <tr>\n",
       "      <th>1984</th>\n",
       "      <td>14</td>\n",
       "    </tr>\n",
       "    <tr>\n",
       "      <th>1980</th>\n",
       "      <td>9</td>\n",
       "    </tr>\n",
       "  </tbody>\n",
       "</table>\n",
       "</div>"
      ],
      "text/plain": [
       "                 name\n",
       "year_of_release      \n",
       "1994              121\n",
       "1993               60\n",
       "1981               46\n",
       "1992               43\n",
       "1991               41\n",
       "1982               36\n",
       "1986               21\n",
       "1989               17\n",
       "1983               17\n",
       "1990               16\n",
       "1987               16\n",
       "1988               15\n",
       "1985               14\n",
       "1984               14\n",
       "1980                9"
      ]
     },
     "execution_count": 313,
     "metadata": {},
     "output_type": "execute_result"
    }
   ],
   "source": [
    "# посмотрим, в какие годы было меньше всего игр\n",
    "data.pivot_table(values='name', index='year_of_release', aggfunc='count').sort_values('name', ascending=False).tail(15)"
   ]
  },
  {
   "cell_type": "code",
   "execution_count": 314,
   "metadata": {},
   "outputs": [],
   "source": [
    "# до 1994 года игр выходило очень мало, эти данные можно смело отбросить\n",
    "data = data.query('year_of_release >= 1994')"
   ]
  },
  {
   "cell_type": "code",
   "execution_count": 315,
   "metadata": {},
   "outputs": [
    {
     "data": {
      "image/png": "[encoded data removed]",
      "text/plain": [
       "<Figure size 396x554.4 with 1 Axes>"
      ]
     },
     "metadata": {},
     "output_type": "display_data"
    }
   ],
   "source": [
    "# посмотрим на обновлённый график\n",
    "data.pivot_table(values='name', index='year_of_release', aggfunc='count').plot(style='-o', grid=True);"
   ]
  },
  {
   "cell_type": "markdown",
   "metadata": {},
   "source": [
    "#### Продажи по платформам"
   ]
  },
  {
   "cell_type": "code",
   "execution_count": 316,
   "metadata": {},
   "outputs": [
    {
     "data": {
      "text/html": [
       "<div>\n",
       "<style scoped>\n",
       "    .dataframe tbody tr th:only-of-type {\n",
       "        vertical-align: middle;\n",
       "    }\n",
       "\n",
       "    .dataframe tbody tr th {\n",
       "        vertical-align: top;\n",
       "    }\n",
       "\n",
       "    .dataframe thead th {\n",
       "        text-align: right;\n",
       "    }\n",
       "</style>\n",
       "<table border=\"1\" class=\"dataframe\">\n",
       "  <thead>\n",
       "    <tr style=\"text-align: right;\">\n",
       "      <th></th>\n",
       "      <th>total_sales</th>\n",
       "    </tr>\n",
       "    <tr>\n",
       "      <th>platform</th>\n",
       "      <th></th>\n",
       "    </tr>\n",
       "  </thead>\n",
       "  <tbody>\n",
       "    <tr>\n",
       "      <th>PS2</th>\n",
       "      <td>1233.56</td>\n",
       "    </tr>\n",
       "    <tr>\n",
       "      <th>X360</th>\n",
       "      <td>961.24</td>\n",
       "    </tr>\n",
       "    <tr>\n",
       "      <th>PS3</th>\n",
       "      <td>931.33</td>\n",
       "    </tr>\n",
       "    <tr>\n",
       "      <th>Wii</th>\n",
       "      <td>891.18</td>\n",
       "    </tr>\n",
       "    <tr>\n",
       "      <th>DS</th>\n",
       "      <td>802.76</td>\n",
       "    </tr>\n",
       "    <tr>\n",
       "      <th>PS</th>\n",
       "      <td>727.58</td>\n",
       "    </tr>\n",
       "    <tr>\n",
       "      <th>PS4</th>\n",
       "      <td>314.14</td>\n",
       "    </tr>\n",
       "    <tr>\n",
       "      <th>GBA</th>\n",
       "      <td>312.88</td>\n",
       "    </tr>\n",
       "    <tr>\n",
       "      <th>PSP</th>\n",
       "      <td>289.53</td>\n",
       "    </tr>\n",
       "    <tr>\n",
       "      <th>3DS</th>\n",
       "      <td>257.81</td>\n",
       "    </tr>\n",
       "  </tbody>\n",
       "</table>\n",
       "</div>"
      ],
      "text/plain": [
       "          total_sales\n",
       "platform             \n",
       "PS2           1233.56\n",
       "X360           961.24\n",
       "PS3            931.33\n",
       "Wii            891.18\n",
       "DS             802.76\n",
       "PS             727.58\n",
       "PS4            314.14\n",
       "GBA            312.88\n",
       "PSP            289.53\n",
       "3DS            257.81"
      ]
     },
     "execution_count": 316,
     "metadata": {},
     "output_type": "execute_result"
    }
   ],
   "source": [
    "# посмотрим топ-10 платформ по объёму продаж\n",
    "top_platform = data.groupby(['platform']).agg({'total_sales': 'sum'}).sort_values('total_sales', ascending=False).head(10)\n",
    "top_platform"
   ]
  },
  {
   "cell_type": "markdown",
   "metadata": {},
   "source": [
    "При этом с большим отрывом выделяются 6 платформ: PS2, X360, PS3, Wii, DS, PS. Посмотрим, как в какие годы выходили игры на них и как с годами менялась ситуация."
   ]
  },
  {
   "cell_type": "code",
   "execution_count": 317,
   "metadata": {},
   "outputs": [
    {
     "data": {
      "text/plain": [
       "Index(['PS2', 'X360', 'PS3', 'Wii', 'DS', 'PS', 'PS4', 'GBA', 'PSP', '3DS'], dtype='object', name='platform')"
      ]
     },
     "execution_count": 317,
     "metadata": {},
     "output_type": "execute_result"
    }
   ],
   "source": [
    "top_platform_names = top_platform.index\n",
    "top_platform_names"
   ]
  },
  {
   "cell_type": "code",
   "execution_count": 318,
   "metadata": {},
   "outputs": [
    {
     "data": {
      "image/png": "[encoded data removed]",
      "text/plain": [
       "<Figure size 1080x360 with 1 Axes>"
      ]
     },
     "metadata": {},
     "output_type": "display_data"
    }
   ],
   "source": [
    "# посмотрим уровень продаж платформ по годам\n",
    "data[data['platform'].isin(top_platform_names)]\\\n",
    ".pivot_table(index='year_of_release', columns='platform', values='total_sales', aggfunc='sum')\\\n",
    "    .plot(kind='bar', figsize=(15,5), width=1.2);"
   ]
  },
  {
   "cell_type": "markdown",
   "metadata": {},
   "source": [
    "**PS**"
   ]
  },
  {
   "cell_type": "code",
   "execution_count": 319,
   "metadata": {},
   "outputs": [
    {
     "data": {
      "image/png": "[encoded data removed]",
      "text/plain": [
       "<Figure size 396x554.4 with 1 Axes>"
      ]
     },
     "metadata": {},
     "output_type": "display_data"
    }
   ],
   "source": [
    "data.query('platform == \"PS\"').pivot_table(index='year_of_release', values='total_sales', aggfunc='sum')\\\n",
    "    .plot(style='-o', grid=True);"
   ]
  },
  {
   "cell_type": "code",
   "execution_count": 320,
   "metadata": {},
   "outputs": [
    {
     "data": {
      "text/plain": [
       "10"
      ]
     },
     "execution_count": 320,
     "metadata": {},
     "output_type": "execute_result"
    }
   ],
   "source": [
    "data.query('platform == \"PS\"')['year_of_release'].max() + 1 - data.query('platform == \"PS\"')['year_of_release'].min()"
   ]
  },
  {
   "cell_type": "markdown",
   "metadata": {},
   "source": [
    "Платформа PS существовала 10 лет (на самом деле может и больше, поскольку мы срезали хвост до 1994 года). При этом на пике она была 3 года: с 1997 по 1999 год. Можно сказать, что 5 лет она росла, и ещё 5 лет падала."
   ]
  },
  {
   "cell_type": "markdown",
   "metadata": {},
   "source": [
    "**PS2**"
   ]
  },
  {
   "cell_type": "code",
   "execution_count": 321,
   "metadata": {},
   "outputs": [
    {
     "data": {
      "image/png": "[encoded data removed]",
      "text/plain": [
       "<Figure size 396x554.4 with 1 Axes>"
      ]
     },
     "metadata": {},
     "output_type": "display_data"
    }
   ],
   "source": [
    "data.query('platform == \"PS2\"').pivot_table(index='year_of_release', values='total_sales', aggfunc='sum')\\\n",
    "    .plot(style='-o', grid=True);"
   ]
  },
  {
   "cell_type": "code",
   "execution_count": 322,
   "metadata": {
    "scrolled": true
   },
   "outputs": [
    {
     "data": {
      "text/plain": [
       "12"
      ]
     },
     "execution_count": 322,
     "metadata": {},
     "output_type": "execute_result"
    }
   ],
   "source": [
    "data.query('platform == \"PS2\"')['year_of_release'].max() + 1 - data.query('platform == \"PS2\"')['year_of_release'].min()"
   ]
  },
  {
   "cell_type": "markdown",
   "metadata": {},
   "source": [
    "Платформа PS2 существовала 12 лет — с 2000 по 2011 год. При этом на пике она была 5 лет: после 3 лет пиковой активности (2002-2004 год) начался период резкого спада.\n",
    "Здесь видно, что фактически PS2 стала причиной резкого падения популярности платформы PS — люди просто перешли на более свежую версию."
   ]
  },
  {
   "cell_type": "markdown",
   "metadata": {},
   "source": [
    "**PS3**"
   ]
  },
  {
   "cell_type": "code",
   "execution_count": 323,
   "metadata": {},
   "outputs": [
    {
     "data": {
      "image/png": "[encoded data removed]",
      "text/plain": [
       "<Figure size 396x554.4 with 1 Axes>"
      ]
     },
     "metadata": {},
     "output_type": "display_data"
    }
   ],
   "source": [
    "data.query('platform == \"PS3\"').pivot_table(index='year_of_release', values='total_sales', aggfunc='sum')\\\n",
    "    .plot(style='-o', grid=True);"
   ]
  },
  {
   "cell_type": "code",
   "execution_count": 324,
   "metadata": {},
   "outputs": [
    {
     "data": {
      "text/plain": [
       "11"
      ]
     },
     "execution_count": 324,
     "metadata": {},
     "output_type": "execute_result"
    }
   ],
   "source": [
    "data.query('platform == \"PS3\"')['year_of_release'].max() + 1 - data.query('platform == \"PS3\"')['year_of_release'].min()"
   ]
  },
  {
   "cell_type": "markdown",
   "metadata": {},
   "source": [
    "Платформа PS3 существовала 11 лет — с 2006 по 2016 год. При этом на пике она была 3-5 лет: примерно с 2008 по 2013 год. Резкое падение началось после 2013 года."
   ]
  },
  {
   "cell_type": "markdown",
   "metadata": {},
   "source": [
    "**DS**"
   ]
  },
  {
   "cell_type": "code",
   "execution_count": 325,
   "metadata": {
    "scrolled": true
   },
   "outputs": [
    {
     "data": {
      "image/png": "[encoded data removed]",
      "text/plain": [
       "<Figure size 396x554.4 with 1 Axes>"
      ]
     },
     "metadata": {},
     "output_type": "display_data"
    }
   ],
   "source": [
    "data.query('platform == \"DS\"').pivot_table(index='year_of_release', values='total_sales', aggfunc='sum')\\\n",
    "    .plot(style='-o', grid=True);"
   ]
  },
  {
   "cell_type": "code",
   "execution_count": 326,
   "metadata": {
    "scrolled": true
   },
   "outputs": [
    {
     "data": {
      "text/plain": [
       "10"
      ]
     },
     "execution_count": 326,
     "metadata": {},
     "output_type": "execute_result"
    }
   ],
   "source": [
    "data.query('platform == \"DS\"')['year_of_release'].max() + 1 - data.query('platform == \"DS\"')['year_of_release'].min()"
   ]
  },
  {
   "cell_type": "markdown",
   "metadata": {},
   "source": [
    "Платформа DS была на пике 5 лет: с 2005 по 2009 год и существовала 10 лет. Судя по годам, конкурировала с PS2 (возможно именно она поспособствовала её резкому спаду) и PS3 (она в этот момент только набирала популярность)."
   ]
  },
  {
   "cell_type": "markdown",
   "metadata": {},
   "source": [
    "**X360**"
   ]
  },
  {
   "cell_type": "code",
   "execution_count": 327,
   "metadata": {},
   "outputs": [
    {
     "data": {
      "image/png": "[encoded data removed]",
      "text/plain": [
       "<Figure size 396x554.4 with 1 Axes>"
      ]
     },
     "metadata": {},
     "output_type": "display_data"
    }
   ],
   "source": [
    "data.query('platform == \"X360\"').pivot_table(index='year_of_release', values='total_sales', aggfunc='sum')\\\n",
    "    .plot(style='-o', grid=True);"
   ]
  },
  {
   "cell_type": "code",
   "execution_count": 328,
   "metadata": {},
   "outputs": [
    {
     "data": {
      "text/plain": [
       "12"
      ]
     },
     "execution_count": 328,
     "metadata": {},
     "output_type": "execute_result"
    }
   ],
   "source": [
    "data.query('platform == \"X360\"')['year_of_release'].max() + 1 - data.query('platform == \"X360\"')['year_of_release'].min()"
   ]
  },
  {
   "cell_type": "markdown",
   "metadata": {},
   "source": [
    "Платформа X360 продержалась 12 лет: c 2005 по 2016 год. На пике она была с 2008 по 2011 год. Активно конкурировала с PS3."
   ]
  },
  {
   "cell_type": "markdown",
   "metadata": {},
   "source": [
    "**Wii**"
   ]
  },
  {
   "cell_type": "code",
   "execution_count": 329,
   "metadata": {
    "scrolled": true
   },
   "outputs": [
    {
     "data": {
      "image/png": "[encoded data removed]",
      "text/plain": [
       "<Figure size 396x554.4 with 1 Axes>"
      ]
     },
     "metadata": {},
     "output_type": "display_data"
    }
   ],
   "source": [
    "data.query('platform == \"Wii\"').pivot_table(index='year_of_release', values='total_sales', aggfunc='sum')\\\n",
    "    .plot(style='-o', grid=True);"
   ]
  },
  {
   "cell_type": "code",
   "execution_count": 330,
   "metadata": {},
   "outputs": [
    {
     "data": {
      "text/plain": [
       "11"
      ]
     },
     "execution_count": 330,
     "metadata": {},
     "output_type": "execute_result"
    }
   ],
   "source": [
    "data.query('platform == \"Wii\"')['year_of_release'].max() + 1 - data.query('platform == \"Wii\"')['year_of_release'].min()"
   ]
  },
  {
   "cell_type": "markdown",
   "metadata": {},
   "source": [
    "Платформа Wii просуществовала 11 лет: с 2006 по 2016 год. На пике была недолго, буквально 2 года, после 2009 года произошло резкое падение. Играла на рынке одновременно с PS3, DS, X360."
   ]
  },
  {
   "cell_type": "markdown",
   "metadata": {},
   "source": [
    "**Вывод: в среднем платформы существуют на рынке 10-12 лет, при этом на пике они бывают 2-5 лет, не больше. Кроме того, мы видим, что 2012 год был тяжёлым для игровой индустрии (\"докатился\" кризис 2008-2009 года, плюс 2012 год был признан самым тяжёлым для розничных продаж). Таким образом, сделаем вывод, что анализировать индустрию стоит максимум за 4 последних года, избегая 2012 год, когда рынки трясло.**"
   ]
  },
  {
   "cell_type": "markdown",
   "metadata": {},
   "source": [
    "#### Отбор актуальных данных"
   ]
  },
  {
   "cell_type": "markdown",
   "metadata": {},
   "source": [
    "Перед нами стоит задача — построить прогноз на 2017 год. Возьмём 4 года, с 2013 по 2016 годы. Этого срока достаточно для анализа платформ (соответствует их жизненному циклу), плюс мы не задеваем переломный 2012 год, который бессмысленно брать для анализа.\n",
    "Отбросим данные за прошлые периоды."
   ]
  },
  {
   "cell_type": "code",
   "execution_count": 331,
   "metadata": {},
   "outputs": [
    {
     "name": "stdout",
     "output_type": "stream",
     "text": [
      "<class 'pandas.core.frame.DataFrame'>\n",
      "Int64Index: 2233 entries, 16 to 16714\n",
      "Data columns (total 12 columns):\n",
      " #   Column           Non-Null Count  Dtype  \n",
      "---  ------           --------------  -----  \n",
      " 0   name             2233 non-null   object \n",
      " 1   platform         2233 non-null   object \n",
      " 2   year_of_release  2233 non-null   int64  \n",
      " 3   genre            2233 non-null   object \n",
      " 4   na_sales         2233 non-null   float64\n",
      " 5   eu_sales         2233 non-null   float64\n",
      " 6   jp_sales         2233 non-null   float64\n",
      " 7   other_sales      2233 non-null   float64\n",
      " 8   critic_score     991 non-null    float64\n",
      " 9   user_score       1192 non-null   float64\n",
      " 10  rating           2233 non-null   object \n",
      " 11  total_sales      2233 non-null   float64\n",
      "dtypes: float64(7), int64(1), object(4)\n",
      "memory usage: 226.8+ KB\n"
     ]
    }
   ],
   "source": [
    "data = data.query('year_of_release > 2012')\n",
    "data.info()"
   ]
  },
  {
   "cell_type": "markdown",
   "metadata": {},
   "source": [
    "#### Оценка платформ: лидеры, растущие, падающие"
   ]
  },
  {
   "cell_type": "code",
   "execution_count": 332,
   "metadata": {
    "scrolled": true
   },
   "outputs": [
    {
     "data": {
      "image/png": "[encoded data removed]",
      "text/plain": [
       "<Figure size 648x648 with 2 Axes>"
      ]
     },
     "metadata": {},
     "output_type": "display_data"
    }
   ],
   "source": [
    "plt.figure(figsize=(9,9))\n",
    "plt.title('Продажи на платформах по каждому году')\n",
    "\n",
    "(sns.heatmap(data.pivot_table(index='platform', columns='year_of_release', values='total_sales', aggfunc='sum')\\\n",
    "             , annot=True, cmap=\"crest\",linewidths=1))\n",
    "plt.ylabel('Название платформы')\n",
    "plt.xlabel('Годы анализа')\n",
    "plt.grid(True);"
   ]
  },
  {
   "cell_type": "markdown",
   "metadata": {},
   "source": [
    "* **Лидирующие платформы:** PS4, XOne. Даже с учётом просадки рынка они удерживают уровень продаж.\n",
    "\n",
    "* **Потенциально прибыльные платформы:** неоднозначные позиции у WiiU (держался на одном уровне, потом упал вместе с рынком), PC и PSV (в 2014 году выросли, затем медленное падение вместе с рынком). Также сюда отнесём и лидирующие PS4 и XOne — они тоже могут потенциально показать прибыль в следующем периоде, ведь ещё в 2015 они были на пике.\n",
    "\n",
    "* **Однозначно падающие** — 3DS, PS3, PSP, Wii, X360. Они падают все годы анализа и не показывали каких-либо положительных тенденций."
   ]
  },
  {
   "cell_type": "markdown",
   "metadata": {},
   "source": [
    "#### Ящик с усами: глобальные продажи игр в разбивке по платформам"
   ]
  },
  {
   "cell_type": "markdown",
   "metadata": {},
   "source": [
    "Постройте график «ящик с усами» по глобальным продажам игр в разбивке по платформам. Опишите результат."
   ]
  },
  {
   "cell_type": "code",
   "execution_count": 334,
   "metadata": {
    "scrolled": true
   },
   "outputs": [
    {
     "data": {
      "image/png": "[encoded data removed]",
      "text/plain": [
       "<Figure size 1080x576 with 1 Axes>"
      ]
     },
     "metadata": {},
     "output_type": "display_data"
    }
   ],
   "source": [
    "# построим график по всем годам, с учётом всех платформ\n",
    "plt.figure(figsize=(15,8))\n",
    "ax = sns.boxplot(data=data, x=\"total_sales\", y=\"platform\");"
   ]
  },
  {
   "cell_type": "markdown",
   "metadata": {},
   "source": [
    "Здесь сразу выделяются два гиганта - X360 и PS4. Их плотности распределения очень схожи, но Х360 чуть плотнее и смещён вправо, что говорит о чуть лучших продажах. При этом внушительно выглядит PS3, но он уже отходит в прошлое. Когда-то это была действительно большая и успешная платформа. Интересно сравнить WiiU с предшественником - Wii. У старой платформы было больше более продаваемых игр, но у WiiU длиннее хвост из выбросов (возможно, в будущем получится масштабировать этот потенциал). Интересно себя ведёт платформа 3DS - в основном там продаются слабые игры, но случаются и успешные кейсы - хвост из таких выбросов тянется аж до уровня PS4."
   ]
  },
  {
   "cell_type": "code",
   "execution_count": 225,
   "metadata": {},
   "outputs": [
    {
     "data": {
      "image/png": "[encoded data removed]",
      "text/plain": [
       "<Figure size 1440x216 with 1 Axes>"
      ]
     },
     "metadata": {
      "needs_background": "light"
     },
     "output_type": "display_data"
    }
   ],
   "source": [
    "# построим график по лидирующим платформам\n",
    "potent_profit_platforms = ['WiiU', 'PC', 'PSV', 'PS4', 'XOne']\n",
    "data_potential = data.query('platform == @potent_profit_platforms')\n",
    "\n",
    "plt.figure(figsize=(20, 3))\n",
    "plt.title('Глобальные продажи по платформам')\n",
    "sns.boxplot(x='total_sales', y='platform', data=data_potential)\n",
    "plt.ylabel('Название платформы')\n",
    "plt.xlabel('Глобальные продажи')\n",
    "plt.grid(True);"
   ]
  },
  {
   "cell_type": "code",
   "execution_count": 226,
   "metadata": {},
   "outputs": [
    {
     "data": {
      "image/png": "[encoded data removed]",
      "text/plain": [
       "<Figure size 1440x216 with 1 Axes>"
      ]
     },
     "metadata": {
      "needs_background": "light"
     },
     "output_type": "display_data"
    }
   ],
   "source": [
    "# приблизим график\n",
    "potent_profit_platforms = ['WiiU', 'PC', 'PSV', 'PS4', 'XOne']\n",
    "data_potential = data.query('platform == @potent_profit_platforms')\n",
    "\n",
    "plt.figure(figsize=(20, 3))\n",
    "plt.title('Глобальные продажи по платформам')\n",
    "sns.boxplot(x='total_sales', y='platform', data=data_potential)\n",
    "plt.ylabel('Название платформы')\n",
    "plt.xlabel('Глобальные продажи')\n",
    "plt.xlim(0, 0.8)\n",
    "\n",
    "plt.grid(True);"
   ]
  },
  {
   "cell_type": "markdown",
   "metadata": {},
   "source": [
    "**Выводы по графику:**\n",
    "\n",
    "**Если оценивать глобальные продажи, то больше всего продаж на платформах PS4, XOne и WiiU. У PS4 больше максимальные значения продаж, больше наблюдаемый максимум, а выбросы вообще \"уходят в космос\" по некоторым позициям. При этом медианное значение продаж у него чуть меньше, чем у других двух лидеров - очевидно, видимо платформа удерживает позиции за счёт ассортимента. В тройке лидеров WiiU выглядит более скромно, но при этом нижний квартиль у него выше - случаев \"провалившихся\" игр у него меньше, но и суперуспешных кейсов тоже мало - складывается ощущение, что на платформе представлены устойчивые середнячки, которые точно продаются. Выбросы в положительную сторону у WiiU тоже есть, но реже, чем у PS4 и XOne. Тем не менее, платформа перспективная.** \n",
    "\n",
    "**Интересно сравнить PC и PSV: несмотря на то, что первый квартиль и медиана у них практически совпадают (25% и 50% продаж находится примерно на одном уровне), у PC есть хиты, которые продаются очевидно лучше, чем у PSV - об этом говорит и положение третьего квартиля, и выбросы.**\n",
    "\n",
    "**Есть момент касаемо плотностей распределения всех платформ: она ассиметрична - везде медиана смещена влево. То есть добрая половина распределения глобальных продаж \"размазана\" от 0.05-0.2 и выше, у графика длинный нисходящий \"хвост\". То есть основной костяк игр показывают не очень большой уровень продаж по отдельности, но составляют основной пул продаж - это малопопулярные игры, которые делают прибыль своей массой, их просто много. При этом остальные игры совсем по-разному \"заходят\" аудитории - можно наткнуться на игру, которая делает феноменальные продажи, перекрывая остальные вместе взятые.**\n",
    "\n",
    "**Подводя итог: самым уверенным и успешным на данный момент выглядит PS4, второе место занимает XOne, их стремится догнать WiiU, а PC может показать хорошую перспективу. Самые слабые позиции у PSV.**"
   ]
  },
  {
   "cell_type": "markdown",
   "metadata": {},
   "source": [
    "#### Влияние оценок на продажи"
   ]
  },
  {
   "cell_type": "markdown",
   "metadata": {},
   "source": [
    "Посмотрите, как влияют на продажи внутри одной популярной платформы отзывы пользователей и критиков. Постройте диаграмму рассеяния и посчитайте корреляцию между отзывами и продажами. Сформулируйте выводы."
   ]
  },
  {
   "cell_type": "markdown",
   "metadata": {},
   "source": [
    "##### Влияние любительских оценок"
   ]
  },
  {
   "cell_type": "markdown",
   "metadata": {},
   "source": [
    "**PS4**"
   ]
  },
  {
   "cell_type": "code",
   "execution_count": 227,
   "metadata": {},
   "outputs": [
    {
     "name": "stdout",
     "output_type": "stream",
     "text": [
      "<class 'pandas.core.frame.DataFrame'>\n",
      "Int64Index: 392 entries, 31 to 16585\n",
      "Data columns (total 12 columns):\n",
      " #   Column           Non-Null Count  Dtype  \n",
      "---  ------           --------------  -----  \n",
      " 0   name             392 non-null    object \n",
      " 1   platform         392 non-null    object \n",
      " 2   year_of_release  392 non-null    int64  \n",
      " 3   genre            392 non-null    object \n",
      " 4   na_sales         392 non-null    float64\n",
      " 5   eu_sales         392 non-null    float64\n",
      " 6   jp_sales         392 non-null    float64\n",
      " 7   other_sales      392 non-null    float64\n",
      " 8   critic_score     252 non-null    float64\n",
      " 9   user_score       257 non-null    float64\n",
      " 10  rating           392 non-null    object \n",
      " 11  total_sales      392 non-null    float64\n",
      "dtypes: float64(7), int64(1), object(4)\n",
      "memory usage: 39.8+ KB\n"
     ]
    }
   ],
   "source": [
    "# возьмём для анализа игры с PS4, отсеим пользовательские заглушки\n",
    "data_ps4_user = data.query('platform == \"PS4\" and user_score != -1 and user_score != 10000')\n",
    "data_ps4_user.info()"
   ]
  },
  {
   "cell_type": "code",
   "execution_count": 228,
   "metadata": {},
   "outputs": [
    {
     "data": {
      "image/png": "[encoded data removed]",
      "text/plain": [
       "<Figure size 576x288 with 1 Axes>"
      ]
     },
     "metadata": {
      "needs_background": "light"
     },
     "output_type": "display_data"
    }
   ],
   "source": [
    "data_ps4_user.pivot_table(index='user_score', values='total_sales').plot(grid=True, style='o', figsize=(8, 4))\n",
    "plt.show()"
   ]
  },
  {
   "cell_type": "code",
   "execution_count": 229,
   "metadata": {},
   "outputs": [
    {
     "data": {
      "text/plain": [
       "-0.03"
      ]
     },
     "execution_count": 229,
     "metadata": {},
     "output_type": "execute_result"
    }
   ],
   "source": [
    "corr_user_sales = data_ps4_user['total_sales'].corr(data_ps4_user['user_score']).round(2)\n",
    "corr_user_sales"
   ]
  },
  {
   "cell_type": "markdown",
   "metadata": {},
   "source": [
    "Корреляции практически нет, более того, она обратная (выше оценка - хуже продажи). Это выглядит подозрительно. Посмотрит отдельно влияние плохих и хороших оценок на продажи, опустив средние."
   ]
  },
  {
   "cell_type": "code",
   "execution_count": 230,
   "metadata": {},
   "outputs": [
    {
     "data": {
      "text/plain": [
       "0.14"
      ]
     },
     "execution_count": 230,
     "metadata": {},
     "output_type": "execute_result"
    }
   ],
   "source": [
    "corr_user_sales = data_ps4_user.query('user_score < 3')['total_sales']\\\n",
    "    .corr(data_ps4_user.query('user_score < 3')['user_score']).round(2)\n",
    "corr_user_sales"
   ]
  },
  {
   "cell_type": "code",
   "execution_count": 231,
   "metadata": {},
   "outputs": [
    {
     "data": {
      "text/plain": [
       "0.15"
      ]
     },
     "execution_count": 231,
     "metadata": {},
     "output_type": "execute_result"
    }
   ],
   "source": [
    "corr_user_sales = data_ps4_user.query('user_score > 7')['total_sales']\\\n",
    "    .corr(data_ps4_user.query('user_score > 7')['user_score']).round(2)\n",
    "corr_user_sales"
   ]
  },
  {
   "cell_type": "markdown",
   "metadata": {},
   "source": [
    "**Вывод: у очень плохих и очень хороших оценок есть небольшая корреляция с уровнем продаж. Они практически одинаково влияют на уровень продаж. Связь такая: чем выше оценка, тем больше продаж. При этом у средних оценок корреляции практически нет, они практически не влияют на уровень продаж.**"
   ]
  },
  {
   "cell_type": "markdown",
   "metadata": {},
   "source": [
    "##### Влияние профессиональных оценок"
   ]
  },
  {
   "cell_type": "code",
   "execution_count": 232,
   "metadata": {},
   "outputs": [
    {
     "name": "stdout",
     "output_type": "stream",
     "text": [
      "<class 'pandas.core.frame.DataFrame'>\n",
      "Int64Index: 392 entries, 31 to 16585\n",
      "Data columns (total 12 columns):\n",
      " #   Column           Non-Null Count  Dtype  \n",
      "---  ------           --------------  -----  \n",
      " 0   name             392 non-null    object \n",
      " 1   platform         392 non-null    object \n",
      " 2   year_of_release  392 non-null    int64  \n",
      " 3   genre            392 non-null    object \n",
      " 4   na_sales         392 non-null    float64\n",
      " 5   eu_sales         392 non-null    float64\n",
      " 6   jp_sales         392 non-null    float64\n",
      " 7   other_sales      392 non-null    float64\n",
      " 8   critic_score     252 non-null    float64\n",
      " 9   user_score       257 non-null    float64\n",
      " 10  rating           392 non-null    object \n",
      " 11  total_sales      392 non-null    float64\n",
      "dtypes: float64(7), int64(1), object(4)\n",
      "memory usage: 39.8+ KB\n"
     ]
    }
   ],
   "source": [
    "# возьмём для анализа игры с PS4, отсеим заглушки в оценках критиков\n",
    "data_ps4_critic= data.query('platform == \"PS4\" and critic_score != -1')\n",
    "data_ps4_critic.info()"
   ]
  },
  {
   "cell_type": "code",
   "execution_count": 233,
   "metadata": {},
   "outputs": [
    {
     "data": {
      "image/png": "[encoded data removed]",
      "text/plain": [
       "<Figure size 576x288 with 1 Axes>"
      ]
     },
     "metadata": {
      "needs_background": "light"
     },
     "output_type": "display_data"
    }
   ],
   "source": [
    "data_ps4_critic.pivot_table(index='critic_score', values='total_sales').plot(grid=True, style='o', figsize=(8, 4))\n",
    "plt.show()"
   ]
  },
  {
   "cell_type": "code",
   "execution_count": 234,
   "metadata": {},
   "outputs": [
    {
     "data": {
      "text/plain": [
       "0.41"
      ]
     },
     "execution_count": 234,
     "metadata": {},
     "output_type": "execute_result"
    }
   ],
   "source": [
    "corr_critic_sales = data_ps4_critic['total_sales'].corr(data_ps4_critic['critic_score']).round(2)\n",
    "corr_critic_sales"
   ]
  },
  {
   "cell_type": "code",
   "execution_count": 235,
   "metadata": {},
   "outputs": [
    {
     "data": {
      "text/plain": [
       "-1.0"
      ]
     },
     "execution_count": 235,
     "metadata": {},
     "output_type": "execute_result"
    }
   ],
   "source": [
    "corr_critic_sales = data_ps4_user.query('critic_score < 30')['total_sales']\\\n",
    "    .corr(data_ps4_critic.query('critic_score < 30')['critic_score']).round(2)\n",
    "corr_critic_sales"
   ]
  },
  {
   "cell_type": "code",
   "execution_count": 236,
   "metadata": {},
   "outputs": [
    {
     "data": {
      "text/plain": [
       "0.97"
      ]
     },
     "execution_count": 236,
     "metadata": {},
     "output_type": "execute_result"
    }
   ],
   "source": [
    "corr_critic_sales = data_ps4_user.query('critic_score > 90')['total_sales']\\\n",
    "    .corr(data_ps4_critic.query('critic_score > 90')['critic_score']).round(2)\n",
    "corr_critic_sales"
   ]
  },
  {
   "cell_type": "markdown",
   "metadata": {},
   "source": [
    "**Вывод: в целом профессиональные оценки оказывают серьёзное влияние на уровень продаж. При этом у плохих оценок получилась обратная зависимость: чем выше оценка, тем меньше продаж — но таких игр в принципе мало. У высоких оценок практически полная прямая зависимость: чем выше оценка, тем больше продаж. Это может говорить о том, что люди неоднозначно относятся к оценкам критиков: берут как то, что тем понравилось, так и то, что профессионалы раскритиковали (вдруг там что-то стоящее и необычная). Может быть и технический момент: возможно где-то применяется обратный рейтинг (чем меньше число, тем лучше игра).**"
   ]
  },
  {
   "cell_type": "markdown",
   "metadata": {},
   "source": [
    "##### Продажи на других платформах"
   ]
  },
  {
   "cell_type": "markdown",
   "metadata": {},
   "source": [
    "**XOne**"
   ]
  },
  {
   "cell_type": "code",
   "execution_count": 237,
   "metadata": {},
   "outputs": [
    {
     "data": {
      "image/png": "[encoded data removed]",
      "text/plain": [
       "<Figure size 360x288 with 1 Axes>"
      ]
     },
     "metadata": {
      "needs_background": "light"
     },
     "output_type": "display_data"
    },
    {
     "data": {
      "image/png": "[encoded data removed]",
      "text/plain": [
       "<Figure size 360x288 with 1 Axes>"
      ]
     },
     "metadata": {
      "needs_background": "light"
     },
     "output_type": "display_data"
    }
   ],
   "source": [
    "# возьмём для анализа игры с XOne, отсеим заглушки\n",
    "data_xone = data.query('platform == \"XOne\" and user_score != -1 and user_score != 10000 and critic_score != -1')\\\n",
    "    [['user_score', 'critic_score', 'total_sales']]\n",
    "data_xone.pivot_table(index='user_score', values='total_sales').plot(grid=True, style='o', figsize=(5, 4))\n",
    "plt.show()\n",
    "data_xone.pivot_table(index='critic_score', values='total_sales').plot(grid=True, style='o', figsize=(5, 4))\n",
    "plt.show()"
   ]
  },
  {
   "cell_type": "code",
   "execution_count": 238,
   "metadata": {},
   "outputs": [
    {
     "data": {
      "text/html": [
       "<div>\n",
       "<style scoped>\n",
       "    .dataframe tbody tr th:only-of-type {\n",
       "        vertical-align: middle;\n",
       "    }\n",
       "\n",
       "    .dataframe tbody tr th {\n",
       "        vertical-align: top;\n",
       "    }\n",
       "\n",
       "    .dataframe thead th {\n",
       "        text-align: right;\n",
       "    }\n",
       "</style>\n",
       "<table border=\"1\" class=\"dataframe\">\n",
       "  <thead>\n",
       "    <tr style=\"text-align: right;\">\n",
       "      <th></th>\n",
       "      <th>user_score</th>\n",
       "      <th>critic_score</th>\n",
       "      <th>total_sales</th>\n",
       "    </tr>\n",
       "  </thead>\n",
       "  <tbody>\n",
       "    <tr>\n",
       "      <th>user_score</th>\n",
       "      <td>1.00</td>\n",
       "      <td>0.47</td>\n",
       "      <td>-0.07</td>\n",
       "    </tr>\n",
       "    <tr>\n",
       "      <th>critic_score</th>\n",
       "      <td>0.47</td>\n",
       "      <td>1.00</td>\n",
       "      <td>0.42</td>\n",
       "    </tr>\n",
       "    <tr>\n",
       "      <th>total_sales</th>\n",
       "      <td>-0.07</td>\n",
       "      <td>0.42</td>\n",
       "      <td>1.00</td>\n",
       "    </tr>\n",
       "  </tbody>\n",
       "</table>\n",
       "</div>"
      ],
      "text/plain": [
       "              user_score  critic_score  total_sales\n",
       "user_score          1.00          0.47        -0.07\n",
       "critic_score        0.47          1.00         0.42\n",
       "total_sales        -0.07          0.42         1.00"
      ]
     },
     "execution_count": 238,
     "metadata": {},
     "output_type": "execute_result"
    }
   ],
   "source": [
    "# посмотрим корреляцию продаж с оценками\n",
    "data_xone.corr().round(2)"
   ]
  },
  {
   "cell_type": "markdown",
   "metadata": {},
   "source": [
    "Напомню, что у PS4 корреляция продаж с пользовательскими оценками -0.03, с профессиональными 0.41. У XOne ситуация похожая: едва ощутимая корреляция с пользовательскими оценками (-0.09) и абсолютно такая же (0.41) — с профессиональными оценками. \n",
    "\n",
    "Кстати, здесь мнение пользователей влияет чуточку сильнее. При этом по графикам видно, что до 4 баллов пользовательской оценки корреляция с продажами достаточно сильная, дальше она рассеивается. Причём максимальное число продаж у игр с оценками 4-8 баллов, т.н. крепкие середнячки. У экспертов же продажи резко возрастают при оценке выше 70, до этого связь практически отсутствует. Пользователи обращают внимание на игры, которые заслужили очень высокие оценками профессионалов и практически не обращают внимания на мнение других пользователей (не слишком ужасная игра, и то хорошо).\n",
    "\n",
    "Можем предположить, что пользовательские оценки не берут во внимание из-за двух причин: накрученные отзывы и субъективность оценок.\n",
    "\n",
    "Теперь посмотрим третьего гиганта — WiiU."
   ]
  },
  {
   "cell_type": "markdown",
   "metadata": {},
   "source": [
    "**WiiU**"
   ]
  },
  {
   "cell_type": "code",
   "execution_count": 239,
   "metadata": {},
   "outputs": [
    {
     "data": {
      "image/png": "[encoded data removed]",
      "text/plain": [
       "<Figure size 360x288 with 1 Axes>"
      ]
     },
     "metadata": {
      "needs_background": "light"
     },
     "output_type": "display_data"
    },
    {
     "data": {
      "image/png": "[encoded data removed]",
      "text/plain": [
       "<Figure size 360x288 with 1 Axes>"
      ]
     },
     "metadata": {
      "needs_background": "light"
     },
     "output_type": "display_data"
    }
   ],
   "source": [
    "# берём WiiU, убираем заглушки\n",
    "data_wiiu = data.query('platform == \"WiiU\" and user_score != -1 and user_score != 10000 and critic_score != -1')\\\n",
    "    [['user_score', 'critic_score', 'total_sales']]\n",
    "data_wiiu.pivot_table(index='user_score', values='total_sales').plot(grid=True, style='o', figsize=(5, 4))\n",
    "plt.show()\n",
    "data_wiiu.pivot_table(index='critic_score', values='total_sales').plot(grid=True, style='o', figsize=(5, 4))\n",
    "plt.show()"
   ]
  },
  {
   "cell_type": "code",
   "execution_count": 240,
   "metadata": {},
   "outputs": [
    {
     "data": {
      "text/html": [
       "<div>\n",
       "<style scoped>\n",
       "    .dataframe tbody tr th:only-of-type {\n",
       "        vertical-align: middle;\n",
       "    }\n",
       "\n",
       "    .dataframe tbody tr th {\n",
       "        vertical-align: top;\n",
       "    }\n",
       "\n",
       "    .dataframe thead th {\n",
       "        text-align: right;\n",
       "    }\n",
       "</style>\n",
       "<table border=\"1\" class=\"dataframe\">\n",
       "  <thead>\n",
       "    <tr style=\"text-align: right;\">\n",
       "      <th></th>\n",
       "      <th>user_score</th>\n",
       "      <th>critic_score</th>\n",
       "      <th>total_sales</th>\n",
       "    </tr>\n",
       "  </thead>\n",
       "  <tbody>\n",
       "    <tr>\n",
       "      <th>user_score</th>\n",
       "      <td>1.00</td>\n",
       "      <td>0.72</td>\n",
       "      <td>0.42</td>\n",
       "    </tr>\n",
       "    <tr>\n",
       "      <th>critic_score</th>\n",
       "      <td>0.72</td>\n",
       "      <td>1.00</td>\n",
       "      <td>0.38</td>\n",
       "    </tr>\n",
       "    <tr>\n",
       "      <th>total_sales</th>\n",
       "      <td>0.42</td>\n",
       "      <td>0.38</td>\n",
       "      <td>1.00</td>\n",
       "    </tr>\n",
       "  </tbody>\n",
       "</table>\n",
       "</div>"
      ],
      "text/plain": [
       "              user_score  critic_score  total_sales\n",
       "user_score          1.00          0.72         0.42\n",
       "critic_score        0.72          1.00         0.38\n",
       "total_sales         0.42          0.38         1.00"
      ]
     },
     "execution_count": 240,
     "metadata": {},
     "output_type": "execute_result"
    }
   ],
   "source": [
    "# посмотрим корреляцию продаж с оценками\n",
    "data_wiiu.corr().round(2)"
   ]
  },
  {
   "cell_type": "markdown",
   "metadata": {},
   "source": [
    "А вот это уже интересно. Здесь оценки пользователей влияют так же сильно, как у XOne и PS4 влияют оценки экспертов. А оценки экспертов влияют чуточку хуже. \n",
    "\n",
    "Возможно это как-то связано с системой пользовательских оценок (например, отзывы проходят модерацию и фильтрацию, поэтому к ним больше доверия). Либо в целом платформа менее популярна среди экспертов, поэтому приходится ориентироваться на других пользователей.\n",
    "\n",
    "Для сравнения теперь посмотрим меньших братьев, которые занимают гораздо более слабые позиции на рынке."
   ]
  },
  {
   "cell_type": "markdown",
   "metadata": {},
   "source": [
    "**PC**"
   ]
  },
  {
   "cell_type": "code",
   "execution_count": 241,
   "metadata": {},
   "outputs": [
    {
     "data": {
      "image/png": "[encoded data removed]",
      "text/plain": [
       "<Figure size 360x288 with 1 Axes>"
      ]
     },
     "metadata": {
      "needs_background": "light"
     },
     "output_type": "display_data"
    },
    {
     "data": {
      "image/png": "[encoded data removed]",
      "text/plain": [
       "<Figure size 360x288 with 1 Axes>"
      ]
     },
     "metadata": {
      "needs_background": "light"
     },
     "output_type": "display_data"
    }
   ],
   "source": [
    "# берём PC, убираем заглушки\n",
    "data_pc = data.query('platform == \"PC\" and user_score != -1 and user_score != 10000 and critic_score != -1')\\\n",
    "    [['user_score', 'critic_score', 'total_sales']]\n",
    "data_pc.pivot_table(index='user_score', values='total_sales').plot(grid=True, style='o', figsize=(5, 4))\n",
    "plt.show()\n",
    "data_pc.pivot_table(index='critic_score', values='total_sales').plot(grid=True, style='o', figsize=(5, 4))\n",
    "plt.show()"
   ]
  },
  {
   "cell_type": "code",
   "execution_count": 242,
   "metadata": {},
   "outputs": [
    {
     "data": {
      "text/html": [
       "<div>\n",
       "<style scoped>\n",
       "    .dataframe tbody tr th:only-of-type {\n",
       "        vertical-align: middle;\n",
       "    }\n",
       "\n",
       "    .dataframe tbody tr th {\n",
       "        vertical-align: top;\n",
       "    }\n",
       "\n",
       "    .dataframe thead th {\n",
       "        text-align: right;\n",
       "    }\n",
       "</style>\n",
       "<table border=\"1\" class=\"dataframe\">\n",
       "  <thead>\n",
       "    <tr style=\"text-align: right;\">\n",
       "      <th></th>\n",
       "      <th>user_score</th>\n",
       "      <th>critic_score</th>\n",
       "      <th>total_sales</th>\n",
       "    </tr>\n",
       "  </thead>\n",
       "  <tbody>\n",
       "    <tr>\n",
       "      <th>user_score</th>\n",
       "      <td>1.00</td>\n",
       "      <td>0.43</td>\n",
       "      <td>-0.09</td>\n",
       "    </tr>\n",
       "    <tr>\n",
       "      <th>critic_score</th>\n",
       "      <td>0.43</td>\n",
       "      <td>1.00</td>\n",
       "      <td>0.20</td>\n",
       "    </tr>\n",
       "    <tr>\n",
       "      <th>total_sales</th>\n",
       "      <td>-0.09</td>\n",
       "      <td>0.20</td>\n",
       "      <td>1.00</td>\n",
       "    </tr>\n",
       "  </tbody>\n",
       "</table>\n",
       "</div>"
      ],
      "text/plain": [
       "              user_score  critic_score  total_sales\n",
       "user_score          1.00          0.43        -0.09\n",
       "critic_score        0.43          1.00         0.20\n",
       "total_sales        -0.09          0.20         1.00"
      ]
     },
     "execution_count": 242,
     "metadata": {},
     "output_type": "execute_result"
    }
   ],
   "source": [
    "# посмотрим корреляцию продаж с оценками\n",
    "data_pc.corr().round(2)"
   ]
  },
  {
   "cell_type": "markdown",
   "metadata": {},
   "source": [
    "Пользовательские оценки имеют ещё большую отрицательную корреляцию: по графику видно, что в топе продаж оказались игры с оценками 2-4 балла. Оценки критиков не имеют особой силы, корреляция всего 0.19, при этом по графику видно, что имеют относительное влияние оценки выше 60 баллов, игры с оценками 50-60 баллов почему-то почти не берут, а игр с оценками ниже 50 вообще сложно найти. \n",
    "\n",
    "Можем предположить, что из-за неоднозначности оценок экспертов (они практически не критикуют), большого доверия к ним нет, оценки имеют более условный характер, чем у больших игроков."
   ]
  },
  {
   "cell_type": "markdown",
   "metadata": {},
   "source": [
    "**PSV**"
   ]
  },
  {
   "cell_type": "code",
   "execution_count": 243,
   "metadata": {},
   "outputs": [
    {
     "data": {
      "image/png": "[encoded data removed]",
      "text/plain": [
       "<Figure size 360x288 with 1 Axes>"
      ]
     },
     "metadata": {
      "needs_background": "light"
     },
     "output_type": "display_data"
    },
    {
     "data": {
      "image/png": "[encoded data removed]",
      "text/plain": [
       "<Figure size 360x288 with 1 Axes>"
      ]
     },
     "metadata": {
      "needs_background": "light"
     },
     "output_type": "display_data"
    }
   ],
   "source": [
    "# берём PSV, убираем заглушки\n",
    "data_psv = data.query('platform == \"PSV\" and user_score != -1 and user_score != 10000 and critic_score != -1')\\\n",
    "    [['user_score', 'critic_score', 'total_sales']]\n",
    "data_psv.pivot_table(index='user_score', values='total_sales').plot(grid=True, style='o', figsize=(5, 4))\n",
    "plt.show()\n",
    "data_psv.pivot_table(index='critic_score', values='total_sales').plot(grid=True, style='o', figsize=(5, 4))\n",
    "plt.show()"
   ]
  },
  {
   "cell_type": "code",
   "execution_count": 244,
   "metadata": {},
   "outputs": [
    {
     "data": {
      "text/html": [
       "<div>\n",
       "<style scoped>\n",
       "    .dataframe tbody tr th:only-of-type {\n",
       "        vertical-align: middle;\n",
       "    }\n",
       "\n",
       "    .dataframe tbody tr th {\n",
       "        vertical-align: top;\n",
       "    }\n",
       "\n",
       "    .dataframe thead th {\n",
       "        text-align: right;\n",
       "    }\n",
       "</style>\n",
       "<table border=\"1\" class=\"dataframe\">\n",
       "  <thead>\n",
       "    <tr style=\"text-align: right;\">\n",
       "      <th></th>\n",
       "      <th>user_score</th>\n",
       "      <th>critic_score</th>\n",
       "      <th>total_sales</th>\n",
       "    </tr>\n",
       "  </thead>\n",
       "  <tbody>\n",
       "    <tr>\n",
       "      <th>user_score</th>\n",
       "      <td>1.00</td>\n",
       "      <td>0.61</td>\n",
       "      <td>0.00</td>\n",
       "    </tr>\n",
       "    <tr>\n",
       "      <th>critic_score</th>\n",
       "      <td>0.61</td>\n",
       "      <td>1.00</td>\n",
       "      <td>0.25</td>\n",
       "    </tr>\n",
       "    <tr>\n",
       "      <th>total_sales</th>\n",
       "      <td>0.00</td>\n",
       "      <td>0.25</td>\n",
       "      <td>1.00</td>\n",
       "    </tr>\n",
       "  </tbody>\n",
       "</table>\n",
       "</div>"
      ],
      "text/plain": [
       "              user_score  critic_score  total_sales\n",
       "user_score          1.00          0.61         0.00\n",
       "critic_score        0.61          1.00         0.25\n",
       "total_sales         0.00          0.25         1.00"
      ]
     },
     "execution_count": 244,
     "metadata": {},
     "output_type": "execute_result"
    }
   ],
   "source": [
    "# посмотрим корреляцию продаж с оценками\n",
    "data_psv.corr().round(2)"
   ]
  },
  {
   "cell_type": "markdown",
   "metadata": {},
   "source": [
    "Ситуация напоминает WiiU, только корреляция чуточку слабее. Тут тоже в основном играют роль оценки пользователей, а эксперты занимают чуть более слабые позиции. По графику пользовательских оценок видно, что игры с оценками более 9 покупают плохо, возможно из-за заказных отзывов / редкости / слишком высокой цены. До 6.5 баллов связь практически прямая: чем выше оценка, тем больше продаж.\n",
    "\n",
    "Что касается оценок критиков, то здесь мы снова видим пик продаж игр с оценками экспертов 60-90 баллов."
   ]
  },
  {
   "cell_type": "markdown",
   "metadata": {},
   "source": [
    "**Вывод:** \n",
    "\n",
    "**Если говорить об экспертных оценках, то они больше всего влияют на PS4, XOne, WiiU (средняя связь):**\n",
    "* PS4 - по форме скорее напоминает параболу, при этом оценки до 30 скорее влияют обратным образом (плохая оценка - выше продажи), а у оценок выше 90 баллов прямая линейная связь с продажами \n",
    "* XOne - по форме напоминает параболу, при этом максимальное влияние набирают оценки выше 80 баллов\n",
    "* WiiU - у оценок выше 70 баллов связь почти линейная\n",
    "**У РС и PSV связь между экспертными оценками и уровнем продаж слабая:**\n",
    "* РС - по форме напоминает параболу (оценки выше 70 баллов сильнее влияют на продажи)\n",
    "* PSV - до 50 баллов связь практически прямая, дальше влияние экспертов размывается (пользователи одинаково хорошо берут игры с оценками 60-90 баллов, при этом игры с оценками выше 90 баллов берут значительно хуже)\n",
    "\n",
    "**Что касается влияния пользовательских оценок — сильнее всего они влияют на XOne, WiiU (средняя связь):**\n",
    "* XOne - лучше всего берут игры с оценками 4-8 баллов, выше 8 баллов связь напоминает линейную, но обратную (чем выше оценка, тем меньше продаж)\n",
    "* WiiU - оценки выше 8 баллов показывают практически параболическую зависимость, а оценки ниже очень неоднородно влияют на объём продаж - связь нелинейная\n",
    "**У PS4, PC, PSV связь между пользовательскими оценками и уровнем продаж слабая:**\n",
    "* PS4 - связь нелинейная, при этом есть слабая линейная связь у плохих оценок (игры до 3 баллов практически не берут)\n",
    "* РС - пиковые продажи тут приходятся даже на игры с оценками 2-4 балла, в целом оценки большой роли не играют\n",
    "* PSV - игры с оценками выше 9 не набирают продаж, у игр с оценками ниже 6.5 практически прямая зависимость оценок с продажами\n",
    "\n",
    "**Таким образом, на крупных платформах XOne и WiiU влияние пользовательских и экспертных оценок на уровень продаж сильнее, чем на менее популярных платформах. На PS4 больше смотрят на экспертов, на РС ориентируются только на высокие экспертные оценки, а на PSV учитывают очень плохие отзывы экспертов и пользователей. При этом в большинстве случаев максимум продаж получают игры, которые смогли заработать более 60 баллов у критиков (т.е. фактически получили рекомендации от лидеров мнений).**"
   ]
  },
  {
   "cell_type": "markdown",
   "metadata": {},
   "source": [
    "##### Продажи по жанрам"
   ]
  },
  {
   "cell_type": "markdown",
   "metadata": {},
   "source": [
    "Посмотрите на общее распределение игр по жанрам. Что можно сказать о самых прибыльных жанрах? Выделяются ли жанры с высокими и низкими продажами?"
   ]
  },
  {
   "cell_type": "code",
   "execution_count": 245,
   "metadata": {},
   "outputs": [
    {
     "data": {
      "image/png": "[encoded data removed]",
      "text/plain": [
       "<Figure size 432x288 with 1 Axes>"
      ]
     },
     "metadata": {
      "needs_background": "light"
     },
     "output_type": "display_data"
    }
   ],
   "source": [
    "# посмотрим на распределение игр по жанрам\n",
    "data_potential['genre'].value_counts().plot(kind='bar', grid=True);"
   ]
  },
  {
   "cell_type": "markdown",
   "metadata": {},
   "source": [
    "Больше всего игр в жанре экшн (лидирует с колоссальным отрывом), также в тройке лидеров ролевые игры и приключения. Меньше всего пазлов, симуляторов, стратегий. Посмотрим, какие жанры лучше продаются."
   ]
  },
  {
   "cell_type": "markdown",
   "metadata": {},
   "source": [
    "По уровню продаж лидируют шутеры (также большой отрыв), затем спортивные игры и платформы."
   ]
  },
  {
   "cell_type": "code",
   "execution_count": 246,
   "metadata": {},
   "outputs": [
    {
     "data": {
      "text/html": [
       "<div>\n",
       "<style scoped>\n",
       "    .dataframe tbody tr th:only-of-type {\n",
       "        vertical-align: middle;\n",
       "    }\n",
       "\n",
       "    .dataframe tbody tr th {\n",
       "        vertical-align: top;\n",
       "    }\n",
       "\n",
       "    .dataframe thead th {\n",
       "        text-align: right;\n",
       "    }\n",
       "</style>\n",
       "<table border=\"1\" class=\"dataframe\">\n",
       "  <thead>\n",
       "    <tr style=\"text-align: right;\">\n",
       "      <th></th>\n",
       "      <th>total_sales</th>\n",
       "    </tr>\n",
       "    <tr>\n",
       "      <th>genre</th>\n",
       "      <th></th>\n",
       "    </tr>\n",
       "  </thead>\n",
       "  <tbody>\n",
       "    <tr>\n",
       "      <th>Shooter</th>\n",
       "      <td>1.369008</td>\n",
       "    </tr>\n",
       "    <tr>\n",
       "      <th>Sports</th>\n",
       "      <td>0.746639</td>\n",
       "    </tr>\n",
       "    <tr>\n",
       "      <th>Platform</th>\n",
       "      <td>0.635750</td>\n",
       "    </tr>\n",
       "  </tbody>\n",
       "</table>\n",
       "</div>"
      ],
      "text/plain": [
       "          total_sales\n",
       "genre                \n",
       "Shooter      1.369008\n",
       "Sports       0.746639\n",
       "Platform     0.635750"
      ]
     },
     "execution_count": 246,
     "metadata": {},
     "output_type": "execute_result"
    }
   ],
   "source": [
    "data_potential.pivot_table(index='genre', values='total_sales').sort_values('total_sales', ascending=False).head(3)"
   ]
  },
  {
   "cell_type": "code",
   "execution_count": 247,
   "metadata": {},
   "outputs": [
    {
     "data": {
      "text/html": [
       "<div>\n",
       "<style scoped>\n",
       "    .dataframe tbody tr th:only-of-type {\n",
       "        vertical-align: middle;\n",
       "    }\n",
       "\n",
       "    .dataframe tbody tr th {\n",
       "        vertical-align: top;\n",
       "    }\n",
       "\n",
       "    .dataframe thead th {\n",
       "        text-align: right;\n",
       "    }\n",
       "</style>\n",
       "<table border=\"1\" class=\"dataframe\">\n",
       "  <thead>\n",
       "    <tr style=\"text-align: right;\">\n",
       "      <th></th>\n",
       "      <th>total_sales</th>\n",
       "    </tr>\n",
       "    <tr>\n",
       "      <th>genre</th>\n",
       "      <th></th>\n",
       "    </tr>\n",
       "  </thead>\n",
       "  <tbody>\n",
       "    <tr>\n",
       "      <th>Strategy</th>\n",
       "      <td>0.201053</td>\n",
       "    </tr>\n",
       "    <tr>\n",
       "      <th>Puzzle</th>\n",
       "      <td>0.200000</td>\n",
       "    </tr>\n",
       "    <tr>\n",
       "      <th>Adventure</th>\n",
       "      <td>0.092606</td>\n",
       "    </tr>\n",
       "  </tbody>\n",
       "</table>\n",
       "</div>"
      ],
      "text/plain": [
       "           total_sales\n",
       "genre                 \n",
       "Strategy      0.201053\n",
       "Puzzle        0.200000\n",
       "Adventure     0.092606"
      ]
     },
     "execution_count": 247,
     "metadata": {},
     "output_type": "execute_result"
    }
   ],
   "source": [
    "data_potential.pivot_table(index='genre', values='total_sales').sort_values('total_sales', ascending=False).tail(3)"
   ]
  },
  {
   "cell_type": "code",
   "execution_count": 248,
   "metadata": {},
   "outputs": [
    {
     "data": {
      "image/png": "[encoded data removed]",
      "text/plain": [
       "<Figure size 1080x360 with 1 Axes>"
      ]
     },
     "metadata": {
      "needs_background": "light"
     },
     "output_type": "display_data"
    }
   ],
   "source": [
    "genres_sales = data_potential.pivot_table(index='genre', values='total_sales', aggfunc='median')\\\n",
    "    .sort_values(by='total_sales', ascending=False).reset_index()\n",
    "plt.figure(figsize=(15, 5))\n",
    "plt.title('Медианные продажи по жанрам')\n",
    "sns.barplot(x='genre', y='total_sales', data=genres_sales)\n",
    "plt.ylabel('Общие продажи')\n",
    "plt.xlabel('Жанры')\n",
    "plt.grid(True);"
   ]
  },
  {
   "cell_type": "markdown",
   "metadata": {},
   "source": [
    "**Вывод: меньше всего продаж у паззлов, стратегий и приключений.\n",
    "Удивительная картина у приключений (Adventure): они на 3-м месте по количеству игр и в хвосте по уровню продаж. Очевидно, что целесообразность создания таких игр не самая лучшая.\n",
    "Лидируют по уровню продаж шутеры, спортивные игры и платформенные. По количеству игр они в серединке.**"
   ]
  },
  {
   "cell_type": "markdown",
   "metadata": {},
   "source": [
    "### Портрет пользователя каждого региона"
   ]
  },
  {
   "cell_type": "markdown",
   "metadata": {},
   "source": [
    "Определите для пользователя каждого региона (NA, EU, JP):"
   ]
  },
  {
   "cell_type": "markdown",
   "metadata": {},
   "source": [
    "#### Самые популярные платформы (топ-5). Опишите различия в долях продаж."
   ]
  },
  {
   "cell_type": "code",
   "execution_count": 249,
   "metadata": {},
   "outputs": [
    {
     "data": {
      "text/html": [
       "<div>\n",
       "<style scoped>\n",
       "    .dataframe tbody tr th:only-of-type {\n",
       "        vertical-align: middle;\n",
       "    }\n",
       "\n",
       "    .dataframe tbody tr th {\n",
       "        vertical-align: top;\n",
       "    }\n",
       "\n",
       "    .dataframe thead th {\n",
       "        text-align: right;\n",
       "    }\n",
       "</style>\n",
       "<table border=\"1\" class=\"dataframe\">\n",
       "  <thead>\n",
       "    <tr style=\"text-align: right;\">\n",
       "      <th></th>\n",
       "      <th>platform</th>\n",
       "      <th>na_sales</th>\n",
       "    </tr>\n",
       "  </thead>\n",
       "  <tbody>\n",
       "    <tr>\n",
       "      <th>0</th>\n",
       "      <td>PS4</td>\n",
       "      <td>108.74</td>\n",
       "    </tr>\n",
       "    <tr>\n",
       "      <th>1</th>\n",
       "      <td>XOne</td>\n",
       "      <td>93.12</td>\n",
       "    </tr>\n",
       "    <tr>\n",
       "      <th>2</th>\n",
       "      <td>X360</td>\n",
       "      <td>81.66</td>\n",
       "    </tr>\n",
       "    <tr>\n",
       "      <th>3</th>\n",
       "      <td>PS3</td>\n",
       "      <td>63.50</td>\n",
       "    </tr>\n",
       "    <tr>\n",
       "      <th>4</th>\n",
       "      <td>3DS</td>\n",
       "      <td>38.20</td>\n",
       "    </tr>\n",
       "  </tbody>\n",
       "</table>\n",
       "</div>"
      ],
      "text/plain": [
       "  platform  na_sales\n",
       "0      PS4    108.74\n",
       "1     XOne     93.12\n",
       "2     X360     81.66\n",
       "3      PS3     63.50\n",
       "4      3DS     38.20"
      ]
     },
     "execution_count": 249,
     "metadata": {},
     "output_type": "execute_result"
    }
   ],
   "source": [
    "# посмотрим топ-5 платформ в регионе NA (Северная Америка)\n",
    "data.pivot_table(index='platform', values='na_sales', aggfunc='sum')\\\n",
    "    .sort_values(by='na_sales', ascending=False).reset_index().head()"
   ]
  },
  {
   "cell_type": "code",
   "execution_count": 250,
   "metadata": {
    "scrolled": true
   },
   "outputs": [
    {
     "data": {
      "image/png": "[encoded data removed]",
      "text/plain": [
       "<Figure size 432x288 with 1 Axes>"
      ]
     },
     "metadata": {
      "needs_background": "light"
     },
     "output_type": "display_data"
    }
   ],
   "source": [
    "# построим график с долями продаж разных платформ по Северной Америке\n",
    "(data.groupby('platform')['na_sales'].sum() / data['na_sales'].sum() * 100).round(2).plot(kind='bar', grid=True);"
   ]
  },
  {
   "cell_type": "markdown",
   "metadata": {},
   "source": [
    "В Северной Америке лидируют платформы PS4, XOne и X360 (этой платформы не было в списке лидеров по всем рынкам — скорее всего, это локальное явление). WiiU там занимает слабые позиции, даже меньше, чем у PC."
   ]
  },
  {
   "cell_type": "code",
   "execution_count": 251,
   "metadata": {},
   "outputs": [
    {
     "data": {
      "text/html": [
       "<div>\n",
       "<style scoped>\n",
       "    .dataframe tbody tr th:only-of-type {\n",
       "        vertical-align: middle;\n",
       "    }\n",
       "\n",
       "    .dataframe tbody tr th {\n",
       "        vertical-align: top;\n",
       "    }\n",
       "\n",
       "    .dataframe thead th {\n",
       "        text-align: right;\n",
       "    }\n",
       "</style>\n",
       "<table border=\"1\" class=\"dataframe\">\n",
       "  <thead>\n",
       "    <tr style=\"text-align: right;\">\n",
       "      <th></th>\n",
       "      <th>platform</th>\n",
       "      <th>eu_sales</th>\n",
       "    </tr>\n",
       "  </thead>\n",
       "  <tbody>\n",
       "    <tr>\n",
       "      <th>0</th>\n",
       "      <td>PS4</td>\n",
       "      <td>141.09</td>\n",
       "    </tr>\n",
       "    <tr>\n",
       "      <th>1</th>\n",
       "      <td>PS3</td>\n",
       "      <td>67.81</td>\n",
       "    </tr>\n",
       "    <tr>\n",
       "      <th>2</th>\n",
       "      <td>XOne</td>\n",
       "      <td>51.59</td>\n",
       "    </tr>\n",
       "    <tr>\n",
       "      <th>3</th>\n",
       "      <td>X360</td>\n",
       "      <td>42.52</td>\n",
       "    </tr>\n",
       "    <tr>\n",
       "      <th>4</th>\n",
       "      <td>3DS</td>\n",
       "      <td>30.96</td>\n",
       "    </tr>\n",
       "  </tbody>\n",
       "</table>\n",
       "</div>"
      ],
      "text/plain": [
       "  platform  eu_sales\n",
       "0      PS4    141.09\n",
       "1      PS3     67.81\n",
       "2     XOne     51.59\n",
       "3     X360     42.52\n",
       "4      3DS     30.96"
      ]
     },
     "execution_count": 251,
     "metadata": {},
     "output_type": "execute_result"
    }
   ],
   "source": [
    "# посмотрим топ-5 платформ в регионе EU (Европа)\n",
    "data.pivot_table(index='platform', values='eu_sales', aggfunc='sum')\\\n",
    "    .sort_values(by='eu_sales', ascending=False).reset_index().head()"
   ]
  },
  {
   "cell_type": "code",
   "execution_count": 252,
   "metadata": {},
   "outputs": [
    {
     "data": {
      "image/png": "[encoded data removed]",
      "text/plain": [
       "<Figure size 432x288 with 1 Axes>"
      ]
     },
     "metadata": {
      "needs_background": "light"
     },
     "output_type": "display_data"
    }
   ],
   "source": [
    "# построим график с долями продаж разных платформ по Европе\n",
    "(data.groupby('platform')['eu_sales'].sum() / data['eu_sales'].sum() * 100).round(2).plot(kind='bar', grid=True);"
   ]
  },
  {
   "cell_type": "markdown",
   "metadata": {},
   "source": [
    "В Европе лидирует PS4 с большим отрывом, на второй позиции — её \"младший брат\", PS3. Далее XOne и X360. В целом, картина напоминает Северную Америку с разницей в популярности PS3 — в Америке она на 3-м месте, а не на 2-м."
   ]
  },
  {
   "cell_type": "code",
   "execution_count": 253,
   "metadata": {},
   "outputs": [
    {
     "data": {
      "text/html": [
       "<div>\n",
       "<style scoped>\n",
       "    .dataframe tbody tr th:only-of-type {\n",
       "        vertical-align: middle;\n",
       "    }\n",
       "\n",
       "    .dataframe tbody tr th {\n",
       "        vertical-align: top;\n",
       "    }\n",
       "\n",
       "    .dataframe thead th {\n",
       "        text-align: right;\n",
       "    }\n",
       "</style>\n",
       "<table border=\"1\" class=\"dataframe\">\n",
       "  <thead>\n",
       "    <tr style=\"text-align: right;\">\n",
       "      <th></th>\n",
       "      <th>platform</th>\n",
       "      <th>jp_sales</th>\n",
       "    </tr>\n",
       "  </thead>\n",
       "  <tbody>\n",
       "    <tr>\n",
       "      <th>0</th>\n",
       "      <td>3DS</td>\n",
       "      <td>67.81</td>\n",
       "    </tr>\n",
       "    <tr>\n",
       "      <th>1</th>\n",
       "      <td>PS3</td>\n",
       "      <td>23.35</td>\n",
       "    </tr>\n",
       "    <tr>\n",
       "      <th>2</th>\n",
       "      <td>PSV</td>\n",
       "      <td>18.59</td>\n",
       "    </tr>\n",
       "    <tr>\n",
       "      <th>3</th>\n",
       "      <td>PS4</td>\n",
       "      <td>15.96</td>\n",
       "    </tr>\n",
       "    <tr>\n",
       "      <th>4</th>\n",
       "      <td>WiiU</td>\n",
       "      <td>10.88</td>\n",
       "    </tr>\n",
       "  </tbody>\n",
       "</table>\n",
       "</div>"
      ],
      "text/plain": [
       "  platform  jp_sales\n",
       "0      3DS     67.81\n",
       "1      PS3     23.35\n",
       "2      PSV     18.59\n",
       "3      PS4     15.96\n",
       "4     WiiU     10.88"
      ]
     },
     "execution_count": 253,
     "metadata": {},
     "output_type": "execute_result"
    }
   ],
   "source": [
    "# посмотрим топ-5 платформ в регионе JP (Япония)\n",
    "data.pivot_table(index='platform', values='jp_sales', aggfunc='sum')\\\n",
    "    .sort_values(by='jp_sales', ascending=False).reset_index().head()"
   ]
  },
  {
   "cell_type": "code",
   "execution_count": 254,
   "metadata": {},
   "outputs": [
    {
     "data": {
      "image/png": "[encoded data removed]",
      "text/plain": [
       "<Figure size 432x288 with 1 Axes>"
      ]
     },
     "metadata": {
      "needs_background": "light"
     },
     "output_type": "display_data"
    }
   ],
   "source": [
    "# построим график с долями продаж разных платформ по Японии\n",
    "(data.groupby('platform')['jp_sales'].sum() / data['jp_sales'].sum() * 100).round(2).plot(kind='bar', grid=True);"
   ]
  },
  {
   "cell_type": "markdown",
   "metadata": {},
   "source": [
    "В Японии 3DS — практически монополист на рынке. Далее PS3 (старая версия, которая на Западе уже угасает). В общем и целом здесь ассортимент платформ гораздо меньше.\n",
    "\n",
    "Интересная ситуация с WiiU — по всем трём геолокациям она явно не в тройке лидеров, при этом по общим продажам оказалась в топе. Скорее всего, это из-за того, что в таблице нет статистики по Китаю, России и другим крупным рынкам."
   ]
  },
  {
   "cell_type": "markdown",
   "metadata": {},
   "source": [
    "**Вывод: в Северной Америке и Европе лидирует семейство PS — в Америке популярна более новая версия (PS4), а в Европе ещё PS3. При этом в Японии лидирует 3DS. Третьего гиганта по числу продаж — WiiU — на этих трёх рынках нет в тройке лидеров.**"
   ]
  },
  {
   "cell_type": "markdown",
   "metadata": {},
   "source": [
    "#### Самые популярные жанры (топ-5). Поясните разницу."
   ]
  },
  {
   "cell_type": "code",
   "execution_count": 255,
   "metadata": {},
   "outputs": [
    {
     "data": {
      "text/html": [
       "<div>\n",
       "<style scoped>\n",
       "    .dataframe tbody tr th:only-of-type {\n",
       "        vertical-align: middle;\n",
       "    }\n",
       "\n",
       "    .dataframe tbody tr th {\n",
       "        vertical-align: top;\n",
       "    }\n",
       "\n",
       "    .dataframe thead th {\n",
       "        text-align: right;\n",
       "    }\n",
       "</style>\n",
       "<table border=\"1\" class=\"dataframe\">\n",
       "  <thead>\n",
       "    <tr style=\"text-align: right;\">\n",
       "      <th></th>\n",
       "      <th>genre</th>\n",
       "      <th>na_sales</th>\n",
       "    </tr>\n",
       "  </thead>\n",
       "  <tbody>\n",
       "    <tr>\n",
       "      <th>0</th>\n",
       "      <td>Action</td>\n",
       "      <td>126.05</td>\n",
       "    </tr>\n",
       "    <tr>\n",
       "      <th>1</th>\n",
       "      <td>Shooter</td>\n",
       "      <td>109.74</td>\n",
       "    </tr>\n",
       "    <tr>\n",
       "      <th>2</th>\n",
       "      <td>Sports</td>\n",
       "      <td>65.27</td>\n",
       "    </tr>\n",
       "    <tr>\n",
       "      <th>3</th>\n",
       "      <td>Role-Playing</td>\n",
       "      <td>46.40</td>\n",
       "    </tr>\n",
       "    <tr>\n",
       "      <th>4</th>\n",
       "      <td>Misc</td>\n",
       "      <td>27.49</td>\n",
       "    </tr>\n",
       "  </tbody>\n",
       "</table>\n",
       "</div>"
      ],
      "text/plain": [
       "          genre  na_sales\n",
       "0        Action    126.05\n",
       "1       Shooter    109.74\n",
       "2        Sports     65.27\n",
       "3  Role-Playing     46.40\n",
       "4          Misc     27.49"
      ]
     },
     "execution_count": 255,
     "metadata": {},
     "output_type": "execute_result"
    }
   ],
   "source": [
    "# посмотрим топ-5 жанров в регионе NA (Северная Америка)\n",
    "data.pivot_table(index='genre', values='na_sales', aggfunc='sum')\\\n",
    "    .sort_values(by='na_sales', ascending=False).reset_index().head()"
   ]
  },
  {
   "cell_type": "code",
   "execution_count": 256,
   "metadata": {},
   "outputs": [
    {
     "data": {
      "image/png": "[encoded data removed]",
      "text/plain": [
       "<Figure size 432x288 with 1 Axes>"
      ]
     },
     "metadata": {
      "needs_background": "light"
     },
     "output_type": "display_data"
    }
   ],
   "source": [
    "# построим график с долями продаж разных жанров по Северной Америке\n",
    "(data.groupby('genre')['na_sales'].sum() / data['na_sales'].sum() * 100).round(2).plot(kind='bar', grid=True);"
   ]
  },
  {
   "cell_type": "markdown",
   "metadata": {},
   "source": [
    "В Северной Америке предпочитают экшн и шутер. Значительно меньше: спортивные, ролевые игры и другие активные игры. Стратегии и паззлы людям не интересны совершенно."
   ]
  },
  {
   "cell_type": "code",
   "execution_count": 257,
   "metadata": {},
   "outputs": [
    {
     "data": {
      "text/html": [
       "<div>\n",
       "<style scoped>\n",
       "    .dataframe tbody tr th:only-of-type {\n",
       "        vertical-align: middle;\n",
       "    }\n",
       "\n",
       "    .dataframe tbody tr th {\n",
       "        vertical-align: top;\n",
       "    }\n",
       "\n",
       "    .dataframe thead th {\n",
       "        text-align: right;\n",
       "    }\n",
       "</style>\n",
       "<table border=\"1\" class=\"dataframe\">\n",
       "  <thead>\n",
       "    <tr style=\"text-align: right;\">\n",
       "      <th></th>\n",
       "      <th>genre</th>\n",
       "      <th>eu_sales</th>\n",
       "    </tr>\n",
       "  </thead>\n",
       "  <tbody>\n",
       "    <tr>\n",
       "      <th>0</th>\n",
       "      <td>Action</td>\n",
       "      <td>118.13</td>\n",
       "    </tr>\n",
       "    <tr>\n",
       "      <th>1</th>\n",
       "      <td>Shooter</td>\n",
       "      <td>87.86</td>\n",
       "    </tr>\n",
       "    <tr>\n",
       "      <th>2</th>\n",
       "      <td>Sports</td>\n",
       "      <td>60.52</td>\n",
       "    </tr>\n",
       "    <tr>\n",
       "      <th>3</th>\n",
       "      <td>Role-Playing</td>\n",
       "      <td>36.97</td>\n",
       "    </tr>\n",
       "    <tr>\n",
       "      <th>4</th>\n",
       "      <td>Racing</td>\n",
       "      <td>20.19</td>\n",
       "    </tr>\n",
       "  </tbody>\n",
       "</table>\n",
       "</div>"
      ],
      "text/plain": [
       "          genre  eu_sales\n",
       "0        Action    118.13\n",
       "1       Shooter     87.86\n",
       "2        Sports     60.52\n",
       "3  Role-Playing     36.97\n",
       "4        Racing     20.19"
      ]
     },
     "execution_count": 257,
     "metadata": {},
     "output_type": "execute_result"
    }
   ],
   "source": [
    "# посмотрим топ-5 жанров в регионе EU (Европа)\n",
    "data.pivot_table(index='genre', values='eu_sales', aggfunc='sum')\\\n",
    "    .sort_values(by='eu_sales', ascending=False).reset_index().head()"
   ]
  },
  {
   "cell_type": "code",
   "execution_count": 258,
   "metadata": {},
   "outputs": [
    {
     "data": {
      "image/png": "[encoded data removed]",
      "text/plain": [
       "<Figure size 432x288 with 1 Axes>"
      ]
     },
     "metadata": {
      "needs_background": "light"
     },
     "output_type": "display_data"
    }
   ],
   "source": [
    "# построим график с долями продаж разных жанров по Европе\n",
    "(data.groupby('genre')['eu_sales'].sum() / data['eu_sales'].sum() * 100).round(2).plot(kind='bar', grid=True);"
   ]
  },
  {
   "cell_type": "markdown",
   "metadata": {},
   "source": [
    "В европейском топе жанров мы снова видим экшн и шутер. Далее — снова спортивные и ролевые игры, но появились гонки. В хвосте по-прежнему паззлы и стратегии.  "
   ]
  },
  {
   "cell_type": "code",
   "execution_count": 259,
   "metadata": {},
   "outputs": [
    {
     "data": {
      "text/html": [
       "<div>\n",
       "<style scoped>\n",
       "    .dataframe tbody tr th:only-of-type {\n",
       "        vertical-align: middle;\n",
       "    }\n",
       "\n",
       "    .dataframe tbody tr th {\n",
       "        vertical-align: top;\n",
       "    }\n",
       "\n",
       "    .dataframe thead th {\n",
       "        text-align: right;\n",
       "    }\n",
       "</style>\n",
       "<table border=\"1\" class=\"dataframe\">\n",
       "  <thead>\n",
       "    <tr style=\"text-align: right;\">\n",
       "      <th></th>\n",
       "      <th>genre</th>\n",
       "      <th>jp_sales</th>\n",
       "    </tr>\n",
       "  </thead>\n",
       "  <tbody>\n",
       "    <tr>\n",
       "      <th>0</th>\n",
       "      <td>Role-Playing</td>\n",
       "      <td>51.04</td>\n",
       "    </tr>\n",
       "    <tr>\n",
       "      <th>1</th>\n",
       "      <td>Action</td>\n",
       "      <td>40.49</td>\n",
       "    </tr>\n",
       "    <tr>\n",
       "      <th>2</th>\n",
       "      <td>Misc</td>\n",
       "      <td>9.20</td>\n",
       "    </tr>\n",
       "    <tr>\n",
       "      <th>3</th>\n",
       "      <td>Fighting</td>\n",
       "      <td>7.65</td>\n",
       "    </tr>\n",
       "    <tr>\n",
       "      <th>4</th>\n",
       "      <td>Shooter</td>\n",
       "      <td>6.61</td>\n",
       "    </tr>\n",
       "  </tbody>\n",
       "</table>\n",
       "</div>"
      ],
      "text/plain": [
       "          genre  jp_sales\n",
       "0  Role-Playing     51.04\n",
       "1        Action     40.49\n",
       "2          Misc      9.20\n",
       "3      Fighting      7.65\n",
       "4       Shooter      6.61"
      ]
     },
     "execution_count": 259,
     "metadata": {},
     "output_type": "execute_result"
    }
   ],
   "source": [
    "# посмотрим топ-5 жанров в регионе JP (Япония)\n",
    "data.pivot_table(index='genre', values='jp_sales', aggfunc='sum')\\\n",
    "    .sort_values(by='jp_sales', ascending=False).reset_index().head()"
   ]
  },
  {
   "cell_type": "code",
   "execution_count": 260,
   "metadata": {},
   "outputs": [
    {
     "data": {
      "image/png": "[encoded data removed]",
      "text/plain": [
       "<Figure size 432x288 with 1 Axes>"
      ]
     },
     "metadata": {
      "needs_background": "light"
     },
     "output_type": "display_data"
    }
   ],
   "source": [
    "# построим график с долями продаж разных жанров по Японии\n",
    "(data.groupby('genre')['jp_sales'].sum() / data['jp_sales'].sum() * 100).round(2).plot(kind='bar', grid=True);"
   ]
  },
  {
   "cell_type": "markdown",
   "metadata": {},
   "source": [
    "В Японии ситуация отличается: здесь люди обожают ролевые игры, а затем уже экшн. Затем с колоссальным отрывом идут другие активные игры, рукопашные бои и шутеры. Одно совпадает — люди так же не любят паззлы и стратегии."
   ]
  },
  {
   "cell_type": "markdown",
   "metadata": {},
   "source": [
    "**Вывод: в Америке и Европе поведение пользователей во многом совпадает (с той лишь разницей, что европейцы любят гонки). При этом экшн популярен практически по всему миру. В Японии сказывается местный менталитет — тут любят ролевые игры и рукопашные бои.**"
   ]
  },
  {
   "cell_type": "markdown",
   "metadata": {},
   "source": [
    "#### Влияет ли рейтинг ESRB на продажи в отдельном регионе?"
   ]
  },
  {
   "cell_type": "markdown",
   "metadata": {},
   "source": [
    "Для начала посмотрим, какие рейтинги у нас есть в базе данных и что они значат:"
   ]
  },
  {
   "cell_type": "code",
   "execution_count": 261,
   "metadata": {},
   "outputs": [
    {
     "data": {
      "text/plain": [
       "NR      977\n",
       "M       369\n",
       "T       333\n",
       "E       302\n",
       "E10+    252\n",
       "Name: rating, dtype: int64"
      ]
     },
     "execution_count": 261,
     "metadata": {},
     "output_type": "execute_result"
    }
   ],
   "source": [
    "data['rating'].value_counts()"
   ]
  },
  {
   "cell_type": "markdown",
   "metadata": {},
   "source": [
    "где:\n",
    "* NR — это наша заглушка, игры без рейтинга (заполнили пропуски)\n",
    "* М — игры для взрослых, 17+\n",
    "* Т — игры для подростков, 13+\n",
    "* Е — игры для всех\n",
    "* Е10+ — игры для всех, 10+"
   ]
  },
  {
   "cell_type": "code",
   "execution_count": 262,
   "metadata": {},
   "outputs": [
    {
     "data": {
      "image/png": "[encoded data removed]",
      "text/plain": [
       "<Figure size 720x360 with 1 Axes>"
      ]
     },
     "metadata": {
      "needs_background": "light"
     },
     "output_type": "display_data"
    }
   ],
   "source": [
    "# построим график по Сев.Америке\n",
    "\n",
    "rating_and_sales_na = data.groupby('rating')['na_sales'].sum().sort_values(ascending=False)\n",
    "\n",
    "rating_and_sales_na.plot(x='rating', y='na_sales', kind='bar', figsize=(10,5), grid=True\\\n",
    "                         , title = 'Влияние рейтинга ESRB на продажи в Северной Америке')\n",
    "plt.xlabel('рейтинг')\n",
    "plt.ylabel('объём продаж')\n",
    "plt.show()"
   ]
  },
  {
   "cell_type": "markdown",
   "metadata": {},
   "source": [
    "В Северной Америке со значительным отрывом (разница почти в 2 раза) лидируют игры для взрослых (содержат жестокие или откровенные сцены). Далее идут игры без рейтинга и игры для всех. Меньше всего покупают игры для подростков — с рейтингом Т."
   ]
  },
  {
   "cell_type": "code",
   "execution_count": 263,
   "metadata": {},
   "outputs": [
    {
     "data": {
      "image/png": "[encoded data removed]",
      "text/plain": [
       "<Figure size 720x360 with 1 Axes>"
      ]
     },
     "metadata": {
      "needs_background": "light"
     },
     "output_type": "display_data"
    }
   ],
   "source": [
    "# построим график по Европе\n",
    "\n",
    "rating_and_sales_eu = data.groupby('rating')['eu_sales'].sum().sort_values(ascending=False)\n",
    "\n",
    "rating_and_sales_eu.plot(x='rating', y='eu_sales', kind='bar', figsize=(10,5), grid=True\\\n",
    "                         , title = 'Влияние рейтинга ESRB на продажи в Европе')\n",
    "plt.xlabel('рейтинг')\n",
    "plt.ylabel('объём продаж')\n",
    "plt.show()"
   ]
  },
  {
   "cell_type": "markdown",
   "metadata": {},
   "source": [
    "В Европе так же популярны игры для взрослых, но отрыв чуть меньше, чем в Америке. Следом идут игры для всех и игры без рейтинга. В хвосте — игры для подростков и всех старше 10 лет."
   ]
  },
  {
   "cell_type": "code",
   "execution_count": 264,
   "metadata": {},
   "outputs": [
    {
     "data": {
      "image/png": "[encoded data removed]",
      "text/plain": [
       "<Figure size 720x360 with 1 Axes>"
      ]
     },
     "metadata": {
      "needs_background": "light"
     },
     "output_type": "display_data"
    }
   ],
   "source": [
    "# построим график по Японии\n",
    "\n",
    "rating_and_sales_jp = data.groupby('rating')['jp_sales'].sum().sort_values(ascending=False)\n",
    "\n",
    "rating_and_sales_jp.plot(x='rating', y='jp_sales', kind='bar', figsize=(10,5), grid=True\\\n",
    "                         , title = 'Влияние рейтинга ESRB на продажи в Японии')\n",
    "plt.xlabel('рейтинг')\n",
    "plt.ylabel('объём продаж')\n",
    "plt.show()"
   ]
  },
  {
   "cell_type": "markdown",
   "metadata": {},
   "source": [
    "Удивительная картина. С колоссальным отрывом идут игры без рейтинга, далее игры для подростков и для всех. И уже потом — игры для взрослых. В хвосте — игры для всех 10+. Это может говорить о том, что Североамериканский рейтинг ESRB просто не расценивает игры с местного японского рынка, и они остаются без рейтинга. Показательно, что взрослые игры там не имеют большой популярности. С одной стороны, особенности менталитета, с другой — вспоминаем топ жанров, где шутеры оказались аж на 5-м месте."
   ]
  },
  {
   "cell_type": "markdown",
   "metadata": {},
   "source": [
    "**Вывод: игра с рейтингом М практически наверняка добьётся успеха в Северной Америке и Европе. У игр с рейтингом Е есть тоже шансы на успех на этих рынках. А вот играм с рейтингом Е10+ не везёт по всем трём геолокациям. В то же время в Японии данный рейтинг не играет такой значительной роли — большинство продаж тут приходится на игры, у которых вообще нет данного рейтинга. Но игры для взрослых в Японии лучше не продавать — вместо этого лучше выбрать игры для подростков.**"
   ]
  },
  {
   "cell_type": "markdown",
   "metadata": {},
   "source": [
    "### Проверка гипотез"
   ]
  },
  {
   "cell_type": "markdown",
   "metadata": {},
   "source": [
    "#### Средние пользовательские рейтинги платформ Xbox One и PC одинаковые"
   ]
  },
  {
   "cell_type": "markdown",
   "metadata": {},
   "source": [
    "Нулевая гипотеза Н0: средняя пользовательского рейтинга Xbox One равна средней пользовательского рейтинга PC.\n",
    "\n",
    "Альтернативная гипотеза: средние не равны."
   ]
  },
  {
   "cell_type": "code",
   "execution_count": 265,
   "metadata": {},
   "outputs": [
    {
     "data": {
      "text/plain": [
       "array(['PS3', 'X360', 'PS4', '3DS', 'XOne', 'WiiU', 'Wii', 'PC', 'PSV',\n",
       "       'DS', 'PSP'], dtype=object)"
      ]
     },
     "execution_count": 265,
     "metadata": {},
     "output_type": "execute_result"
    }
   ],
   "source": [
    "# посмотрим, как правильно называется Xbox One в нашей базе\n",
    "data['platform'].unique()"
   ]
  },
  {
   "cell_type": "code",
   "execution_count": 266,
   "metadata": {},
   "outputs": [
    {
     "name": "stdout",
     "output_type": "stream",
     "text": [
      "p-значение 0.14759594013430463\n",
      "Не получилось отвергнуть нулевую гипотезу\n"
     ]
    }
   ],
   "source": [
    "# проверим гипотезу: что средние пользовательских оценок у двух платформ равны\n",
    "user_score_xbox = data.query('platform == \"XOne\"')['user_score'].dropna()\n",
    "user_score_pc = data.query('platform == \"PC\"')['user_score'].dropna()\n",
    "\n",
    "alpha = .01\n",
    "\n",
    "# совокупности не равны по размеру, поэтому указываем equal_var = False\n",
    "# выборки независимые, поэтому используем метод ttest_ind\n",
    "results = st.ttest_ind(user_score_xbox, user_score_pc, equal_var = False)\n",
    "\n",
    "print ('p-значение', results.pvalue)\n",
    "\n",
    "if results.pvalue < alpha:\n",
    "    print ('Отвергаем нулевую гипотезу')\n",
    "else:\n",
    "    print ('Не получилось отвергнуть нулевую гипотезу')"
   ]
  },
  {
   "cell_type": "markdown",
   "metadata": {},
   "source": [
    "**Вывод: средние пользовательские рейтинги на платформах Xbox One и PC статистически значимо не различаются. Это может говорить о том, что пользователи этих двух платформ оценивают игры схожим образом.**"
   ]
  },
  {
   "cell_type": "markdown",
   "metadata": {},
   "source": [
    "#### Средние пользовательские рейтинги жанров Action (англ. «действие», экшен-игры) и Sports (англ. «спортивные соревнования») разные"
   ]
  },
  {
   "cell_type": "markdown",
   "metadata": {},
   "source": [
    "Нулевая гипотеза Н0: средние пользовательские оценки у двух жанров равны.\n",
    "\n",
    "Альтернативная гипотеза Н1: средние пользовательские оценки у двух жанров различаются.\n",
    "\n",
    "Мы ставим нашу задачу в альтернативную гипотезу, поскольку методика подразумевает именно равенство средних двух генеральных совокупностей. Если нулевая гипотеза подтвердится, значит, средние будут НЕ разными, если нулевая гипотеза будет опровергнута — значит, средние будут скорее разными."
   ]
  },
  {
   "cell_type": "code",
   "execution_count": 267,
   "metadata": {},
   "outputs": [
    {
     "data": {
      "text/plain": [
       "array(['Action', 'Shooter', 'Role-Playing', 'Misc', 'Sports', 'Fighting',\n",
       "       'Racing', 'Simulation', 'Platform', 'Strategy', 'Adventure',\n",
       "       'Puzzle'], dtype=object)"
      ]
     },
     "execution_count": 267,
     "metadata": {},
     "output_type": "execute_result"
    }
   ],
   "source": [
    "data['genre'].unique()"
   ]
  },
  {
   "cell_type": "code",
   "execution_count": 268,
   "metadata": {},
   "outputs": [
    {
     "name": "stdout",
     "output_type": "stream",
     "text": [
      "p-значение 1.4460039700704315e-20\n",
      "Отвергаем нулевую гипотезу\n"
     ]
    }
   ],
   "source": [
    "# проверим гипотезу: что средние пользовательских оценок у двух жанров разные\n",
    "user_score_action = data.query('genre == \"Action\"')['user_score'].dropna()\n",
    "user_score_sports = data.query('genre == \"Sports\"')['user_score'].dropna()\n",
    "\n",
    "alpha = .01\n",
    "\n",
    "# совокупности не равны по размеру, поэтому указываем equal_var = False\n",
    "# выборки независимые, поэтому используем метод ttest_ind\n",
    "results = st.ttest_ind(user_score_action, user_score_sports, equal_var = False)\n",
    "\n",
    "print ('p-значение', results.pvalue)\n",
    "\n",
    "if results.pvalue < alpha:\n",
    "    print ('Отвергаем нулевую гипотезу')\n",
    "else:\n",
    "    print ('Не получилось отвергнуть нулевую гипотезу')"
   ]
  },
  {
   "cell_type": "markdown",
   "metadata": {},
   "source": [
    "**Вывод: средние пользовательские рейтинги жанров спорт и экшн статистически значимо различаются. Скорее всего, пользователи по-разному оценивают игры в этих двух жанрах. Поэтому вывод о том, что средние пользовательские рейтинги жанров Action (англ. «действие», экшен-игры) и Sports (англ. «спортивные соревнования») разные, скорее похож на правду.**"
   ]
  },
  {
   "cell_type": "markdown",
   "metadata": {},
   "source": [
    "### Общий вывод"
   ]
  },
  {
   "cell_type": "markdown",
   "metadata": {},
   "source": [
    "В ходе данной работы мы получили базу данных с продажами игр по всему миру на разных платформах.\n",
    "\n",
    "Мы изменили тип данных по мере необходимости, перевели год в формат даты. Убрали пропуски и дубли. Использовали заглушки в рейтинге, чтобы не терять важные данные и заменили отсутствующие оценки на NaN. Добавили столбец суммарных продаж по всем регионам.\n",
    "\n",
    "Затем мы провели исследовательский анализ данных:\n",
    "\n",
    "- выяснили, что до 1994 года игр было очень мало, пик выхода игр пришёлся на 2007-2008 годы, а с 2012 года в индустрии происходит кризис\n",
    "\n",
    "- узнали, что крупнейшеми платформами по объёму продаж за все годы и по всем регионам являются PS2, X360 и PS3\n",
    "\n",
    "- посмотрели на графике, как приходят и уходят платформы, при этом средний срок жизни одной платформы составляет 10-12 лет, а на пике она находится 2-5 лет максимум\n",
    "\n",
    "- узнали, что в 2016 на рынке лидировали PS4, XOne и WiiU, потенциально прибыльными были PC и PSV\n",
    "\n",
    "- оценили влияние оценок пользователей на уровень продаж и выяснили, что на крупных платформах XOne и WiiU влияние пользовательских и экспертных оценок на уровень продаж сильнее, чем на менее популярных платформах. На PS4 больше смотрят на экспертов, на РС ориентируются только на высокие экспертные оценки, а на PSV учитывают очень плохие отзывы экспертов и пользователей. При этом в большинстве случаев максимум продаж получают игры, которые смогли заработать более 60 баллов у критиков (т.е. фактически получили рекомендации от лидеров мнений).\n",
    "\n",
    "- посмотрели продажи по жанрам и увидели, что больше всего выходит игр в жанре экшн, ролевых и приключений, при этом медианные продажи выше у шутеров, спортивных игр и платформенных\n",
    "\n",
    "- изучили пользователей с разных регионов и увидели, что в Северной Америке и Европе лидирует платформа PS — в Америке популярна более новая версия (PS4), а в Европе ещё PS3. При этом в Японии лидирует 3DS. Третьего гиганта по числу продаж — WiiU — на этих трёх рынках нет в тройке лидеров\n",
    "\n",
    "- изучили жанровые предпочтения по регионам и заметили, что в Америке и Европе поведение пользователей во многом совпадает (с той лишь разницей, что европейцы любят гонки). При этом экшн популярен практически по всему миру. В Японии сказывается местный менталитет — тут любят ролевые игры и рукопашные бои\n",
    "\n",
    "- посмотрели влияние рейтинга на продажи и узнали, что игра с рейтингом М практически наверняка добьётся успеха в Северной Америке и Европе. У игр с рейтингом Е есть тоже шансы на успех на этих рынках. А вот играм с рейтингом Е10+ не везёт по всем трём геолокациям. В то же время в Японии данный рейтинг не играет такой значительной роли — большинство продаж тут приходится на игры, у которых вообще нет данного рейтинга. Но игры для взрослых в Японии лучше не продавать — вместо этого лучше выбрать игры для подростков\n",
    "\n",
    "- проверили две гипотезы и высчитали, что пользовательские оценки на платформах Xbox One и PC статистически не различаются, а вот между пользовательскими оценками жанров экшн и спорт есть статистические различия\n",
    "\n",
    "Рекомендации магазину игр на основе анализа:\n",
    "\n",
    "1. Предлагать платформы PS4, XOne, WiiU, а также PC и PSV (с заделом на будущее)\n",
    "2. Расширять ассортимент игр в жанрах экшн, спортивные, платформенные. Если нужен рынок Северной Америки и/или Европы, то лучше выбрать экшн и шутер, если Япония — ролевые игры и экшн. У гонок больше потенциал в Европе, а рукопашные бои вероятнее придутся по нраву в Японии\n",
    "3. Тщательно выбирать категорию (рейтинг) игры. Игры для взрослых (М) практически обречены на успех в Северной Америке и Европе, но вряд ли понравятся в Японии. Если у игры совсем нет рейтинга, лучше попробовать продвижение на рынке Японии — там таких продаж большинство\n",
    "4. Следить за оценками пользователей и критиков. Если игра получила высокую экспертную оценку (60+ баллов), то вероятность успеха выше. Стоит смотреть и на оценки пользователей: крайние оценки (очень высокие или очень низкие) работают на продажи лучше, чем средние. Особенно внимательно нужно быть с пользовательскими и экспертными оценками на платформах XOne и WiiU.\n",
    "5. Учитывать влияние кризиса 2012 года и общее падение рынка."
   ]
  },
  {
   "cell_type": "code",
   "execution_count": 269,
   "metadata": {},
   "outputs": [
    {
     "name": "stdout",
     "output_type": "stream",
     "text": [
      "File 'filename.txt' exists. Overwrite? yes\n",
      "Overwriting file.\n"
     ]
    }
   ],
   "source": [
    "# служебная команда — сохранение истории на случай потери данных\n",
    "%history -g -f filename.txt"
   ]
  },
  {
   "cell_type": "code",
   "execution_count": null,
   "metadata": {},
   "outputs": [],
   "source": []
  }
 ],
 "metadata": {
  "ExecuteTimeLog": [
   {
    "duration": 432,
    "start_time": "2023-03-14T04:35:17.838Z"
   },
   {
    "duration": 187,
    "start_time": "2023-03-14T04:35:50.410Z"
   },
   {
    "duration": 65,
    "start_time": "2023-03-14T04:36:10.269Z"
   },
   {
    "duration": 14,
    "start_time": "2023-03-14T04:36:22.157Z"
   },
   {
    "duration": 65,
    "start_time": "2023-03-14T04:39:50.787Z"
   },
   {
    "duration": 15,
    "start_time": "2023-03-14T04:39:58.109Z"
   },
   {
    "duration": 14,
    "start_time": "2023-03-14T04:41:42.593Z"
   },
   {
    "duration": 3,
    "start_time": "2023-03-14T04:45:12.670Z"
   },
   {
    "duration": 336,
    "start_time": "2023-03-14T04:46:22.708Z"
   },
   {
    "duration": 7,
    "start_time": "2023-03-14T04:46:28.823Z"
   },
   {
    "duration": 13,
    "start_time": "2023-03-14T04:46:35.224Z"
   },
   {
    "duration": 61,
    "start_time": "2023-03-14T04:50:18.138Z"
   },
   {
    "duration": 4,
    "start_time": "2023-03-14T04:50:28.249Z"
   },
   {
    "duration": 7,
    "start_time": "2023-03-14T04:50:32.294Z"
   },
   {
    "duration": 15,
    "start_time": "2023-03-14T04:50:34.752Z"
   },
   {
    "duration": 22,
    "start_time": "2023-03-14T04:50:45.296Z"
   },
   {
    "duration": 3,
    "start_time": "2023-03-14T04:51:06.497Z"
   },
   {
    "duration": 7,
    "start_time": "2023-03-14T04:51:41.198Z"
   },
   {
    "duration": 13,
    "start_time": "2023-03-14T04:51:42.396Z"
   },
   {
    "duration": 13,
    "start_time": "2023-03-14T04:51:44.592Z"
   },
   {
    "duration": 2,
    "start_time": "2023-03-14T04:54:03.339Z"
   },
   {
    "duration": 70,
    "start_time": "2023-03-14T04:54:03.343Z"
   },
   {
    "duration": 11,
    "start_time": "2023-03-14T04:54:03.414Z"
   },
   {
    "duration": 13,
    "start_time": "2023-03-14T04:54:03.427Z"
   },
   {
    "duration": 7,
    "start_time": "2023-03-14T04:54:06.854Z"
   },
   {
    "duration": 14,
    "start_time": "2023-03-14T04:54:09.667Z"
   },
   {
    "duration": 14,
    "start_time": "2023-03-14T04:54:14.043Z"
   },
   {
    "duration": 14,
    "start_time": "2023-03-14T04:55:36.451Z"
   },
   {
    "duration": 3,
    "start_time": "2023-03-14T04:56:48.248Z"
   },
   {
    "duration": 68,
    "start_time": "2023-03-14T04:56:48.254Z"
   },
   {
    "duration": 16,
    "start_time": "2023-03-14T04:56:48.324Z"
   },
   {
    "duration": 14,
    "start_time": "2023-03-14T04:56:48.343Z"
   },
   {
    "duration": 13,
    "start_time": "2023-03-14T04:56:50.431Z"
   },
   {
    "duration": 3,
    "start_time": "2023-03-14T04:57:24.865Z"
   },
   {
    "duration": 15,
    "start_time": "2023-03-14T04:57:28.232Z"
   },
   {
    "duration": 19,
    "start_time": "2023-03-14T04:57:29.557Z"
   },
   {
    "duration": 12,
    "start_time": "2023-03-14T04:57:55.552Z"
   },
   {
    "duration": 3,
    "start_time": "2023-03-14T04:58:13.598Z"
   },
   {
    "duration": 85,
    "start_time": "2023-03-14T04:58:13.603Z"
   },
   {
    "duration": 17,
    "start_time": "2023-03-14T04:58:13.690Z"
   },
   {
    "duration": 13,
    "start_time": "2023-03-14T04:58:13.709Z"
   },
   {
    "duration": 11,
    "start_time": "2023-03-14T04:58:16.096Z"
   },
   {
    "duration": 7,
    "start_time": "2023-03-14T04:58:28.997Z"
   },
   {
    "duration": 7,
    "start_time": "2023-03-14T04:59:05.213Z"
   },
   {
    "duration": 7,
    "start_time": "2023-03-14T04:59:09.077Z"
   },
   {
    "duration": 6,
    "start_time": "2023-03-14T04:59:16.307Z"
   },
   {
    "duration": 13,
    "start_time": "2023-03-14T04:59:19.522Z"
   },
   {
    "duration": 4,
    "start_time": "2023-03-14T04:59:34.198Z"
   },
   {
    "duration": 14,
    "start_time": "2023-03-14T04:59:37.754Z"
   },
   {
    "duration": 4,
    "start_time": "2023-03-14T04:59:46.930Z"
   },
   {
    "duration": 69,
    "start_time": "2023-03-14T04:59:46.937Z"
   },
   {
    "duration": 15,
    "start_time": "2023-03-14T04:59:47.008Z"
   },
   {
    "duration": 14,
    "start_time": "2023-03-14T04:59:47.024Z"
   },
   {
    "duration": 3,
    "start_time": "2023-03-14T04:59:48.754Z"
   },
   {
    "duration": 12,
    "start_time": "2023-03-14T04:59:50.870Z"
   },
   {
    "duration": 14,
    "start_time": "2023-03-14T04:59:54.740Z"
   },
   {
    "duration": 4,
    "start_time": "2023-03-14T05:02:18.010Z"
   },
   {
    "duration": 15,
    "start_time": "2023-03-14T05:02:20.355Z"
   },
   {
    "duration": 12,
    "start_time": "2023-03-14T05:02:34.565Z"
   },
   {
    "duration": 12,
    "start_time": "2023-03-14T05:05:32.849Z"
   },
   {
    "duration": 13,
    "start_time": "2023-03-14T05:05:44.973Z"
   },
   {
    "duration": 2,
    "start_time": "2023-03-14T05:05:53.455Z"
   },
   {
    "duration": 60,
    "start_time": "2023-03-14T05:05:53.462Z"
   },
   {
    "duration": 14,
    "start_time": "2023-03-14T05:05:53.524Z"
   },
   {
    "duration": 12,
    "start_time": "2023-03-14T05:05:53.540Z"
   },
   {
    "duration": 14,
    "start_time": "2023-03-14T05:05:55.902Z"
   },
   {
    "duration": 6,
    "start_time": "2023-03-14T05:07:33.079Z"
   },
   {
    "duration": 20,
    "start_time": "2023-03-14T05:07:37.429Z"
   },
   {
    "duration": 14,
    "start_time": "2023-03-14T05:07:41.025Z"
   },
   {
    "duration": 353,
    "start_time": "2023-03-14T05:08:02.874Z"
   },
   {
    "duration": 50,
    "start_time": "2023-03-14T05:09:50.804Z"
   },
   {
    "duration": 48,
    "start_time": "2023-03-14T05:09:54.650Z"
   },
   {
    "duration": 111,
    "start_time": "2023-03-14T05:10:03.706Z"
   },
   {
    "duration": 66,
    "start_time": "2023-03-14T05:11:27.386Z"
   },
   {
    "duration": 9,
    "start_time": "2023-03-14T05:14:16.795Z"
   },
   {
    "duration": 15,
    "start_time": "2023-03-14T05:14:20.310Z"
   },
   {
    "duration": 16,
    "start_time": "2023-03-14T05:14:20.794Z"
   },
   {
    "duration": 4,
    "start_time": "2023-03-14T05:14:38.021Z"
   },
   {
    "duration": 65,
    "start_time": "2023-03-14T05:14:38.027Z"
   },
   {
    "duration": 14,
    "start_time": "2023-03-14T05:14:38.094Z"
   },
   {
    "duration": 22,
    "start_time": "2023-03-14T05:14:38.110Z"
   },
   {
    "duration": 7,
    "start_time": "2023-03-14T05:14:38.134Z"
   },
   {
    "duration": 417,
    "start_time": "2023-03-14T05:14:41.230Z"
   },
   {
    "duration": 423,
    "start_time": "2023-03-14T05:14:53.579Z"
   },
   {
    "duration": 9,
    "start_time": "2023-03-14T05:15:04.094Z"
   },
   {
    "duration": 15,
    "start_time": "2023-03-14T05:15:07.829Z"
   },
   {
    "duration": 15,
    "start_time": "2023-03-14T05:15:11.606Z"
   },
   {
    "duration": 4,
    "start_time": "2023-03-14T05:15:36.035Z"
   },
   {
    "duration": 14,
    "start_time": "2023-03-14T05:15:38.264Z"
   },
   {
    "duration": 15,
    "start_time": "2023-03-14T05:15:41.420Z"
   },
   {
    "duration": 15,
    "start_time": "2023-03-14T05:15:42.019Z"
   },
   {
    "duration": 4,
    "start_time": "2023-03-14T05:18:06.497Z"
   },
   {
    "duration": 9,
    "start_time": "2023-03-14T05:18:06.945Z"
   },
   {
    "duration": 5,
    "start_time": "2023-03-14T05:18:07.294Z"
   },
   {
    "duration": 23,
    "start_time": "2023-03-14T05:18:07.855Z"
   },
   {
    "duration": 4,
    "start_time": "2023-03-14T05:18:20.998Z"
   },
   {
    "duration": 89,
    "start_time": "2023-03-14T05:18:21.004Z"
   },
   {
    "duration": 16,
    "start_time": "2023-03-14T05:18:21.097Z"
   },
   {
    "duration": 39,
    "start_time": "2023-03-14T05:18:21.116Z"
   },
   {
    "duration": 2,
    "start_time": "2023-03-14T05:18:21.158Z"
   },
   {
    "duration": 7,
    "start_time": "2023-03-14T05:18:28.038Z"
   },
   {
    "duration": 14,
    "start_time": "2023-03-14T05:18:30.520Z"
   },
   {
    "duration": 3,
    "start_time": "2023-03-14T05:18:57.222Z"
   },
   {
    "duration": 85,
    "start_time": "2023-03-14T05:18:57.228Z"
   },
   {
    "duration": 21,
    "start_time": "2023-03-14T05:18:57.316Z"
   },
   {
    "duration": 27,
    "start_time": "2023-03-14T05:18:57.339Z"
   },
   {
    "duration": 3,
    "start_time": "2023-03-14T05:18:57.372Z"
   },
   {
    "duration": 6,
    "start_time": "2023-03-14T05:18:59.241Z"
   },
   {
    "duration": 15,
    "start_time": "2023-03-14T05:19:01.344Z"
   },
   {
    "duration": 5,
    "start_time": "2023-03-14T05:19:05.553Z"
   },
   {
    "duration": 18,
    "start_time": "2023-03-14T05:19:07.268Z"
   },
   {
    "duration": 4,
    "start_time": "2023-03-14T05:20:37.319Z"
   },
   {
    "duration": 82,
    "start_time": "2023-03-14T05:20:37.328Z"
   },
   {
    "duration": 19,
    "start_time": "2023-03-14T05:20:37.413Z"
   },
   {
    "duration": 22,
    "start_time": "2023-03-14T05:20:37.434Z"
   },
   {
    "duration": 3,
    "start_time": "2023-03-14T05:20:37.458Z"
   },
   {
    "duration": 12,
    "start_time": "2023-03-14T05:20:37.464Z"
   },
   {
    "duration": 4,
    "start_time": "2023-03-14T05:20:37.481Z"
   },
   {
    "duration": 51,
    "start_time": "2023-03-14T05:20:37.487Z"
   },
   {
    "duration": 19,
    "start_time": "2023-03-14T05:20:40.598Z"
   },
   {
    "duration": 11,
    "start_time": "2023-03-14T05:21:30.116Z"
   },
   {
    "duration": 21,
    "start_time": "2023-03-14T05:21:32.013Z"
   },
   {
    "duration": 15,
    "start_time": "2023-03-14T05:21:46.122Z"
   },
   {
    "duration": 10,
    "start_time": "2023-03-14T05:21:58.300Z"
   },
   {
    "duration": 3,
    "start_time": "2023-03-14T05:22:04.430Z"
   },
   {
    "duration": 83,
    "start_time": "2023-03-14T05:22:04.436Z"
   },
   {
    "duration": 20,
    "start_time": "2023-03-14T05:22:04.521Z"
   },
   {
    "duration": 48,
    "start_time": "2023-03-14T05:22:04.543Z"
   },
   {
    "duration": 13,
    "start_time": "2023-03-14T05:22:04.593Z"
   },
   {
    "duration": 10,
    "start_time": "2023-03-14T05:22:06.222Z"
   },
   {
    "duration": 13,
    "start_time": "2023-03-14T05:22:14.243Z"
   },
   {
    "duration": 7,
    "start_time": "2023-03-14T05:22:44.060Z"
   },
   {
    "duration": 15,
    "start_time": "2023-03-14T05:22:45.080Z"
   },
   {
    "duration": 15,
    "start_time": "2023-03-14T05:22:45.879Z"
   },
   {
    "duration": 7,
    "start_time": "2023-03-14T05:27:19.642Z"
   },
   {
    "duration": 6,
    "start_time": "2023-03-14T05:28:45.442Z"
   },
   {
    "duration": 61,
    "start_time": "2023-03-14T05:28:45.458Z"
   },
   {
    "duration": 14,
    "start_time": "2023-03-14T05:28:45.520Z"
   },
   {
    "duration": 22,
    "start_time": "2023-03-14T05:28:45.536Z"
   },
   {
    "duration": 6,
    "start_time": "2023-03-14T05:28:48.701Z"
   },
   {
    "duration": 14,
    "start_time": "2023-03-14T05:28:51.209Z"
   },
   {
    "duration": 5,
    "start_time": "2023-03-14T05:29:11.396Z"
   },
   {
    "duration": 18,
    "start_time": "2023-03-14T05:29:13.234Z"
   },
   {
    "duration": 2,
    "start_time": "2023-03-14T05:29:19.755Z"
   },
   {
    "duration": 66,
    "start_time": "2023-03-14T05:29:19.759Z"
   },
   {
    "duration": 13,
    "start_time": "2023-03-14T05:29:19.827Z"
   },
   {
    "duration": 16,
    "start_time": "2023-03-14T05:29:19.848Z"
   },
   {
    "duration": 6,
    "start_time": "2023-03-14T05:29:21.454Z"
   },
   {
    "duration": 15,
    "start_time": "2023-03-14T05:29:23.495Z"
   },
   {
    "duration": 5,
    "start_time": "2023-03-14T05:29:41.876Z"
   },
   {
    "duration": 14,
    "start_time": "2023-03-14T05:29:43.571Z"
   },
   {
    "duration": 16,
    "start_time": "2023-03-14T05:29:46.814Z"
   },
   {
    "duration": 6,
    "start_time": "2023-03-14T05:30:12.686Z"
   },
   {
    "duration": 26,
    "start_time": "2023-03-14T05:30:15.438Z"
   },
   {
    "duration": 3,
    "start_time": "2023-03-14T05:30:39.875Z"
   },
   {
    "duration": 75,
    "start_time": "2023-03-14T05:30:39.880Z"
   },
   {
    "duration": 15,
    "start_time": "2023-03-14T05:30:39.957Z"
   },
   {
    "duration": 13,
    "start_time": "2023-03-14T05:30:39.974Z"
   },
   {
    "duration": 5,
    "start_time": "2023-03-14T05:30:42.374Z"
   },
   {
    "duration": 15,
    "start_time": "2023-03-14T05:30:44.107Z"
   },
   {
    "duration": 23,
    "start_time": "2023-03-14T05:30:46.043Z"
   },
   {
    "duration": 20,
    "start_time": "2023-03-14T05:34:04.157Z"
   },
   {
    "duration": 15,
    "start_time": "2023-03-14T05:34:09.205Z"
   },
   {
    "duration": 15,
    "start_time": "2023-03-14T05:34:53.210Z"
   },
   {
    "duration": 9,
    "start_time": "2023-03-14T05:36:08.409Z"
   },
   {
    "duration": 10,
    "start_time": "2023-03-14T05:44:40.381Z"
   },
   {
    "duration": 10,
    "start_time": "2023-03-14T05:45:24.499Z"
   },
   {
    "duration": 13,
    "start_time": "2023-03-14T05:45:41.762Z"
   },
   {
    "duration": 7,
    "start_time": "2023-03-14T05:46:16.399Z"
   },
   {
    "duration": 8,
    "start_time": "2023-03-14T05:46:27.063Z"
   },
   {
    "duration": 46,
    "start_time": "2023-03-14T05:49:21.505Z"
   },
   {
    "duration": 7,
    "start_time": "2023-03-14T05:49:25.635Z"
   },
   {
    "duration": 6,
    "start_time": "2023-03-14T05:49:35.272Z"
   },
   {
    "duration": 7,
    "start_time": "2023-03-14T05:49:47.797Z"
   },
   {
    "duration": 6,
    "start_time": "2023-03-14T05:49:52.608Z"
   },
   {
    "duration": 14,
    "start_time": "2023-03-14T05:50:12.918Z"
   },
   {
    "duration": 4,
    "start_time": "2023-03-14T05:51:06.003Z"
   },
   {
    "duration": 71,
    "start_time": "2023-03-14T05:51:06.009Z"
   },
   {
    "duration": 18,
    "start_time": "2023-03-14T05:51:06.082Z"
   },
   {
    "duration": 18,
    "start_time": "2023-03-14T05:51:06.102Z"
   },
   {
    "duration": 11,
    "start_time": "2023-03-14T05:51:06.142Z"
   },
   {
    "duration": 11,
    "start_time": "2023-03-14T05:51:06.155Z"
   },
   {
    "duration": 9,
    "start_time": "2023-03-14T05:51:06.168Z"
   },
   {
    "duration": 9,
    "start_time": "2023-03-14T05:51:06.179Z"
   },
   {
    "duration": 7,
    "start_time": "2023-03-14T05:51:06.190Z"
   },
   {
    "duration": 5,
    "start_time": "2023-03-14T05:51:08.218Z"
   },
   {
    "duration": 8,
    "start_time": "2023-03-14T05:51:09.009Z"
   },
   {
    "duration": 3,
    "start_time": "2023-03-14T05:52:55.138Z"
   },
   {
    "duration": 3,
    "start_time": "2023-03-14T05:53:19.414Z"
   },
   {
    "duration": 77,
    "start_time": "2023-03-14T05:53:19.420Z"
   },
   {
    "duration": 16,
    "start_time": "2023-03-14T05:53:19.499Z"
   },
   {
    "duration": 27,
    "start_time": "2023-03-14T05:53:19.517Z"
   },
   {
    "duration": 15,
    "start_time": "2023-03-14T05:53:19.547Z"
   },
   {
    "duration": 12,
    "start_time": "2023-03-14T05:53:19.564Z"
   },
   {
    "duration": 18,
    "start_time": "2023-03-14T05:53:19.578Z"
   },
   {
    "duration": 7,
    "start_time": "2023-03-14T05:53:19.598Z"
   },
   {
    "duration": 36,
    "start_time": "2023-03-14T05:53:19.607Z"
   },
   {
    "duration": 56,
    "start_time": "2023-03-14T05:53:19.644Z"
   },
   {
    "duration": 5,
    "start_time": "2023-03-14T05:54:30.311Z"
   },
   {
    "duration": 8,
    "start_time": "2023-03-14T05:54:32.824Z"
   },
   {
    "duration": 11,
    "start_time": "2023-03-14T05:54:56.036Z"
   },
   {
    "duration": 51,
    "start_time": "2023-03-14T08:26:49.491Z"
   },
   {
    "duration": 459,
    "start_time": "2023-03-14T08:26:55.363Z"
   },
   {
    "duration": 232,
    "start_time": "2023-03-14T08:26:55.824Z"
   },
   {
    "duration": 22,
    "start_time": "2023-03-14T08:26:56.058Z"
   },
   {
    "duration": 21,
    "start_time": "2023-03-14T08:26:56.084Z"
   },
   {
    "duration": 16,
    "start_time": "2023-03-14T08:26:56.106Z"
   },
   {
    "duration": 18,
    "start_time": "2023-03-14T08:26:56.124Z"
   },
   {
    "duration": 29,
    "start_time": "2023-03-14T08:26:56.144Z"
   },
   {
    "duration": 8,
    "start_time": "2023-03-14T08:26:56.175Z"
   },
   {
    "duration": 19,
    "start_time": "2023-03-14T08:26:56.185Z"
   },
   {
    "duration": 10,
    "start_time": "2023-03-14T08:26:56.207Z"
   },
   {
    "duration": 13,
    "start_time": "2023-03-14T08:26:56.219Z"
   },
   {
    "duration": 5,
    "start_time": "2023-03-14T08:26:58.506Z"
   },
   {
    "duration": 6,
    "start_time": "2023-03-14T08:27:09.926Z"
   },
   {
    "duration": 6,
    "start_time": "2023-03-14T08:27:22.972Z"
   },
   {
    "duration": 31,
    "start_time": "2023-03-14T08:27:34.303Z"
   },
   {
    "duration": 6,
    "start_time": "2023-03-14T08:29:15.596Z"
   },
   {
    "duration": 33,
    "start_time": "2023-03-14T08:29:26.812Z"
   },
   {
    "duration": 7,
    "start_time": "2023-03-14T08:30:30.449Z"
   },
   {
    "duration": 30,
    "start_time": "2023-03-14T08:30:38.141Z"
   },
   {
    "duration": 44,
    "start_time": "2023-03-14T08:30:44.053Z"
   },
   {
    "duration": 22,
    "start_time": "2023-03-14T08:30:48.093Z"
   },
   {
    "duration": 35,
    "start_time": "2023-03-14T08:30:57.991Z"
   },
   {
    "duration": 17,
    "start_time": "2023-03-14T08:32:54.832Z"
   },
   {
    "duration": 423,
    "start_time": "2023-03-16T04:33:53.515Z"
   },
   {
    "duration": 141,
    "start_time": "2023-03-16T04:33:53.940Z"
   },
   {
    "duration": 19,
    "start_time": "2023-03-16T04:33:54.083Z"
   },
   {
    "duration": 14,
    "start_time": "2023-03-16T04:33:54.104Z"
   },
   {
    "duration": 12,
    "start_time": "2023-03-16T04:33:54.120Z"
   },
   {
    "duration": 10,
    "start_time": "2023-03-16T04:33:54.133Z"
   },
   {
    "duration": 8,
    "start_time": "2023-03-16T04:33:54.145Z"
   },
   {
    "duration": 7,
    "start_time": "2023-03-16T04:33:54.155Z"
   },
   {
    "duration": 8,
    "start_time": "2023-03-16T04:33:54.163Z"
   },
   {
    "duration": 9,
    "start_time": "2023-03-16T04:33:54.173Z"
   },
   {
    "duration": 18,
    "start_time": "2023-03-16T04:33:54.183Z"
   },
   {
    "duration": 37,
    "start_time": "2023-03-16T04:33:54.203Z"
   },
   {
    "duration": 16,
    "start_time": "2023-03-16T04:37:56.284Z"
   },
   {
    "duration": 15,
    "start_time": "2023-03-16T04:42:37.652Z"
   },
   {
    "duration": 67,
    "start_time": "2023-03-16T04:42:58.886Z"
   },
   {
    "duration": 13,
    "start_time": "2023-03-16T04:43:10.520Z"
   },
   {
    "duration": 536,
    "start_time": "2023-03-16T04:44:14.009Z"
   },
   {
    "duration": 141,
    "start_time": "2023-03-16T04:44:18.795Z"
   },
   {
    "duration": 166,
    "start_time": "2023-03-16T04:44:50.590Z"
   },
   {
    "duration": 14,
    "start_time": "2023-03-16T04:44:59.830Z"
   },
   {
    "duration": 26,
    "start_time": "2023-03-16T04:45:48.255Z"
   },
   {
    "duration": 145,
    "start_time": "2023-03-16T04:45:51.722Z"
   },
   {
    "duration": 14,
    "start_time": "2023-03-16T04:47:02.531Z"
   },
   {
    "duration": 3,
    "start_time": "2023-03-16T04:47:15.616Z"
   },
   {
    "duration": 19,
    "start_time": "2023-03-16T04:47:19.108Z"
   },
   {
    "duration": 17,
    "start_time": "2023-03-16T04:47:46.686Z"
   },
   {
    "duration": 92,
    "start_time": "2023-03-16T04:48:25.644Z"
   },
   {
    "duration": 15,
    "start_time": "2023-03-16T04:48:30.098Z"
   },
   {
    "duration": 198,
    "start_time": "2023-03-16T04:49:07.651Z"
   },
   {
    "duration": 160,
    "start_time": "2023-03-16T04:49:24.925Z"
   },
   {
    "duration": 140,
    "start_time": "2023-03-16T04:49:29.032Z"
   },
   {
    "duration": 8,
    "start_time": "2023-03-16T04:50:30.186Z"
   },
   {
    "duration": 13,
    "start_time": "2023-03-16T04:51:44.440Z"
   },
   {
    "duration": 13,
    "start_time": "2023-03-16T04:51:51.510Z"
   },
   {
    "duration": 13,
    "start_time": "2023-03-16T04:52:02.746Z"
   },
   {
    "duration": 7,
    "start_time": "2023-03-16T04:53:04.574Z"
   },
   {
    "duration": 141,
    "start_time": "2023-03-16T04:53:13.040Z"
   },
   {
    "duration": 3,
    "start_time": "2023-03-16T04:53:31.339Z"
   },
   {
    "duration": 74,
    "start_time": "2023-03-16T04:53:31.348Z"
   },
   {
    "duration": 13,
    "start_time": "2023-03-16T04:53:31.425Z"
   },
   {
    "duration": 19,
    "start_time": "2023-03-16T04:53:31.440Z"
   },
   {
    "duration": 15,
    "start_time": "2023-03-16T04:53:31.461Z"
   },
   {
    "duration": 21,
    "start_time": "2023-03-16T04:53:31.478Z"
   },
   {
    "duration": 23,
    "start_time": "2023-03-16T04:53:31.501Z"
   },
   {
    "duration": 26,
    "start_time": "2023-03-16T04:53:31.526Z"
   },
   {
    "duration": 23,
    "start_time": "2023-03-16T04:53:31.553Z"
   },
   {
    "duration": 19,
    "start_time": "2023-03-16T04:53:31.578Z"
   },
   {
    "duration": 30,
    "start_time": "2023-03-16T04:53:31.599Z"
   },
   {
    "duration": 36,
    "start_time": "2023-03-16T04:53:31.630Z"
   },
   {
    "duration": 55,
    "start_time": "2023-03-16T04:53:31.667Z"
   },
   {
    "duration": 161,
    "start_time": "2023-03-16T04:53:31.724Z"
   },
   {
    "duration": 12,
    "start_time": "2023-03-16T04:53:31.887Z"
   },
   {
    "duration": 8,
    "start_time": "2023-03-16T04:53:38.206Z"
   },
   {
    "duration": 131,
    "start_time": "2023-03-16T04:53:38.796Z"
   },
   {
    "duration": 33,
    "start_time": "2023-03-16T04:58:18.326Z"
   },
   {
    "duration": 11,
    "start_time": "2023-03-16T04:58:24.382Z"
   },
   {
    "duration": 12,
    "start_time": "2023-03-16T04:58:46.141Z"
   },
   {
    "duration": 12,
    "start_time": "2023-03-16T04:59:07.086Z"
   },
   {
    "duration": 10,
    "start_time": "2023-03-16T04:59:14.434Z"
   },
   {
    "duration": 896,
    "start_time": "2023-03-17T05:58:25.894Z"
   },
   {
    "duration": 130,
    "start_time": "2023-03-17T05:58:26.792Z"
   },
   {
    "duration": 16,
    "start_time": "2023-03-17T05:58:26.924Z"
   },
   {
    "duration": 22,
    "start_time": "2023-03-17T05:58:26.943Z"
   },
   {
    "duration": 13,
    "start_time": "2023-03-17T05:58:26.967Z"
   },
   {
    "duration": 15,
    "start_time": "2023-03-17T05:58:26.981Z"
   },
   {
    "duration": 31,
    "start_time": "2023-03-17T05:58:26.998Z"
   },
   {
    "duration": 13,
    "start_time": "2023-03-17T05:58:27.031Z"
   },
   {
    "duration": 35,
    "start_time": "2023-03-17T05:58:27.046Z"
   },
   {
    "duration": 10,
    "start_time": "2023-03-17T05:58:27.084Z"
   },
   {
    "duration": 43,
    "start_time": "2023-03-17T05:58:27.096Z"
   },
   {
    "duration": 23,
    "start_time": "2023-03-17T05:58:27.140Z"
   },
   {
    "duration": 62,
    "start_time": "2023-03-17T05:58:27.165Z"
   },
   {
    "duration": 189,
    "start_time": "2023-03-17T05:58:27.229Z"
   },
   {
    "duration": 16,
    "start_time": "2023-03-17T05:58:27.420Z"
   },
   {
    "duration": 52,
    "start_time": "2023-03-17T05:58:27.438Z"
   },
   {
    "duration": 194,
    "start_time": "2023-03-17T05:58:27.492Z"
   },
   {
    "duration": 14,
    "start_time": "2023-03-17T05:58:27.688Z"
   },
   {
    "duration": 697,
    "start_time": "2023-03-17T06:01:15.331Z"
   },
   {
    "duration": 72,
    "start_time": "2023-03-17T06:01:16.030Z"
   },
   {
    "duration": 15,
    "start_time": "2023-03-17T06:01:16.104Z"
   },
   {
    "duration": 16,
    "start_time": "2023-03-17T06:01:16.122Z"
   },
   {
    "duration": 29,
    "start_time": "2023-03-17T06:01:16.140Z"
   },
   {
    "duration": 12,
    "start_time": "2023-03-17T06:01:16.172Z"
   },
   {
    "duration": 26,
    "start_time": "2023-03-17T06:01:16.186Z"
   },
   {
    "duration": 8,
    "start_time": "2023-03-17T06:01:16.214Z"
   },
   {
    "duration": 19,
    "start_time": "2023-03-17T06:01:16.224Z"
   },
   {
    "duration": 21,
    "start_time": "2023-03-17T06:01:16.245Z"
   },
   {
    "duration": 20,
    "start_time": "2023-03-17T06:01:16.267Z"
   },
   {
    "duration": 12,
    "start_time": "2023-03-17T06:01:16.289Z"
   },
   {
    "duration": 18,
    "start_time": "2023-03-17T06:01:16.303Z"
   },
   {
    "duration": 198,
    "start_time": "2023-03-17T06:01:16.323Z"
   },
   {
    "duration": 15,
    "start_time": "2023-03-17T06:01:16.522Z"
   },
   {
    "duration": 13,
    "start_time": "2023-03-17T06:01:16.539Z"
   },
   {
    "duration": 178,
    "start_time": "2023-03-17T06:01:16.564Z"
   },
   {
    "duration": 26,
    "start_time": "2023-03-17T06:01:16.745Z"
   },
   {
    "duration": 14,
    "start_time": "2023-03-17T06:05:18.975Z"
   },
   {
    "duration": 16,
    "start_time": "2023-03-17T06:05:27.535Z"
   },
   {
    "duration": 53,
    "start_time": "2023-03-17T06:05:36.101Z"
   },
   {
    "duration": 17,
    "start_time": "2023-03-17T06:06:22.481Z"
   },
   {
    "duration": 55,
    "start_time": "2023-03-17T06:06:28.175Z"
   },
   {
    "duration": 431,
    "start_time": "2023-03-17T06:06:56.490Z"
   },
   {
    "duration": 459,
    "start_time": "2023-03-17T06:07:05.608Z"
   },
   {
    "duration": 55,
    "start_time": "2023-03-17T06:07:18.422Z"
   },
   {
    "duration": 94,
    "start_time": "2023-03-17T06:08:13.539Z"
   },
   {
    "duration": 24,
    "start_time": "2023-03-17T06:08:25.765Z"
   },
   {
    "duration": 21,
    "start_time": "2023-03-17T06:08:35.996Z"
   },
   {
    "duration": 56,
    "start_time": "2023-03-17T06:08:41.041Z"
   },
   {
    "duration": 20,
    "start_time": "2023-03-17T06:09:59.705Z"
   },
   {
    "duration": 8,
    "start_time": "2023-03-17T06:41:54.184Z"
   },
   {
    "duration": 14,
    "start_time": "2023-03-17T06:41:59.481Z"
   },
   {
    "duration": 4,
    "start_time": "2023-03-17T06:42:28.174Z"
   },
   {
    "duration": 10,
    "start_time": "2023-03-17T06:43:27.602Z"
   },
   {
    "duration": 15,
    "start_time": "2023-03-17T06:43:41.873Z"
   },
   {
    "duration": 18,
    "start_time": "2023-03-17T06:43:46.078Z"
   },
   {
    "duration": 19,
    "start_time": "2023-03-17T06:44:05.297Z"
   },
   {
    "duration": 23,
    "start_time": "2023-03-17T06:45:02.896Z"
   },
   {
    "duration": 15,
    "start_time": "2023-03-17T06:45:07.725Z"
   },
   {
    "duration": 9,
    "start_time": "2023-03-17T06:47:51.168Z"
   },
   {
    "duration": 26,
    "start_time": "2023-03-17T06:49:05.196Z"
   },
   {
    "duration": 24,
    "start_time": "2023-03-17T06:51:37.020Z"
   },
   {
    "duration": 21,
    "start_time": "2023-03-17T06:52:09.593Z"
   },
   {
    "duration": 42,
    "start_time": "2023-03-17T06:52:51.554Z"
   },
   {
    "duration": 32,
    "start_time": "2023-03-17T06:53:01.500Z"
   },
   {
    "duration": 30,
    "start_time": "2023-03-17T06:53:08.573Z"
   },
   {
    "duration": 4,
    "start_time": "2023-03-17T06:53:17.526Z"
   },
   {
    "duration": 3,
    "start_time": "2023-03-17T06:54:51.220Z"
   },
   {
    "duration": 20,
    "start_time": "2023-03-17T06:55:08.214Z"
   },
   {
    "duration": 31,
    "start_time": "2023-03-17T06:55:19.109Z"
   },
   {
    "duration": 25,
    "start_time": "2023-03-17T06:55:24.744Z"
   },
   {
    "duration": 192,
    "start_time": "2023-03-17T06:55:31.678Z"
   },
   {
    "duration": 222,
    "start_time": "2023-03-17T06:55:34.394Z"
   },
   {
    "duration": 246,
    "start_time": "2023-03-17T06:56:43.661Z"
   },
   {
    "duration": 192,
    "start_time": "2023-03-17T06:57:08.594Z"
   },
   {
    "duration": 240,
    "start_time": "2023-03-17T06:57:17.067Z"
   },
   {
    "duration": 27,
    "start_time": "2023-03-17T07:07:05.973Z"
   },
   {
    "duration": 28,
    "start_time": "2023-03-17T07:07:19.109Z"
   },
   {
    "duration": 20,
    "start_time": "2023-03-17T07:07:54.773Z"
   },
   {
    "duration": 23,
    "start_time": "2023-03-17T07:08:03.778Z"
   },
   {
    "duration": 22,
    "start_time": "2023-03-17T07:08:19.426Z"
   },
   {
    "duration": 22,
    "start_time": "2023-03-17T07:09:13.649Z"
   },
   {
    "duration": 18,
    "start_time": "2023-03-17T07:09:23.487Z"
   },
   {
    "duration": 174,
    "start_time": "2023-03-17T07:14:01.444Z"
   },
   {
    "duration": 22,
    "start_time": "2023-03-17T07:14:05.624Z"
   },
   {
    "duration": 29,
    "start_time": "2023-03-17T07:14:14.737Z"
   },
   {
    "duration": 680,
    "start_time": "2023-03-17T07:14:31.287Z"
   },
   {
    "duration": 204,
    "start_time": "2023-03-17T07:14:37.725Z"
   },
   {
    "duration": 191,
    "start_time": "2023-03-17T07:15:03.821Z"
   },
   {
    "duration": 239,
    "start_time": "2023-03-17T07:17:04.772Z"
   },
   {
    "duration": 209,
    "start_time": "2023-03-17T07:17:50.453Z"
   },
   {
    "duration": 12,
    "start_time": "2023-03-17T07:19:46.389Z"
   },
   {
    "duration": 10,
    "start_time": "2023-03-17T07:20:21.187Z"
   },
   {
    "duration": 14,
    "start_time": "2023-03-17T07:20:39.286Z"
   },
   {
    "duration": 14,
    "start_time": "2023-03-17T07:21:35.957Z"
   },
   {
    "duration": 12,
    "start_time": "2023-03-17T07:21:50.164Z"
   },
   {
    "duration": 13,
    "start_time": "2023-03-17T07:22:00.972Z"
   },
   {
    "duration": 30,
    "start_time": "2023-03-17T07:22:12.216Z"
   },
   {
    "duration": 38,
    "start_time": "2023-03-17T07:22:51.080Z"
   },
   {
    "duration": 63,
    "start_time": "2023-03-17T07:22:57.293Z"
   },
   {
    "duration": 43,
    "start_time": "2023-03-17T07:22:59.775Z"
   },
   {
    "duration": 37,
    "start_time": "2023-03-17T07:23:03.849Z"
   },
   {
    "duration": 46,
    "start_time": "2023-03-17T07:23:21.592Z"
   },
   {
    "duration": 39,
    "start_time": "2023-03-17T07:23:31.751Z"
   },
   {
    "duration": 181,
    "start_time": "2023-03-17T07:23:40.652Z"
   },
   {
    "duration": 240,
    "start_time": "2023-03-17T07:23:59.058Z"
   },
   {
    "duration": 162,
    "start_time": "2023-03-17T07:24:09.657Z"
   },
   {
    "duration": 156,
    "start_time": "2023-03-17T07:24:15.297Z"
   },
   {
    "duration": 153,
    "start_time": "2023-03-17T07:24:19.041Z"
   },
   {
    "duration": 172,
    "start_time": "2023-03-17T07:25:40.549Z"
   },
   {
    "duration": 163,
    "start_time": "2023-03-17T07:29:47.251Z"
   },
   {
    "duration": 18,
    "start_time": "2023-03-17T07:31:38.011Z"
   },
   {
    "duration": 187,
    "start_time": "2023-03-17T07:31:46.279Z"
   },
   {
    "duration": 2761,
    "start_time": "2023-03-17T07:32:15.257Z"
   },
   {
    "duration": 16,
    "start_time": "2023-03-17T07:35:11.739Z"
   },
   {
    "duration": 13,
    "start_time": "2023-03-17T07:35:18.025Z"
   },
   {
    "duration": 31,
    "start_time": "2023-03-17T07:37:05.879Z"
   },
   {
    "duration": 18,
    "start_time": "2023-03-17T07:37:17.335Z"
   },
   {
    "duration": 54,
    "start_time": "2023-03-17T07:37:40.326Z"
   },
   {
    "duration": 56,
    "start_time": "2023-03-17T07:37:47.258Z"
   },
   {
    "duration": 80,
    "start_time": "2023-03-17T07:38:25.044Z"
   },
   {
    "duration": 57,
    "start_time": "2023-03-17T07:38:29.623Z"
   },
   {
    "duration": 170,
    "start_time": "2023-03-17T07:40:23.665Z"
   },
   {
    "duration": 14,
    "start_time": "2023-03-17T07:40:37.771Z"
   },
   {
    "duration": 15,
    "start_time": "2023-03-17T07:41:35.162Z"
   },
   {
    "duration": 14,
    "start_time": "2023-03-17T07:41:38.294Z"
   },
   {
    "duration": 19,
    "start_time": "2023-03-17T07:42:27.929Z"
   },
   {
    "duration": 15,
    "start_time": "2023-03-17T07:44:00.652Z"
   },
   {
    "duration": 13,
    "start_time": "2023-03-17T07:44:09.835Z"
   },
   {
    "duration": 13,
    "start_time": "2023-03-17T07:44:24.484Z"
   },
   {
    "duration": 13,
    "start_time": "2023-03-17T07:46:40.031Z"
   },
   {
    "duration": 169,
    "start_time": "2023-03-17T07:48:58.768Z"
   },
   {
    "duration": 15,
    "start_time": "2023-03-17T07:49:12.996Z"
   },
   {
    "duration": 188,
    "start_time": "2023-03-17T07:52:47.343Z"
   },
   {
    "duration": 13,
    "start_time": "2023-03-17T07:53:01.536Z"
   },
   {
    "duration": 14,
    "start_time": "2023-03-17T07:53:42.722Z"
   },
   {
    "duration": 461,
    "start_time": "2023-03-17T07:55:24.696Z"
   },
   {
    "duration": 29,
    "start_time": "2023-03-17T07:55:49.305Z"
   },
   {
    "duration": 189,
    "start_time": "2023-03-17T07:55:56.463Z"
   },
   {
    "duration": 186,
    "start_time": "2023-03-17T07:56:03.696Z"
   },
   {
    "duration": 262,
    "start_time": "2023-03-17T07:56:34.672Z"
   },
   {
    "duration": 13,
    "start_time": "2023-03-17T07:56:57.517Z"
   },
   {
    "duration": 311,
    "start_time": "2023-03-17T08:04:26.323Z"
   },
   {
    "duration": 217,
    "start_time": "2023-03-17T08:05:10.717Z"
   },
   {
    "duration": 217,
    "start_time": "2023-03-17T08:05:33.073Z"
   },
   {
    "duration": 346,
    "start_time": "2023-03-17T08:05:57.460Z"
   },
   {
    "duration": 14,
    "start_time": "2023-03-17T08:07:57.519Z"
   },
   {
    "duration": 1529,
    "start_time": "2023-03-17T08:08:56.510Z"
   },
   {
    "duration": 2114,
    "start_time": "2023-03-17T08:09:05.958Z"
   },
   {
    "duration": 848,
    "start_time": "2023-03-17T08:09:19.221Z"
   },
   {
    "duration": 1479,
    "start_time": "2023-03-17T08:09:24.715Z"
   },
   {
    "duration": 1558,
    "start_time": "2023-03-17T08:14:56.051Z"
   },
   {
    "duration": 13,
    "start_time": "2023-03-17T08:15:57.552Z"
   },
   {
    "duration": 249,
    "start_time": "2023-03-17T08:16:19.749Z"
   },
   {
    "duration": 3,
    "start_time": "2023-03-17T08:17:43.213Z"
   },
   {
    "duration": 158,
    "start_time": "2023-03-17T08:32:37.960Z"
   },
   {
    "duration": 26,
    "start_time": "2023-03-17T08:38:28.763Z"
   },
   {
    "duration": 163,
    "start_time": "2023-03-17T08:47:26.259Z"
   },
   {
    "duration": 360,
    "start_time": "2023-03-17T08:50:19.974Z"
   },
   {
    "duration": 157,
    "start_time": "2023-03-17T08:50:57.513Z"
   },
   {
    "duration": 167,
    "start_time": "2023-03-17T08:51:00.815Z"
   },
   {
    "duration": 2048,
    "start_time": "2023-03-17T08:56:07.676Z"
   },
   {
    "duration": 3,
    "start_time": "2023-03-17T08:56:17.561Z"
   },
   {
    "duration": 67,
    "start_time": "2023-03-17T08:56:17.569Z"
   },
   {
    "duration": 16,
    "start_time": "2023-03-17T08:56:17.639Z"
   },
   {
    "duration": 23,
    "start_time": "2023-03-17T08:56:17.657Z"
   },
   {
    "duration": 11,
    "start_time": "2023-03-17T08:56:17.682Z"
   },
   {
    "duration": 13,
    "start_time": "2023-03-17T08:56:17.696Z"
   },
   {
    "duration": 14,
    "start_time": "2023-03-17T08:56:17.711Z"
   },
   {
    "duration": 38,
    "start_time": "2023-03-17T08:56:17.727Z"
   },
   {
    "duration": 28,
    "start_time": "2023-03-17T08:56:17.767Z"
   },
   {
    "duration": 8,
    "start_time": "2023-03-17T08:56:17.797Z"
   },
   {
    "duration": 10,
    "start_time": "2023-03-17T08:56:17.807Z"
   },
   {
    "duration": 15,
    "start_time": "2023-03-17T08:56:17.819Z"
   },
   {
    "duration": 46,
    "start_time": "2023-03-17T08:56:17.836Z"
   },
   {
    "duration": 224,
    "start_time": "2023-03-17T08:56:17.884Z"
   },
   {
    "duration": 19,
    "start_time": "2023-03-17T08:56:18.112Z"
   },
   {
    "duration": 33,
    "start_time": "2023-03-17T08:56:18.134Z"
   },
   {
    "duration": 197,
    "start_time": "2023-03-17T08:56:18.170Z"
   },
   {
    "duration": 3,
    "start_time": "2023-03-17T08:56:18.369Z"
   },
   {
    "duration": 19,
    "start_time": "2023-03-17T08:56:18.374Z"
   },
   {
    "duration": 80,
    "start_time": "2023-03-17T08:56:18.396Z"
   },
   {
    "duration": 0,
    "start_time": "2023-03-17T08:56:18.479Z"
   },
   {
    "duration": 0,
    "start_time": "2023-03-17T08:56:18.481Z"
   },
   {
    "duration": 1819,
    "start_time": "2023-03-17T08:56:21.263Z"
   },
   {
    "duration": 2044,
    "start_time": "2023-03-17T09:03:25.233Z"
   },
   {
    "duration": 17,
    "start_time": "2023-03-17T09:03:42.381Z"
   },
   {
    "duration": 622,
    "start_time": "2023-03-17T09:03:44.934Z"
   },
   {
    "duration": 626,
    "start_time": "2023-03-17T09:04:17.534Z"
   },
   {
    "duration": 667,
    "start_time": "2023-03-17T09:04:24.486Z"
   },
   {
    "duration": 207,
    "start_time": "2023-03-17T09:06:21.837Z"
   },
   {
    "duration": 169,
    "start_time": "2023-03-17T09:06:36.016Z"
   },
   {
    "duration": 196,
    "start_time": "2023-03-17T09:06:39.271Z"
   },
   {
    "duration": 256,
    "start_time": "2023-03-17T09:06:43.180Z"
   },
   {
    "duration": 580,
    "start_time": "2023-03-17T09:07:07.081Z"
   },
   {
    "duration": 592,
    "start_time": "2023-03-17T09:07:17.124Z"
   },
   {
    "duration": 796,
    "start_time": "2023-03-17T09:07:37.125Z"
   },
   {
    "duration": 564,
    "start_time": "2023-03-17T09:07:43.477Z"
   },
   {
    "duration": 26,
    "start_time": "2023-03-17T09:28:50.354Z"
   },
   {
    "duration": 5,
    "start_time": "2023-03-17T09:28:54.385Z"
   },
   {
    "duration": 81,
    "start_time": "2023-03-17T09:28:54.392Z"
   },
   {
    "duration": 17,
    "start_time": "2023-03-17T09:28:54.475Z"
   },
   {
    "duration": 17,
    "start_time": "2023-03-17T09:28:54.495Z"
   },
   {
    "duration": 10,
    "start_time": "2023-03-17T09:28:54.515Z"
   },
   {
    "duration": 40,
    "start_time": "2023-03-17T09:28:54.527Z"
   },
   {
    "duration": 12,
    "start_time": "2023-03-17T09:28:54.569Z"
   },
   {
    "duration": 17,
    "start_time": "2023-03-17T09:28:54.583Z"
   },
   {
    "duration": 25,
    "start_time": "2023-03-17T09:28:54.602Z"
   },
   {
    "duration": 12,
    "start_time": "2023-03-17T09:28:54.631Z"
   },
   {
    "duration": 8,
    "start_time": "2023-03-17T09:28:54.665Z"
   },
   {
    "duration": 26,
    "start_time": "2023-03-17T09:28:54.675Z"
   },
   {
    "duration": 30,
    "start_time": "2023-03-17T09:28:54.704Z"
   },
   {
    "duration": 253,
    "start_time": "2023-03-17T09:28:54.738Z"
   },
   {
    "duration": 18,
    "start_time": "2023-03-17T09:28:54.993Z"
   },
   {
    "duration": 15,
    "start_time": "2023-03-17T09:28:55.013Z"
   },
   {
    "duration": 222,
    "start_time": "2023-03-17T09:28:55.030Z"
   },
   {
    "duration": 3,
    "start_time": "2023-03-17T09:28:55.254Z"
   },
   {
    "duration": 17,
    "start_time": "2023-03-17T09:28:55.258Z"
   },
   {
    "duration": 165,
    "start_time": "2023-03-17T09:28:57.485Z"
   },
   {
    "duration": 14,
    "start_time": "2023-03-17T09:29:04.982Z"
   },
   {
    "duration": 162,
    "start_time": "2023-03-17T09:29:29.672Z"
   },
   {
    "duration": 12,
    "start_time": "2023-03-17T09:30:22.034Z"
   },
   {
    "duration": 4,
    "start_time": "2023-03-17T09:31:50.122Z"
   },
   {
    "duration": 81,
    "start_time": "2023-03-17T09:31:50.128Z"
   },
   {
    "duration": 18,
    "start_time": "2023-03-17T09:31:50.211Z"
   },
   {
    "duration": 33,
    "start_time": "2023-03-17T09:31:50.231Z"
   },
   {
    "duration": 15,
    "start_time": "2023-03-17T09:31:50.267Z"
   },
   {
    "duration": 17,
    "start_time": "2023-03-17T09:31:50.283Z"
   },
   {
    "duration": 22,
    "start_time": "2023-03-17T09:31:50.302Z"
   },
   {
    "duration": 9,
    "start_time": "2023-03-17T09:31:50.327Z"
   },
   {
    "duration": 39,
    "start_time": "2023-03-17T09:31:50.338Z"
   },
   {
    "duration": 9,
    "start_time": "2023-03-17T09:31:50.380Z"
   },
   {
    "duration": 17,
    "start_time": "2023-03-17T09:31:50.391Z"
   },
   {
    "duration": 14,
    "start_time": "2023-03-17T09:31:50.410Z"
   },
   {
    "duration": 49,
    "start_time": "2023-03-17T09:31:50.430Z"
   },
   {
    "duration": 192,
    "start_time": "2023-03-17T09:31:50.481Z"
   },
   {
    "duration": 19,
    "start_time": "2023-03-17T09:31:50.675Z"
   },
   {
    "duration": 9,
    "start_time": "2023-03-17T09:31:50.696Z"
   },
   {
    "duration": 186,
    "start_time": "2023-03-17T09:31:50.707Z"
   },
   {
    "duration": 3,
    "start_time": "2023-03-17T09:31:50.896Z"
   },
   {
    "duration": 17,
    "start_time": "2023-03-17T09:31:50.900Z"
   },
   {
    "duration": 188,
    "start_time": "2023-03-17T09:31:50.920Z"
   },
   {
    "duration": 12,
    "start_time": "2023-03-17T09:31:51.111Z"
   },
   {
    "duration": 173,
    "start_time": "2023-03-17T09:31:51.124Z"
   },
   {
    "duration": 13,
    "start_time": "2023-03-17T09:31:51.300Z"
   },
   {
    "duration": 198,
    "start_time": "2023-03-17T09:31:51.315Z"
   },
   {
    "duration": 13,
    "start_time": "2023-03-17T09:31:51.516Z"
   },
   {
    "duration": 187,
    "start_time": "2023-03-17T09:31:51.531Z"
   },
   {
    "duration": 13,
    "start_time": "2023-03-17T09:31:51.720Z"
   },
   {
    "duration": 340,
    "start_time": "2023-03-17T09:31:51.735Z"
   },
   {
    "duration": 12,
    "start_time": "2023-03-17T09:31:52.077Z"
   },
   {
    "duration": 176,
    "start_time": "2023-03-17T09:31:52.090Z"
   },
   {
    "duration": 12,
    "start_time": "2023-03-17T09:31:52.268Z"
   },
   {
    "duration": 20,
    "start_time": "2023-03-17T09:31:52.282Z"
   },
   {
    "duration": 629,
    "start_time": "2023-03-17T09:31:52.304Z"
   },
   {
    "duration": 3,
    "start_time": "2023-03-17T09:31:52.935Z"
   },
   {
    "duration": 3363,
    "start_time": "2023-03-17T09:31:52.940Z"
   },
   {
    "duration": 313,
    "start_time": "2023-03-17T09:33:15.573Z"
   },
   {
    "duration": 297,
    "start_time": "2023-03-17T09:33:21.624Z"
   },
   {
    "duration": 124,
    "start_time": "2023-03-17T09:38:38.622Z"
   },
   {
    "duration": 198,
    "start_time": "2023-03-17T09:46:26.081Z"
   },
   {
    "duration": 260,
    "start_time": "2023-03-17T09:46:33.246Z"
   },
   {
    "duration": 238,
    "start_time": "2023-03-17T09:46:38.102Z"
   },
   {
    "duration": 238,
    "start_time": "2023-03-17T09:48:42.655Z"
   },
   {
    "duration": 379,
    "start_time": "2023-03-17T09:48:50.965Z"
   },
   {
    "duration": 232,
    "start_time": "2023-03-17T09:49:05.338Z"
   },
   {
    "duration": 37,
    "start_time": "2023-03-17T09:50:03.834Z"
   },
   {
    "duration": 232,
    "start_time": "2023-03-17T09:50:08.683Z"
   },
   {
    "duration": 238,
    "start_time": "2023-03-17T09:50:15.267Z"
   },
   {
    "duration": 220,
    "start_time": "2023-03-17T09:50:23.360Z"
   },
   {
    "duration": 225,
    "start_time": "2023-03-17T09:51:46.474Z"
   },
   {
    "duration": 251,
    "start_time": "2023-03-17T09:51:54.573Z"
   },
   {
    "duration": 224,
    "start_time": "2023-03-17T09:51:58.850Z"
   },
   {
    "duration": 234,
    "start_time": "2023-03-17T09:52:09.326Z"
   },
   {
    "duration": 370,
    "start_time": "2023-03-17T09:53:06.234Z"
   },
   {
    "duration": 504,
    "start_time": "2023-03-17T09:53:33.278Z"
   },
   {
    "duration": 226,
    "start_time": "2023-03-17T09:53:42.262Z"
   },
   {
    "duration": 388,
    "start_time": "2023-03-17T09:53:45.380Z"
   },
   {
    "duration": 404,
    "start_time": "2023-03-17T09:53:59.950Z"
   },
   {
    "duration": 229,
    "start_time": "2023-03-17T09:54:42.678Z"
   },
   {
    "duration": 250,
    "start_time": "2023-03-17T09:54:54.107Z"
   },
   {
    "duration": 381,
    "start_time": "2023-03-17T09:55:38.123Z"
   },
   {
    "duration": 496,
    "start_time": "2023-03-17T09:56:43.746Z"
   },
   {
    "duration": 343,
    "start_time": "2023-03-17T09:56:47.881Z"
   },
   {
    "duration": 367,
    "start_time": "2023-03-17T09:56:57.679Z"
   },
   {
    "duration": 5,
    "start_time": "2023-03-17T09:57:03.463Z"
   },
   {
    "duration": 91,
    "start_time": "2023-03-17T09:57:03.469Z"
   },
   {
    "duration": 29,
    "start_time": "2023-03-17T09:57:03.563Z"
   },
   {
    "duration": 29,
    "start_time": "2023-03-17T09:57:03.594Z"
   },
   {
    "duration": 11,
    "start_time": "2023-03-17T09:57:03.626Z"
   },
   {
    "duration": 31,
    "start_time": "2023-03-17T09:57:03.639Z"
   },
   {
    "duration": 17,
    "start_time": "2023-03-17T09:57:03.672Z"
   },
   {
    "duration": 11,
    "start_time": "2023-03-17T09:57:03.691Z"
   },
   {
    "duration": 32,
    "start_time": "2023-03-17T09:57:03.704Z"
   },
   {
    "duration": 34,
    "start_time": "2023-03-17T09:57:03.740Z"
   },
   {
    "duration": 24,
    "start_time": "2023-03-17T09:57:03.776Z"
   },
   {
    "duration": 15,
    "start_time": "2023-03-17T09:57:03.802Z"
   },
   {
    "duration": 20,
    "start_time": "2023-03-17T09:57:03.819Z"
   },
   {
    "duration": 229,
    "start_time": "2023-03-17T09:57:03.841Z"
   },
   {
    "duration": 21,
    "start_time": "2023-03-17T09:57:04.079Z"
   },
   {
    "duration": 16,
    "start_time": "2023-03-17T09:57:04.102Z"
   },
   {
    "duration": 190,
    "start_time": "2023-03-17T09:57:04.120Z"
   },
   {
    "duration": 2322,
    "start_time": "2023-03-17T09:57:04.313Z"
   },
   {
    "duration": 5,
    "start_time": "2023-03-17T09:59:08.810Z"
   },
   {
    "duration": 32,
    "start_time": "2023-03-17T09:59:21.326Z"
   },
   {
    "duration": 51,
    "start_time": "2023-03-17T09:59:51.991Z"
   },
   {
    "duration": 157,
    "start_time": "2023-03-17T10:00:05.951Z"
   },
   {
    "duration": 76,
    "start_time": "2023-03-17T10:00:28.416Z"
   },
   {
    "duration": 3003,
    "start_time": "2023-03-17T10:00:48.251Z"
   },
   {
    "duration": 31,
    "start_time": "2023-03-17T10:00:52.530Z"
   },
   {
    "duration": 35,
    "start_time": "2023-03-17T10:01:06.061Z"
   },
   {
    "duration": 18,
    "start_time": "2023-03-17T10:01:50.702Z"
   },
   {
    "duration": 15,
    "start_time": "2023-03-17T10:02:00.381Z"
   },
   {
    "duration": 81,
    "start_time": "2023-03-17T10:02:47.961Z"
   },
   {
    "duration": 788,
    "start_time": "2023-03-17T10:02:53.241Z"
   },
   {
    "duration": 1660,
    "start_time": "2023-03-17T12:47:10.664Z"
   },
   {
    "duration": 661,
    "start_time": "2023-03-17T12:47:12.326Z"
   },
   {
    "duration": 33,
    "start_time": "2023-03-17T12:47:12.990Z"
   },
   {
    "duration": 27,
    "start_time": "2023-03-17T12:47:13.026Z"
   },
   {
    "duration": 13,
    "start_time": "2023-03-17T12:47:13.056Z"
   },
   {
    "duration": 27,
    "start_time": "2023-03-17T12:47:13.072Z"
   },
   {
    "duration": 16,
    "start_time": "2023-03-17T12:47:13.102Z"
   },
   {
    "duration": 10,
    "start_time": "2023-03-17T12:47:13.121Z"
   },
   {
    "duration": 19,
    "start_time": "2023-03-17T12:47:13.134Z"
   },
   {
    "duration": 33,
    "start_time": "2023-03-17T12:47:13.157Z"
   },
   {
    "duration": 11,
    "start_time": "2023-03-17T12:47:13.199Z"
   },
   {
    "duration": 19,
    "start_time": "2023-03-17T12:47:13.214Z"
   },
   {
    "duration": 27,
    "start_time": "2023-03-17T12:47:13.236Z"
   },
   {
    "duration": 244,
    "start_time": "2023-03-17T12:47:13.266Z"
   },
   {
    "duration": 24,
    "start_time": "2023-03-17T12:47:13.515Z"
   },
   {
    "duration": 13,
    "start_time": "2023-03-17T12:47:13.542Z"
   },
   {
    "duration": 187,
    "start_time": "2023-03-17T12:47:13.557Z"
   },
   {
    "duration": 16,
    "start_time": "2023-03-17T12:47:13.746Z"
   },
   {
    "duration": 5,
    "start_time": "2023-03-17T12:47:13.764Z"
   },
   {
    "duration": 930,
    "start_time": "2023-03-17T12:47:13.793Z"
   },
   {
    "duration": 197,
    "start_time": "2023-03-17T12:47:14.724Z"
   },
   {
    "duration": 12,
    "start_time": "2023-03-17T12:47:14.923Z"
   },
   {
    "duration": 187,
    "start_time": "2023-03-17T12:47:14.937Z"
   },
   {
    "duration": 16,
    "start_time": "2023-03-17T12:47:15.127Z"
   },
   {
    "duration": 370,
    "start_time": "2023-03-17T12:47:15.146Z"
   },
   {
    "duration": 22,
    "start_time": "2023-03-17T12:47:15.522Z"
   },
   {
    "duration": 233,
    "start_time": "2023-03-17T12:47:15.546Z"
   },
   {
    "duration": 29,
    "start_time": "2023-03-17T12:47:15.784Z"
   },
   {
    "duration": 184,
    "start_time": "2023-03-17T12:47:15.819Z"
   },
   {
    "duration": 16,
    "start_time": "2023-03-17T12:47:16.005Z"
   },
   {
    "duration": 175,
    "start_time": "2023-03-17T12:47:16.024Z"
   },
   {
    "duration": 23,
    "start_time": "2023-03-17T12:47:16.201Z"
   },
   {
    "duration": 19,
    "start_time": "2023-03-17T12:47:16.226Z"
   },
   {
    "duration": 773,
    "start_time": "2023-03-17T12:47:16.247Z"
   },
   {
    "duration": 230,
    "start_time": "2023-03-17T12:47:17.022Z"
   },
   {
    "duration": 285,
    "start_time": "2023-03-17T12:47:17.254Z"
   },
   {
    "duration": 3,
    "start_time": "2023-03-17T12:47:17.541Z"
   },
   {
    "duration": 3797,
    "start_time": "2023-03-17T12:47:17.547Z"
   },
   {
    "duration": 230,
    "start_time": "2023-03-17T12:58:47.646Z"
   },
   {
    "duration": 21,
    "start_time": "2023-03-17T12:58:54.030Z"
   },
   {
    "duration": 15,
    "start_time": "2023-03-17T12:59:11.744Z"
   },
   {
    "duration": 33,
    "start_time": "2023-03-17T12:59:18.226Z"
   },
   {
    "duration": 427,
    "start_time": "2023-03-17T13:00:18.931Z"
   },
   {
    "duration": 20,
    "start_time": "2023-03-17T13:04:08.841Z"
   },
   {
    "duration": 154,
    "start_time": "2023-03-17T13:04:56.385Z"
   },
   {
    "duration": 19,
    "start_time": "2023-03-17T13:05:09.434Z"
   },
   {
    "duration": 20,
    "start_time": "2023-03-17T13:05:30.358Z"
   },
   {
    "duration": 8,
    "start_time": "2023-03-17T13:08:12.884Z"
   },
   {
    "duration": 23,
    "start_time": "2023-03-17T13:08:22.046Z"
   },
   {
    "duration": 16,
    "start_time": "2023-03-17T13:08:33.718Z"
   },
   {
    "duration": 16,
    "start_time": "2023-03-17T13:08:40.745Z"
   },
   {
    "duration": 5,
    "start_time": "2023-03-17T13:10:33.550Z"
   },
   {
    "duration": 7,
    "start_time": "2023-03-17T13:10:44.141Z"
   },
   {
    "duration": 4,
    "start_time": "2023-03-17T13:12:30.949Z"
   },
   {
    "duration": 110,
    "start_time": "2023-03-17T13:12:30.955Z"
   },
   {
    "duration": 17,
    "start_time": "2023-03-17T13:12:31.066Z"
   },
   {
    "duration": 47,
    "start_time": "2023-03-17T13:12:31.085Z"
   },
   {
    "duration": 43,
    "start_time": "2023-03-17T13:12:31.134Z"
   },
   {
    "duration": 42,
    "start_time": "2023-03-17T13:12:31.178Z"
   },
   {
    "duration": 41,
    "start_time": "2023-03-17T13:12:31.223Z"
   },
   {
    "duration": 23,
    "start_time": "2023-03-17T13:12:31.267Z"
   },
   {
    "duration": 49,
    "start_time": "2023-03-17T13:12:31.292Z"
   },
   {
    "duration": 12,
    "start_time": "2023-03-17T13:12:31.345Z"
   },
   {
    "duration": 35,
    "start_time": "2023-03-17T13:12:31.360Z"
   },
   {
    "duration": 54,
    "start_time": "2023-03-17T13:12:31.397Z"
   },
   {
    "duration": 28,
    "start_time": "2023-03-17T13:12:31.454Z"
   },
   {
    "duration": 37,
    "start_time": "2023-03-17T13:12:31.484Z"
   },
   {
    "duration": 31,
    "start_time": "2023-03-17T13:12:31.524Z"
   },
   {
    "duration": 199,
    "start_time": "2023-03-17T13:12:31.557Z"
   },
   {
    "duration": 34,
    "start_time": "2023-03-17T13:12:31.758Z"
   },
   {
    "duration": 20,
    "start_time": "2023-03-17T13:12:31.793Z"
   },
   {
    "duration": 261,
    "start_time": "2023-03-17T13:12:31.815Z"
   },
   {
    "duration": 27,
    "start_time": "2023-03-17T13:12:32.080Z"
   },
   {
    "duration": 8,
    "start_time": "2023-03-17T13:12:32.114Z"
   },
   {
    "duration": 739,
    "start_time": "2023-03-17T13:12:32.124Z"
   },
   {
    "duration": 191,
    "start_time": "2023-03-17T13:12:32.865Z"
   },
   {
    "duration": 13,
    "start_time": "2023-03-17T13:12:33.058Z"
   },
   {
    "duration": 219,
    "start_time": "2023-03-17T13:12:33.073Z"
   },
   {
    "duration": 19,
    "start_time": "2023-03-17T13:12:33.296Z"
   },
   {
    "duration": 193,
    "start_time": "2023-03-17T13:12:33.317Z"
   },
   {
    "duration": 12,
    "start_time": "2023-03-17T13:12:33.514Z"
   },
   {
    "duration": 175,
    "start_time": "2023-03-17T13:12:33.529Z"
   },
   {
    "duration": 15,
    "start_time": "2023-03-17T13:12:33.711Z"
   },
   {
    "duration": 174,
    "start_time": "2023-03-17T13:12:33.729Z"
   },
   {
    "duration": 14,
    "start_time": "2023-03-17T13:12:33.905Z"
   },
   {
    "duration": 168,
    "start_time": "2023-03-17T13:12:33.921Z"
   },
   {
    "duration": 22,
    "start_time": "2023-03-17T13:12:34.090Z"
   },
   {
    "duration": 14,
    "start_time": "2023-03-17T13:12:34.114Z"
   },
   {
    "duration": 688,
    "start_time": "2023-03-17T13:12:34.130Z"
   },
   {
    "duration": 237,
    "start_time": "2023-03-17T13:12:34.820Z"
   },
   {
    "duration": 265,
    "start_time": "2023-03-17T13:12:35.059Z"
   },
   {
    "duration": 25,
    "start_time": "2023-03-17T13:12:35.330Z"
   },
   {
    "duration": 28,
    "start_time": "2023-03-17T13:12:35.357Z"
   },
   {
    "duration": 0,
    "start_time": "2023-03-17T13:12:35.387Z"
   },
   {
    "duration": 0,
    "start_time": "2023-03-17T13:12:35.389Z"
   },
   {
    "duration": 0,
    "start_time": "2023-03-17T13:12:35.391Z"
   },
   {
    "duration": 177,
    "start_time": "2023-03-17T13:12:57.311Z"
   },
   {
    "duration": 17,
    "start_time": "2023-03-17T13:14:08.716Z"
   },
   {
    "duration": 23,
    "start_time": "2023-03-17T13:14:13.037Z"
   },
   {
    "duration": 207,
    "start_time": "2023-03-17T13:14:15.223Z"
   },
   {
    "duration": 17,
    "start_time": "2023-03-17T13:16:35.640Z"
   },
   {
    "duration": 178,
    "start_time": "2023-03-17T13:16:37.058Z"
   },
   {
    "duration": 15,
    "start_time": "2023-03-17T13:17:34.569Z"
   },
   {
    "duration": 169,
    "start_time": "2023-03-17T13:17:35.349Z"
   },
   {
    "duration": 14,
    "start_time": "2023-03-17T13:17:38.937Z"
   },
   {
    "duration": 171,
    "start_time": "2023-03-17T13:17:39.512Z"
   },
   {
    "duration": 16,
    "start_time": "2023-03-17T13:17:44.827Z"
   },
   {
    "duration": 174,
    "start_time": "2023-03-17T13:17:49.165Z"
   },
   {
    "duration": 3,
    "start_time": "2023-03-17T13:18:05.342Z"
   },
   {
    "duration": 75,
    "start_time": "2023-03-17T13:18:05.350Z"
   },
   {
    "duration": 15,
    "start_time": "2023-03-17T13:18:05.427Z"
   },
   {
    "duration": 24,
    "start_time": "2023-03-17T13:18:05.444Z"
   },
   {
    "duration": 25,
    "start_time": "2023-03-17T13:18:05.470Z"
   },
   {
    "duration": 11,
    "start_time": "2023-03-17T13:18:05.498Z"
   },
   {
    "duration": 22,
    "start_time": "2023-03-17T13:18:05.511Z"
   },
   {
    "duration": 7,
    "start_time": "2023-03-17T13:18:05.535Z"
   },
   {
    "duration": 18,
    "start_time": "2023-03-17T13:18:05.543Z"
   },
   {
    "duration": 27,
    "start_time": "2023-03-17T13:18:05.562Z"
   },
   {
    "duration": 6,
    "start_time": "2023-03-17T13:18:05.593Z"
   },
   {
    "duration": 31,
    "start_time": "2023-03-17T13:18:05.601Z"
   },
   {
    "duration": 10,
    "start_time": "2023-03-17T13:18:05.634Z"
   },
   {
    "duration": 8,
    "start_time": "2023-03-17T13:18:05.646Z"
   },
   {
    "duration": 14,
    "start_time": "2023-03-17T13:18:05.656Z"
   },
   {
    "duration": 157,
    "start_time": "2023-03-17T13:18:05.672Z"
   },
   {
    "duration": 16,
    "start_time": "2023-03-17T13:18:05.831Z"
   },
   {
    "duration": 7,
    "start_time": "2023-03-17T13:18:05.849Z"
   },
   {
    "duration": 265,
    "start_time": "2023-03-17T13:18:05.858Z"
   },
   {
    "duration": 11,
    "start_time": "2023-03-17T13:18:06.125Z"
   },
   {
    "duration": 3,
    "start_time": "2023-03-17T13:18:06.137Z"
   },
   {
    "duration": 722,
    "start_time": "2023-03-17T13:18:06.142Z"
   },
   {
    "duration": 195,
    "start_time": "2023-03-17T13:18:06.866Z"
   },
   {
    "duration": 11,
    "start_time": "2023-03-17T13:18:07.063Z"
   },
   {
    "duration": 197,
    "start_time": "2023-03-17T13:18:07.076Z"
   },
   {
    "duration": 27,
    "start_time": "2023-03-17T13:18:07.275Z"
   },
   {
    "duration": 187,
    "start_time": "2023-03-17T13:18:07.306Z"
   },
   {
    "duration": 16,
    "start_time": "2023-03-17T13:18:07.497Z"
   },
   {
    "duration": 273,
    "start_time": "2023-03-17T13:18:07.517Z"
   },
   {
    "duration": 17,
    "start_time": "2023-03-17T13:18:07.793Z"
   },
   {
    "duration": 243,
    "start_time": "2023-03-17T13:18:07.813Z"
   },
   {
    "duration": 11,
    "start_time": "2023-03-17T13:18:08.058Z"
   },
   {
    "duration": 214,
    "start_time": "2023-03-17T13:18:08.071Z"
   },
   {
    "duration": 18,
    "start_time": "2023-03-17T13:18:08.287Z"
   },
   {
    "duration": 27,
    "start_time": "2023-03-17T13:18:08.308Z"
   },
   {
    "duration": 712,
    "start_time": "2023-03-17T13:18:08.338Z"
   },
   {
    "duration": 222,
    "start_time": "2023-03-17T13:18:09.052Z"
   },
   {
    "duration": 217,
    "start_time": "2023-03-17T13:18:09.275Z"
   },
   {
    "duration": 14,
    "start_time": "2023-03-17T13:18:11.841Z"
   },
   {
    "duration": 167,
    "start_time": "2023-03-17T13:18:12.705Z"
   },
   {
    "duration": 158,
    "start_time": "2023-03-17T13:18:32.025Z"
   },
   {
    "duration": 171,
    "start_time": "2023-03-17T13:18:39.571Z"
   },
   {
    "duration": 160,
    "start_time": "2023-03-17T13:18:47.649Z"
   },
   {
    "duration": 146,
    "start_time": "2023-03-17T13:18:55.548Z"
   },
   {
    "duration": 150,
    "start_time": "2023-03-17T13:19:19.301Z"
   },
   {
    "duration": 196,
    "start_time": "2023-03-17T13:20:07.883Z"
   },
   {
    "duration": 158,
    "start_time": "2023-03-17T13:20:44.852Z"
   },
   {
    "duration": 12,
    "start_time": "2023-03-17T13:21:46.899Z"
   },
   {
    "duration": 3,
    "start_time": "2023-03-17T13:21:51.545Z"
   },
   {
    "duration": 75,
    "start_time": "2023-03-17T13:21:51.549Z"
   },
   {
    "duration": 12,
    "start_time": "2023-03-17T13:21:51.626Z"
   },
   {
    "duration": 14,
    "start_time": "2023-03-17T13:21:51.640Z"
   },
   {
    "duration": 12,
    "start_time": "2023-03-17T13:21:51.655Z"
   },
   {
    "duration": 32,
    "start_time": "2023-03-17T13:21:51.669Z"
   },
   {
    "duration": 14,
    "start_time": "2023-03-17T13:21:51.703Z"
   },
   {
    "duration": 9,
    "start_time": "2023-03-17T13:21:51.718Z"
   },
   {
    "duration": 15,
    "start_time": "2023-03-17T13:21:51.728Z"
   },
   {
    "duration": 7,
    "start_time": "2023-03-17T13:21:51.745Z"
   },
   {
    "duration": 37,
    "start_time": "2023-03-17T13:21:51.753Z"
   },
   {
    "duration": 19,
    "start_time": "2023-03-17T13:21:51.792Z"
   },
   {
    "duration": 9,
    "start_time": "2023-03-17T13:21:51.814Z"
   },
   {
    "duration": 17,
    "start_time": "2023-03-17T13:21:51.824Z"
   },
   {
    "duration": 8,
    "start_time": "2023-03-17T13:22:12.347Z"
   },
   {
    "duration": 5,
    "start_time": "2023-03-17T13:22:31.845Z"
   },
   {
    "duration": 19,
    "start_time": "2023-03-17T13:22:41.535Z"
   },
   {
    "duration": 4,
    "start_time": "2023-03-17T13:23:06.599Z"
   },
   {
    "duration": 101,
    "start_time": "2023-03-17T13:23:06.605Z"
   },
   {
    "duration": 106,
    "start_time": "2023-03-17T13:23:06.709Z"
   },
   {
    "duration": 15,
    "start_time": "2023-03-17T13:23:06.817Z"
   },
   {
    "duration": 14,
    "start_time": "2023-03-17T13:23:06.834Z"
   },
   {
    "duration": 23,
    "start_time": "2023-03-17T13:23:06.849Z"
   },
   {
    "duration": 24,
    "start_time": "2023-03-17T13:23:06.873Z"
   },
   {
    "duration": 9,
    "start_time": "2023-03-17T13:23:06.899Z"
   },
   {
    "duration": 16,
    "start_time": "2023-03-17T13:23:06.911Z"
   },
   {
    "duration": 7,
    "start_time": "2023-03-17T13:23:06.929Z"
   },
   {
    "duration": 7,
    "start_time": "2023-03-17T13:23:06.938Z"
   },
   {
    "duration": 14,
    "start_time": "2023-03-17T13:23:06.947Z"
   },
   {
    "duration": 9,
    "start_time": "2023-03-17T13:23:12.614Z"
   },
   {
    "duration": 19,
    "start_time": "2023-03-17T13:23:13.219Z"
   },
   {
    "duration": 7,
    "start_time": "2023-03-17T13:23:16.271Z"
   },
   {
    "duration": 13,
    "start_time": "2023-03-17T13:23:24.259Z"
   },
   {
    "duration": 193,
    "start_time": "2023-03-17T13:23:56.384Z"
   },
   {
    "duration": 3,
    "start_time": "2023-03-17T13:24:01.039Z"
   },
   {
    "duration": 99,
    "start_time": "2023-03-17T13:24:01.044Z"
   },
   {
    "duration": 14,
    "start_time": "2023-03-17T13:24:01.145Z"
   },
   {
    "duration": 54,
    "start_time": "2023-03-17T13:24:01.161Z"
   },
   {
    "duration": 36,
    "start_time": "2023-03-17T13:24:01.216Z"
   },
   {
    "duration": 51,
    "start_time": "2023-03-17T13:24:01.254Z"
   },
   {
    "duration": 34,
    "start_time": "2023-03-17T13:24:01.307Z"
   },
   {
    "duration": 43,
    "start_time": "2023-03-17T13:24:01.343Z"
   },
   {
    "duration": 35,
    "start_time": "2023-03-17T13:24:01.387Z"
   },
   {
    "duration": 47,
    "start_time": "2023-03-17T13:24:01.424Z"
   },
   {
    "duration": 34,
    "start_time": "2023-03-17T13:24:01.473Z"
   },
   {
    "duration": 48,
    "start_time": "2023-03-17T13:24:01.509Z"
   },
   {
    "duration": 27,
    "start_time": "2023-03-17T13:24:01.559Z"
   },
   {
    "duration": 23,
    "start_time": "2023-03-17T13:24:01.588Z"
   },
   {
    "duration": 46,
    "start_time": "2023-03-17T13:24:01.614Z"
   },
   {
    "duration": 45,
    "start_time": "2023-03-17T13:24:01.662Z"
   },
   {
    "duration": 161,
    "start_time": "2023-03-17T13:24:01.709Z"
   },
   {
    "duration": 23,
    "start_time": "2023-03-17T13:24:01.872Z"
   },
   {
    "duration": 32,
    "start_time": "2023-03-17T13:24:01.899Z"
   },
   {
    "duration": 262,
    "start_time": "2023-03-17T13:24:01.933Z"
   },
   {
    "duration": 16,
    "start_time": "2023-03-17T13:24:02.197Z"
   },
   {
    "duration": 24,
    "start_time": "2023-03-17T13:24:02.214Z"
   },
   {
    "duration": 759,
    "start_time": "2023-03-17T13:24:02.239Z"
   },
   {
    "duration": 179,
    "start_time": "2023-03-17T13:24:03.001Z"
   },
   {
    "duration": 19,
    "start_time": "2023-03-17T13:24:03.182Z"
   },
   {
    "duration": 144,
    "start_time": "2023-03-17T13:24:03.203Z"
   },
   {
    "duration": 13,
    "start_time": "2023-03-17T13:24:03.349Z"
   },
   {
    "duration": 187,
    "start_time": "2023-03-17T13:24:03.364Z"
   },
   {
    "duration": 10,
    "start_time": "2023-03-17T13:24:03.553Z"
   },
   {
    "duration": 169,
    "start_time": "2023-03-17T13:24:03.564Z"
   },
   {
    "duration": 10,
    "start_time": "2023-03-17T13:24:03.734Z"
   },
   {
    "duration": 180,
    "start_time": "2023-03-17T13:24:03.745Z"
   },
   {
    "duration": 11,
    "start_time": "2023-03-17T13:24:03.927Z"
   },
   {
    "duration": 162,
    "start_time": "2023-03-17T13:24:03.940Z"
   },
   {
    "duration": 11,
    "start_time": "2023-03-17T13:24:04.104Z"
   },
   {
    "duration": 12,
    "start_time": "2023-03-17T13:24:04.116Z"
   },
   {
    "duration": 683,
    "start_time": "2023-03-17T13:24:04.129Z"
   },
   {
    "duration": 230,
    "start_time": "2023-03-17T13:24:04.814Z"
   },
   {
    "duration": 263,
    "start_time": "2023-03-17T13:24:05.046Z"
   },
   {
    "duration": 16,
    "start_time": "2023-03-17T13:24:05.311Z"
   },
   {
    "duration": 186,
    "start_time": "2023-03-17T13:24:05.329Z"
   },
   {
    "duration": 5,
    "start_time": "2023-03-17T13:24:13.121Z"
   },
   {
    "duration": 6,
    "start_time": "2023-03-17T13:24:25.037Z"
   },
   {
    "duration": 6,
    "start_time": "2023-03-17T13:24:31.111Z"
   },
   {
    "duration": 18,
    "start_time": "2023-03-17T13:27:17.641Z"
   },
   {
    "duration": 172,
    "start_time": "2023-03-17T13:27:39.619Z"
   },
   {
    "duration": 7,
    "start_time": "2023-03-17T13:28:17.455Z"
   },
   {
    "duration": 6,
    "start_time": "2023-03-17T13:28:30.013Z"
   },
   {
    "duration": 7,
    "start_time": "2023-03-17T13:28:41.959Z"
   },
   {
    "duration": 10,
    "start_time": "2023-03-17T14:06:39.319Z"
   },
   {
    "duration": 18,
    "start_time": "2023-03-17T14:06:48.008Z"
   },
   {
    "duration": 10,
    "start_time": "2023-03-17T14:06:56.649Z"
   },
   {
    "duration": 8,
    "start_time": "2023-03-17T14:08:49.679Z"
   },
   {
    "duration": 14,
    "start_time": "2023-03-17T14:08:57.224Z"
   },
   {
    "duration": 5,
    "start_time": "2023-03-17T14:09:30.179Z"
   },
   {
    "duration": 6,
    "start_time": "2023-03-17T14:09:34.377Z"
   },
   {
    "duration": 12,
    "start_time": "2023-03-17T14:09:48.308Z"
   },
   {
    "duration": 11,
    "start_time": "2023-03-17T14:09:55.333Z"
   },
   {
    "duration": 9,
    "start_time": "2023-03-17T14:10:10.777Z"
   },
   {
    "duration": 11,
    "start_time": "2023-03-17T14:10:18.921Z"
   },
   {
    "duration": 10,
    "start_time": "2023-03-17T14:10:30.718Z"
   },
   {
    "duration": 3,
    "start_time": "2023-03-17T14:11:41.629Z"
   },
   {
    "duration": 78,
    "start_time": "2023-03-17T14:11:41.637Z"
   },
   {
    "duration": 15,
    "start_time": "2023-03-17T14:11:41.718Z"
   },
   {
    "duration": 14,
    "start_time": "2023-03-17T14:11:41.735Z"
   },
   {
    "duration": 11,
    "start_time": "2023-03-17T14:11:41.750Z"
   },
   {
    "duration": 45,
    "start_time": "2023-03-17T14:11:41.763Z"
   },
   {
    "duration": 11,
    "start_time": "2023-03-17T14:11:41.816Z"
   },
   {
    "duration": 22,
    "start_time": "2023-03-17T14:11:41.829Z"
   },
   {
    "duration": 22,
    "start_time": "2023-03-17T14:11:41.853Z"
   },
   {
    "duration": 7,
    "start_time": "2023-03-17T14:11:41.876Z"
   },
   {
    "duration": 8,
    "start_time": "2023-03-17T14:11:41.889Z"
   },
   {
    "duration": 27,
    "start_time": "2023-03-17T14:11:41.899Z"
   },
   {
    "duration": 8,
    "start_time": "2023-03-17T14:11:41.928Z"
   },
   {
    "duration": 4,
    "start_time": "2023-03-17T14:11:41.938Z"
   },
   {
    "duration": 16,
    "start_time": "2023-03-17T14:11:41.945Z"
   },
   {
    "duration": 51,
    "start_time": "2023-03-17T14:11:41.963Z"
   },
   {
    "duration": 193,
    "start_time": "2023-03-17T14:11:42.015Z"
   },
   {
    "duration": 22,
    "start_time": "2023-03-17T14:11:42.210Z"
   },
   {
    "duration": 9,
    "start_time": "2023-03-17T14:11:42.234Z"
   },
   {
    "duration": 196,
    "start_time": "2023-03-17T14:11:42.245Z"
   },
   {
    "duration": 12,
    "start_time": "2023-03-17T14:11:42.443Z"
   },
   {
    "duration": 6,
    "start_time": "2023-03-17T14:11:42.456Z"
   },
   {
    "duration": 953,
    "start_time": "2023-03-17T14:11:42.463Z"
   },
   {
    "duration": 168,
    "start_time": "2023-03-17T14:11:43.419Z"
   },
   {
    "duration": 29,
    "start_time": "2023-03-17T14:11:43.589Z"
   },
   {
    "duration": 156,
    "start_time": "2023-03-17T14:11:43.620Z"
   },
   {
    "duration": 24,
    "start_time": "2023-03-17T14:11:43.778Z"
   },
   {
    "duration": 180,
    "start_time": "2023-03-17T14:11:43.803Z"
   },
   {
    "duration": 18,
    "start_time": "2023-03-17T14:11:43.984Z"
   },
   {
    "duration": 164,
    "start_time": "2023-03-17T14:11:44.006Z"
   },
   {
    "duration": 32,
    "start_time": "2023-03-17T14:11:44.173Z"
   },
   {
    "duration": 208,
    "start_time": "2023-03-17T14:11:44.212Z"
   },
   {
    "duration": 12,
    "start_time": "2023-03-17T14:11:44.422Z"
   },
   {
    "duration": 188,
    "start_time": "2023-03-17T14:11:44.436Z"
   },
   {
    "duration": 14,
    "start_time": "2023-03-17T14:11:44.627Z"
   },
   {
    "duration": 13,
    "start_time": "2023-03-17T14:11:44.643Z"
   },
   {
    "duration": 596,
    "start_time": "2023-03-17T14:11:44.658Z"
   },
   {
    "duration": 219,
    "start_time": "2023-03-17T14:11:45.255Z"
   },
   {
    "duration": 232,
    "start_time": "2023-03-17T14:11:45.475Z"
   },
   {
    "duration": 21,
    "start_time": "2023-03-17T14:11:45.709Z"
   },
   {
    "duration": 290,
    "start_time": "2023-03-17T14:11:45.732Z"
   },
   {
    "duration": 6,
    "start_time": "2023-03-17T14:11:46.025Z"
   },
   {
    "duration": 25,
    "start_time": "2023-03-17T14:11:46.033Z"
   },
   {
    "duration": 37,
    "start_time": "2023-03-17T14:11:46.061Z"
   },
   {
    "duration": 15,
    "start_time": "2023-03-17T14:13:59.806Z"
   },
   {
    "duration": 2,
    "start_time": "2023-03-17T14:14:06.229Z"
   },
   {
    "duration": 75,
    "start_time": "2023-03-17T14:14:06.236Z"
   },
   {
    "duration": 14,
    "start_time": "2023-03-17T14:14:06.313Z"
   },
   {
    "duration": 22,
    "start_time": "2023-03-17T14:14:06.329Z"
   },
   {
    "duration": 10,
    "start_time": "2023-03-17T14:14:06.353Z"
   },
   {
    "duration": 43,
    "start_time": "2023-03-17T14:14:06.365Z"
   },
   {
    "duration": 16,
    "start_time": "2023-03-17T14:14:06.411Z"
   },
   {
    "duration": 8,
    "start_time": "2023-03-17T14:14:06.429Z"
   },
   {
    "duration": 42,
    "start_time": "2023-03-17T14:14:06.439Z"
   },
   {
    "duration": 19,
    "start_time": "2023-03-17T14:14:06.483Z"
   },
   {
    "duration": 6,
    "start_time": "2023-03-17T14:14:06.508Z"
   },
   {
    "duration": 18,
    "start_time": "2023-03-17T14:14:06.516Z"
   },
   {
    "duration": 10,
    "start_time": "2023-03-17T14:14:06.536Z"
   },
   {
    "duration": 22,
    "start_time": "2023-03-17T14:14:06.548Z"
   },
   {
    "duration": 15,
    "start_time": "2023-03-17T14:14:06.573Z"
   },
   {
    "duration": 29,
    "start_time": "2023-03-17T14:14:06.592Z"
   },
   {
    "duration": 201,
    "start_time": "2023-03-17T14:14:06.623Z"
   },
   {
    "duration": 16,
    "start_time": "2023-03-17T14:14:06.827Z"
   },
   {
    "duration": 11,
    "start_time": "2023-03-17T14:14:06.845Z"
   },
   {
    "duration": 186,
    "start_time": "2023-03-17T14:14:06.859Z"
   },
   {
    "duration": 14,
    "start_time": "2023-03-17T14:14:07.048Z"
   },
   {
    "duration": 27,
    "start_time": "2023-03-17T14:14:07.065Z"
   },
   {
    "duration": 934,
    "start_time": "2023-03-17T14:14:07.099Z"
   },
   {
    "duration": 271,
    "start_time": "2023-03-17T14:14:08.036Z"
   },
   {
    "duration": 17,
    "start_time": "2023-03-17T14:14:08.309Z"
   },
   {
    "duration": 168,
    "start_time": "2023-03-17T14:14:08.328Z"
   },
   {
    "duration": 14,
    "start_time": "2023-03-17T14:14:08.499Z"
   },
   {
    "duration": 238,
    "start_time": "2023-03-17T14:14:08.516Z"
   },
   {
    "duration": 17,
    "start_time": "2023-03-17T14:14:08.757Z"
   },
   {
    "duration": 269,
    "start_time": "2023-03-17T14:14:08.795Z"
   },
   {
    "duration": 26,
    "start_time": "2023-03-17T14:14:09.066Z"
   },
   {
    "duration": 297,
    "start_time": "2023-03-17T14:14:09.099Z"
   },
   {
    "duration": 16,
    "start_time": "2023-03-17T14:14:09.398Z"
   },
   {
    "duration": 183,
    "start_time": "2023-03-17T14:14:09.416Z"
   },
   {
    "duration": 16,
    "start_time": "2023-03-17T14:14:09.603Z"
   },
   {
    "duration": 24,
    "start_time": "2023-03-17T14:14:09.621Z"
   },
   {
    "duration": 633,
    "start_time": "2023-03-17T14:14:09.647Z"
   },
   {
    "duration": 243,
    "start_time": "2023-03-17T14:14:10.283Z"
   },
   {
    "duration": 284,
    "start_time": "2023-03-17T14:14:10.528Z"
   },
   {
    "duration": 29,
    "start_time": "2023-03-17T14:14:10.814Z"
   },
   {
    "duration": 207,
    "start_time": "2023-03-17T14:14:10.845Z"
   },
   {
    "duration": 13,
    "start_time": "2023-03-17T14:14:11.057Z"
   },
   {
    "duration": 30,
    "start_time": "2023-03-17T14:14:11.071Z"
   },
   {
    "duration": 18,
    "start_time": "2023-03-17T14:14:11.103Z"
   },
   {
    "duration": 32,
    "start_time": "2023-03-17T14:14:11.123Z"
   },
   {
    "duration": 222,
    "start_time": "2023-03-17T14:14:11.157Z"
   },
   {
    "duration": 8,
    "start_time": "2023-03-17T14:14:11.381Z"
   },
   {
    "duration": 29,
    "start_time": "2023-03-17T14:14:11.391Z"
   },
   {
    "duration": 12,
    "start_time": "2023-03-17T14:14:23.308Z"
   },
   {
    "duration": 5,
    "start_time": "2023-03-17T14:14:53.347Z"
   },
   {
    "duration": 5,
    "start_time": "2023-03-17T14:14:57.357Z"
   },
   {
    "duration": 10,
    "start_time": "2023-03-17T14:15:12.868Z"
   },
   {
    "duration": 10,
    "start_time": "2023-03-17T14:15:48.304Z"
   },
   {
    "duration": 15,
    "start_time": "2023-03-17T14:15:57.897Z"
   },
   {
    "duration": 10,
    "start_time": "2023-03-17T14:16:11.203Z"
   },
   {
    "duration": 172,
    "start_time": "2023-03-17T14:25:19.574Z"
   },
   {
    "duration": 148,
    "start_time": "2023-03-17T14:26:05.616Z"
   },
   {
    "duration": 455,
    "start_time": "2023-03-17T14:27:22.464Z"
   },
   {
    "duration": 7,
    "start_time": "2023-03-17T14:29:56.254Z"
   },
   {
    "duration": 6,
    "start_time": "2023-03-17T14:30:44.628Z"
   },
   {
    "duration": 75,
    "start_time": "2023-03-19T03:51:46.224Z"
   },
   {
    "duration": 1239,
    "start_time": "2023-03-19T03:51:49.234Z"
   },
   {
    "duration": 155,
    "start_time": "2023-03-19T03:51:50.475Z"
   },
   {
    "duration": 14,
    "start_time": "2023-03-19T03:51:50.632Z"
   },
   {
    "duration": 12,
    "start_time": "2023-03-19T03:51:50.648Z"
   },
   {
    "duration": 7,
    "start_time": "2023-03-19T03:51:50.662Z"
   },
   {
    "duration": 27,
    "start_time": "2023-03-19T03:51:50.671Z"
   },
   {
    "duration": 35,
    "start_time": "2023-03-19T03:51:50.700Z"
   },
   {
    "duration": 9,
    "start_time": "2023-03-19T03:51:50.737Z"
   },
   {
    "duration": 17,
    "start_time": "2023-03-19T03:51:50.748Z"
   },
   {
    "duration": 7,
    "start_time": "2023-03-19T03:51:50.768Z"
   },
   {
    "duration": 55,
    "start_time": "2023-03-19T03:51:50.776Z"
   },
   {
    "duration": 20,
    "start_time": "2023-03-19T03:51:50.833Z"
   },
   {
    "duration": 8,
    "start_time": "2023-03-19T03:51:50.854Z"
   },
   {
    "duration": 4,
    "start_time": "2023-03-19T03:51:50.863Z"
   },
   {
    "duration": 44,
    "start_time": "2023-03-19T03:51:50.869Z"
   },
   {
    "duration": 28,
    "start_time": "2023-03-19T03:51:50.915Z"
   },
   {
    "duration": 197,
    "start_time": "2023-03-19T03:51:50.945Z"
   },
   {
    "duration": 15,
    "start_time": "2023-03-19T03:51:51.143Z"
   },
   {
    "duration": 12,
    "start_time": "2023-03-19T03:51:51.160Z"
   },
   {
    "duration": 153,
    "start_time": "2023-03-19T03:51:51.174Z"
   },
   {
    "duration": 11,
    "start_time": "2023-03-19T03:51:51.328Z"
   },
   {
    "duration": 4,
    "start_time": "2023-03-19T03:51:51.340Z"
   },
   {
    "duration": 595,
    "start_time": "2023-03-19T03:51:51.345Z"
   },
   {
    "duration": 137,
    "start_time": "2023-03-19T03:51:51.942Z"
   },
   {
    "duration": 22,
    "start_time": "2023-03-19T03:51:52.080Z"
   },
   {
    "duration": 161,
    "start_time": "2023-03-19T03:51:52.116Z"
   },
   {
    "duration": 29,
    "start_time": "2023-03-19T03:51:52.278Z"
   },
   {
    "duration": 243,
    "start_time": "2023-03-19T03:51:52.312Z"
   },
   {
    "duration": 9,
    "start_time": "2023-03-19T03:51:52.556Z"
   },
   {
    "duration": 155,
    "start_time": "2023-03-19T03:51:52.566Z"
   },
   {
    "duration": 9,
    "start_time": "2023-03-19T03:51:52.722Z"
   },
   {
    "duration": 172,
    "start_time": "2023-03-19T03:51:52.733Z"
   },
   {
    "duration": 13,
    "start_time": "2023-03-19T03:51:52.907Z"
   },
   {
    "duration": 190,
    "start_time": "2023-03-19T03:51:52.921Z"
   },
   {
    "duration": 15,
    "start_time": "2023-03-19T03:51:53.113Z"
   },
   {
    "duration": 18,
    "start_time": "2023-03-19T03:51:53.130Z"
   },
   {
    "duration": 575,
    "start_time": "2023-03-19T03:51:53.150Z"
   },
   {
    "duration": 198,
    "start_time": "2023-03-19T03:51:53.727Z"
   },
   {
    "duration": 206,
    "start_time": "2023-03-19T03:51:53.927Z"
   },
   {
    "duration": 17,
    "start_time": "2023-03-19T03:51:54.134Z"
   },
   {
    "duration": 210,
    "start_time": "2023-03-19T03:51:54.153Z"
   },
   {
    "duration": 5,
    "start_time": "2023-03-19T03:51:54.365Z"
   },
   {
    "duration": 47,
    "start_time": "2023-03-19T03:51:54.371Z"
   },
   {
    "duration": 10,
    "start_time": "2023-03-19T03:51:54.420Z"
   },
   {
    "duration": 21,
    "start_time": "2023-03-19T03:51:54.431Z"
   },
   {
    "duration": 170,
    "start_time": "2023-03-19T03:51:54.453Z"
   },
   {
    "duration": 6,
    "start_time": "2023-03-19T03:51:54.624Z"
   },
   {
    "duration": 17,
    "start_time": "2023-03-19T03:51:54.631Z"
   },
   {
    "duration": 11,
    "start_time": "2023-03-19T03:51:54.650Z"
   },
   {
    "duration": 406,
    "start_time": "2023-03-19T03:51:54.663Z"
   },
   {
    "duration": 5,
    "start_time": "2023-03-19T03:51:55.071Z"
   },
   {
    "duration": 127,
    "start_time": "2023-03-19T03:51:55.086Z"
   },
   {
    "duration": 0,
    "start_time": "2023-03-19T03:51:55.214Z"
   },
   {
    "duration": 0,
    "start_time": "2023-03-19T03:51:55.215Z"
   },
   {
    "duration": 12,
    "start_time": "2023-03-19T03:51:59.930Z"
   },
   {
    "duration": 10,
    "start_time": "2023-03-19T03:52:43.608Z"
   },
   {
    "duration": 14,
    "start_time": "2023-03-19T03:52:48.463Z"
   },
   {
    "duration": 849,
    "start_time": "2023-03-19T03:59:55.607Z"
   },
   {
    "duration": 4,
    "start_time": "2023-03-19T04:00:10.087Z"
   },
   {
    "duration": 78,
    "start_time": "2023-03-19T04:00:10.094Z"
   },
   {
    "duration": 19,
    "start_time": "2023-03-19T04:00:10.174Z"
   },
   {
    "duration": 16,
    "start_time": "2023-03-19T04:00:10.197Z"
   },
   {
    "duration": 11,
    "start_time": "2023-03-19T04:00:10.215Z"
   },
   {
    "duration": 10,
    "start_time": "2023-03-19T04:00:10.228Z"
   },
   {
    "duration": 12,
    "start_time": "2023-03-19T04:00:10.240Z"
   },
   {
    "duration": 29,
    "start_time": "2023-03-19T04:00:10.254Z"
   },
   {
    "duration": 24,
    "start_time": "2023-03-19T04:00:10.285Z"
   },
   {
    "duration": 6,
    "start_time": "2023-03-19T04:00:10.313Z"
   },
   {
    "duration": 16,
    "start_time": "2023-03-19T04:00:10.321Z"
   },
   {
    "duration": 11,
    "start_time": "2023-03-19T04:00:10.339Z"
   },
   {
    "duration": 9,
    "start_time": "2023-03-19T04:00:10.352Z"
   },
   {
    "duration": 9,
    "start_time": "2023-03-19T04:00:10.379Z"
   },
   {
    "duration": 28,
    "start_time": "2023-03-19T04:00:10.391Z"
   },
   {
    "duration": 19,
    "start_time": "2023-03-19T04:00:10.420Z"
   },
   {
    "duration": 162,
    "start_time": "2023-03-19T04:00:10.441Z"
   },
   {
    "duration": 14,
    "start_time": "2023-03-19T04:00:10.606Z"
   },
   {
    "duration": 6,
    "start_time": "2023-03-19T04:00:10.622Z"
   },
   {
    "duration": 160,
    "start_time": "2023-03-19T04:00:10.630Z"
   },
   {
    "duration": 13,
    "start_time": "2023-03-19T04:00:10.792Z"
   },
   {
    "duration": 7,
    "start_time": "2023-03-19T04:00:10.807Z"
   },
   {
    "duration": 674,
    "start_time": "2023-03-19T04:00:10.816Z"
   },
   {
    "duration": 161,
    "start_time": "2023-03-19T04:00:11.492Z"
   },
   {
    "duration": 11,
    "start_time": "2023-03-19T04:00:11.654Z"
   },
   {
    "duration": 148,
    "start_time": "2023-03-19T04:00:11.667Z"
   },
   {
    "duration": 10,
    "start_time": "2023-03-19T04:00:11.817Z"
   },
   {
    "duration": 174,
    "start_time": "2023-03-19T04:00:11.831Z"
   },
   {
    "duration": 13,
    "start_time": "2023-03-19T04:00:12.007Z"
   },
   {
    "duration": 162,
    "start_time": "2023-03-19T04:00:12.022Z"
   },
   {
    "duration": 20,
    "start_time": "2023-03-19T04:00:12.186Z"
   },
   {
    "duration": 228,
    "start_time": "2023-03-19T04:00:12.207Z"
   },
   {
    "duration": 10,
    "start_time": "2023-03-19T04:00:12.437Z"
   },
   {
    "duration": 157,
    "start_time": "2023-03-19T04:00:12.448Z"
   },
   {
    "duration": 10,
    "start_time": "2023-03-19T04:00:12.607Z"
   },
   {
    "duration": 13,
    "start_time": "2023-03-19T04:00:12.619Z"
   },
   {
    "duration": 566,
    "start_time": "2023-03-19T04:00:12.634Z"
   },
   {
    "duration": 213,
    "start_time": "2023-03-19T04:00:13.201Z"
   },
   {
    "duration": 205,
    "start_time": "2023-03-19T04:00:13.416Z"
   },
   {
    "duration": 14,
    "start_time": "2023-03-19T04:00:13.622Z"
   },
   {
    "duration": 171,
    "start_time": "2023-03-19T04:00:13.638Z"
   },
   {
    "duration": 6,
    "start_time": "2023-03-19T04:00:13.810Z"
   },
   {
    "duration": 15,
    "start_time": "2023-03-19T04:00:13.817Z"
   },
   {
    "duration": 9,
    "start_time": "2023-03-19T04:00:13.834Z"
   },
   {
    "duration": 23,
    "start_time": "2023-03-19T04:00:13.845Z"
   },
   {
    "duration": 175,
    "start_time": "2023-03-19T04:00:13.870Z"
   },
   {
    "duration": 5,
    "start_time": "2023-03-19T04:00:14.047Z"
   },
   {
    "duration": 15,
    "start_time": "2023-03-19T04:00:14.054Z"
   },
   {
    "duration": 22,
    "start_time": "2023-03-19T04:00:14.079Z"
   },
   {
    "duration": 899,
    "start_time": "2023-03-19T04:00:18.029Z"
   },
   {
    "duration": 953,
    "start_time": "2023-03-19T04:01:36.393Z"
   },
   {
    "duration": 21,
    "start_time": "2023-03-19T04:02:17.372Z"
   },
   {
    "duration": 973,
    "start_time": "2023-03-19T04:02:32.678Z"
   },
   {
    "duration": 13,
    "start_time": "2023-03-19T04:02:38.496Z"
   },
   {
    "duration": 10,
    "start_time": "2023-03-19T04:02:53.351Z"
   },
   {
    "duration": 15,
    "start_time": "2023-03-19T04:02:58.759Z"
   },
   {
    "duration": 1138,
    "start_time": "2023-03-19T04:06:31.917Z"
   },
   {
    "duration": 286,
    "start_time": "2023-03-19T04:06:53.625Z"
   },
   {
    "duration": 8,
    "start_time": "2023-03-19T04:07:00.221Z"
   },
   {
    "duration": 6,
    "start_time": "2023-03-19T04:07:16.448Z"
   },
   {
    "duration": 8,
    "start_time": "2023-03-19T04:07:25.244Z"
   },
   {
    "duration": 12,
    "start_time": "2023-03-19T04:12:09.837Z"
   },
   {
    "duration": 9,
    "start_time": "2023-03-19T04:12:12.656Z"
   },
   {
    "duration": 336,
    "start_time": "2023-03-19T04:13:59.578Z"
   },
   {
    "duration": 10,
    "start_time": "2023-03-19T04:14:16.812Z"
   },
   {
    "duration": 353,
    "start_time": "2023-03-19T04:14:56.660Z"
   },
   {
    "duration": 12,
    "start_time": "2023-03-19T04:14:58.463Z"
   },
   {
    "duration": 266,
    "start_time": "2023-03-19T04:15:57.639Z"
   },
   {
    "duration": 287,
    "start_time": "2023-03-19T04:19:10.526Z"
   },
   {
    "duration": 10,
    "start_time": "2023-03-19T04:19:29.056Z"
   },
   {
    "duration": 373,
    "start_time": "2023-03-19T04:21:10.853Z"
   },
   {
    "duration": 13,
    "start_time": "2023-03-19T04:21:14.043Z"
   },
   {
    "duration": 380,
    "start_time": "2023-03-19T04:21:22.245Z"
   },
   {
    "duration": 13,
    "start_time": "2023-03-19T04:21:22.741Z"
   },
   {
    "duration": 10,
    "start_time": "2023-03-19T04:25:06.625Z"
   },
   {
    "duration": 10,
    "start_time": "2023-03-19T04:25:13.224Z"
   },
   {
    "duration": 448,
    "start_time": "2023-03-19T04:32:50.138Z"
   },
   {
    "duration": 36,
    "start_time": "2023-03-19T04:33:10.473Z"
   },
   {
    "duration": 289,
    "start_time": "2023-03-19T04:36:30.480Z"
   },
   {
    "duration": 9,
    "start_time": "2023-03-19T04:36:41.452Z"
   },
   {
    "duration": 1319,
    "start_time": "2023-03-22T14:57:43.529Z"
   },
   {
    "duration": 161,
    "start_time": "2023-03-22T14:57:44.850Z"
   },
   {
    "duration": 14,
    "start_time": "2023-03-22T14:57:45.012Z"
   },
   {
    "duration": 18,
    "start_time": "2023-03-22T14:57:45.028Z"
   },
   {
    "duration": 8,
    "start_time": "2023-03-22T14:57:45.048Z"
   },
   {
    "duration": 47,
    "start_time": "2023-03-22T14:57:45.058Z"
   },
   {
    "duration": 11,
    "start_time": "2023-03-22T14:57:45.107Z"
   },
   {
    "duration": 14,
    "start_time": "2023-03-22T14:57:45.119Z"
   },
   {
    "duration": 17,
    "start_time": "2023-03-22T14:57:45.135Z"
   },
   {
    "duration": 18,
    "start_time": "2023-03-22T14:57:45.155Z"
   },
   {
    "duration": 26,
    "start_time": "2023-03-22T14:57:45.174Z"
   },
   {
    "duration": 12,
    "start_time": "2023-03-22T14:57:45.202Z"
   },
   {
    "duration": 12,
    "start_time": "2023-03-22T14:57:45.215Z"
   },
   {
    "duration": 12,
    "start_time": "2023-03-22T14:57:45.229Z"
   },
   {
    "duration": 29,
    "start_time": "2023-03-22T14:57:45.242Z"
   },
   {
    "duration": 47,
    "start_time": "2023-03-22T14:57:45.273Z"
   },
   {
    "duration": 197,
    "start_time": "2023-03-22T14:57:45.322Z"
   },
   {
    "duration": 13,
    "start_time": "2023-03-22T14:57:45.521Z"
   },
   {
    "duration": 7,
    "start_time": "2023-03-22T14:57:45.535Z"
   },
   {
    "duration": 185,
    "start_time": "2023-03-22T14:57:45.543Z"
   },
   {
    "duration": 10,
    "start_time": "2023-03-22T14:57:45.730Z"
   },
   {
    "duration": 21,
    "start_time": "2023-03-22T14:57:45.741Z"
   },
   {
    "duration": 671,
    "start_time": "2023-03-22T14:57:45.764Z"
   },
   {
    "duration": 164,
    "start_time": "2023-03-22T14:57:46.437Z"
   },
   {
    "duration": 12,
    "start_time": "2023-03-22T14:57:46.603Z"
   },
   {
    "duration": 187,
    "start_time": "2023-03-22T14:57:46.616Z"
   },
   {
    "duration": 9,
    "start_time": "2023-03-22T14:57:46.804Z"
   },
   {
    "duration": 218,
    "start_time": "2023-03-22T14:57:46.816Z"
   },
   {
    "duration": 9,
    "start_time": "2023-03-22T14:57:47.035Z"
   },
   {
    "duration": 159,
    "start_time": "2023-03-22T14:57:47.045Z"
   },
   {
    "duration": 9,
    "start_time": "2023-03-22T14:57:47.206Z"
   },
   {
    "duration": 171,
    "start_time": "2023-03-22T14:57:47.216Z"
   },
   {
    "duration": 10,
    "start_time": "2023-03-22T14:57:47.390Z"
   },
   {
    "duration": 136,
    "start_time": "2023-03-22T14:57:47.401Z"
   },
   {
    "duration": 9,
    "start_time": "2023-03-22T14:57:47.539Z"
   },
   {
    "duration": 22,
    "start_time": "2023-03-22T14:57:47.549Z"
   },
   {
    "duration": 551,
    "start_time": "2023-03-22T14:57:47.579Z"
   },
   {
    "duration": 204,
    "start_time": "2023-03-22T14:57:48.132Z"
   },
   {
    "duration": 204,
    "start_time": "2023-03-22T14:57:48.337Z"
   },
   {
    "duration": 12,
    "start_time": "2023-03-22T14:57:48.543Z"
   },
   {
    "duration": 179,
    "start_time": "2023-03-22T14:57:48.557Z"
   },
   {
    "duration": 5,
    "start_time": "2023-03-22T14:57:48.737Z"
   },
   {
    "duration": 75,
    "start_time": "2023-03-22T14:57:48.744Z"
   },
   {
    "duration": 10,
    "start_time": "2023-03-22T14:57:48.823Z"
   },
   {
    "duration": 22,
    "start_time": "2023-03-22T14:57:48.835Z"
   },
   {
    "duration": 173,
    "start_time": "2023-03-22T14:57:48.859Z"
   },
   {
    "duration": 6,
    "start_time": "2023-03-22T14:57:49.033Z"
   },
   {
    "duration": 11,
    "start_time": "2023-03-22T14:57:49.040Z"
   },
   {
    "duration": 50,
    "start_time": "2023-03-22T14:57:49.053Z"
   },
   {
    "duration": 361,
    "start_time": "2023-03-22T14:57:49.105Z"
   },
   {
    "duration": 13,
    "start_time": "2023-03-22T14:57:49.482Z"
   },
   {
    "duration": 259,
    "start_time": "2023-03-22T14:57:49.497Z"
   },
   {
    "duration": 22,
    "start_time": "2023-03-22T14:57:49.757Z"
   },
   {
    "duration": 310,
    "start_time": "2023-03-22T14:57:49.780Z"
   },
   {
    "duration": 10,
    "start_time": "2023-03-22T14:57:50.092Z"
   },
   {
    "duration": 308,
    "start_time": "2023-03-22T14:57:50.103Z"
   },
   {
    "duration": 9,
    "start_time": "2023-03-22T14:57:50.412Z"
   },
   {
    "duration": 33116,
    "start_time": "2023-03-22T14:57:50.422Z"
   },
   {
    "duration": 10,
    "start_time": "2023-03-22T14:58:55.221Z"
   },
   {
    "duration": 126,
    "start_time": "2023-03-22T14:59:16.088Z"
   },
   {
    "duration": 115,
    "start_time": "2023-03-22T14:59:21.180Z"
   },
   {
    "duration": 154,
    "start_time": "2023-03-22T14:59:59.685Z"
   },
   {
    "duration": 188,
    "start_time": "2023-03-22T15:00:13.181Z"
   },
   {
    "duration": 265,
    "start_time": "2023-03-22T15:02:13.743Z"
   },
   {
    "duration": 143,
    "start_time": "2023-03-22T15:04:12.451Z"
   },
   {
    "duration": 277,
    "start_time": "2023-03-22T15:04:21.226Z"
   },
   {
    "duration": 131,
    "start_time": "2023-03-22T15:04:27.820Z"
   },
   {
    "duration": 164,
    "start_time": "2023-03-22T15:04:38.036Z"
   },
   {
    "duration": 117,
    "start_time": "2023-03-22T15:04:59.903Z"
   },
   {
    "duration": 173,
    "start_time": "2023-03-22T15:05:07.378Z"
   },
   {
    "duration": 10,
    "start_time": "2023-03-22T15:06:01.129Z"
   },
   {
    "duration": 12,
    "start_time": "2023-03-22T15:06:10.814Z"
   },
   {
    "duration": 15,
    "start_time": "2023-03-22T15:06:51.077Z"
   },
   {
    "duration": 95,
    "start_time": "2023-03-22T15:06:55.954Z"
   },
   {
    "duration": 15,
    "start_time": "2023-03-22T15:06:58.195Z"
   },
   {
    "duration": 165,
    "start_time": "2023-03-22T15:10:53.439Z"
   },
   {
    "duration": 208,
    "start_time": "2023-03-22T15:11:21.023Z"
   },
   {
    "duration": 20,
    "start_time": "2023-03-22T15:11:33.053Z"
   },
   {
    "duration": 15,
    "start_time": "2023-03-22T15:11:35.613Z"
   },
   {
    "duration": 236,
    "start_time": "2023-03-22T15:13:33.109Z"
   },
   {
    "duration": 117,
    "start_time": "2023-03-22T15:13:41.789Z"
   },
   {
    "duration": 134,
    "start_time": "2023-03-22T15:13:56.194Z"
   },
   {
    "duration": 299,
    "start_time": "2023-03-22T15:14:11.907Z"
   },
   {
    "duration": 34,
    "start_time": "2023-03-22T15:18:37.453Z"
   },
   {
    "duration": 15,
    "start_time": "2023-03-22T15:19:54.838Z"
   },
   {
    "duration": 16,
    "start_time": "2023-03-22T15:21:11.368Z"
   },
   {
    "duration": 75,
    "start_time": "2023-03-22T15:25:19.278Z"
   },
   {
    "duration": 22,
    "start_time": "2023-03-22T15:25:28.759Z"
   },
   {
    "duration": 117,
    "start_time": "2023-03-22T15:26:10.111Z"
   },
   {
    "duration": 98,
    "start_time": "2023-03-22T15:26:14.833Z"
   },
   {
    "duration": 9,
    "start_time": "2023-03-22T15:26:20.535Z"
   },
   {
    "duration": 102,
    "start_time": "2023-03-22T15:26:25.398Z"
   },
   {
    "duration": 12,
    "start_time": "2023-03-22T15:28:06.143Z"
   },
   {
    "duration": 15,
    "start_time": "2023-03-22T15:28:10.357Z"
   },
   {
    "duration": 11,
    "start_time": "2023-03-22T15:28:16.348Z"
   },
   {
    "duration": 9,
    "start_time": "2023-03-22T15:28:24.111Z"
   },
   {
    "duration": 1655,
    "start_time": "2023-03-22T18:59:32.451Z"
   },
   {
    "duration": 203,
    "start_time": "2023-03-22T18:59:34.108Z"
   },
   {
    "duration": 25,
    "start_time": "2023-03-22T18:59:34.312Z"
   },
   {
    "duration": 35,
    "start_time": "2023-03-22T18:59:34.341Z"
   },
   {
    "duration": 14,
    "start_time": "2023-03-22T18:59:34.378Z"
   },
   {
    "duration": 58,
    "start_time": "2023-03-22T18:59:34.394Z"
   },
   {
    "duration": 28,
    "start_time": "2023-03-22T18:59:34.454Z"
   },
   {
    "duration": 25,
    "start_time": "2023-03-22T18:59:34.484Z"
   },
   {
    "duration": 60,
    "start_time": "2023-03-22T18:59:34.511Z"
   },
   {
    "duration": 8,
    "start_time": "2023-03-22T18:59:34.574Z"
   },
   {
    "duration": 10,
    "start_time": "2023-03-22T18:59:34.584Z"
   },
   {
    "duration": 68,
    "start_time": "2023-03-22T18:59:34.596Z"
   },
   {
    "duration": 14,
    "start_time": "2023-03-22T18:59:34.666Z"
   },
   {
    "duration": 17,
    "start_time": "2023-03-22T18:59:34.682Z"
   },
   {
    "duration": 65,
    "start_time": "2023-03-22T18:59:34.702Z"
   },
   {
    "duration": 19,
    "start_time": "2023-03-22T18:59:34.769Z"
   },
   {
    "duration": 223,
    "start_time": "2023-03-22T18:59:34.789Z"
   },
   {
    "duration": 21,
    "start_time": "2023-03-22T18:59:35.015Z"
   },
   {
    "duration": 44,
    "start_time": "2023-03-22T18:59:35.039Z"
   },
   {
    "duration": 240,
    "start_time": "2023-03-22T18:59:35.086Z"
   },
   {
    "duration": 14,
    "start_time": "2023-03-22T18:59:35.328Z"
   },
   {
    "duration": 24,
    "start_time": "2023-03-22T18:59:35.345Z"
   },
   {
    "duration": 855,
    "start_time": "2023-03-22T18:59:35.371Z"
   },
   {
    "duration": 187,
    "start_time": "2023-03-22T18:59:36.228Z"
   },
   {
    "duration": 25,
    "start_time": "2023-03-22T18:59:36.419Z"
   },
   {
    "duration": 273,
    "start_time": "2023-03-22T18:59:36.446Z"
   },
   {
    "duration": 16,
    "start_time": "2023-03-22T18:59:36.721Z"
   },
   {
    "duration": 296,
    "start_time": "2023-03-22T18:59:36.742Z"
   },
   {
    "duration": 12,
    "start_time": "2023-03-22T18:59:37.040Z"
   },
   {
    "duration": 193,
    "start_time": "2023-03-22T18:59:37.054Z"
   },
   {
    "duration": 12,
    "start_time": "2023-03-22T18:59:37.249Z"
   },
   {
    "duration": 208,
    "start_time": "2023-03-22T18:59:37.263Z"
   },
   {
    "duration": 13,
    "start_time": "2023-03-22T18:59:37.473Z"
   },
   {
    "duration": 193,
    "start_time": "2023-03-22T18:59:37.487Z"
   },
   {
    "duration": 38,
    "start_time": "2023-03-22T18:59:37.681Z"
   },
   {
    "duration": 27,
    "start_time": "2023-03-22T18:59:37.720Z"
   },
   {
    "duration": 712,
    "start_time": "2023-03-22T18:59:37.750Z"
   },
   {
    "duration": 230,
    "start_time": "2023-03-22T18:59:38.464Z"
   },
   {
    "duration": 246,
    "start_time": "2023-03-22T18:59:38.696Z"
   },
   {
    "duration": 14,
    "start_time": "2023-03-22T18:59:38.944Z"
   },
   {
    "duration": 190,
    "start_time": "2023-03-22T18:59:38.960Z"
   },
   {
    "duration": 5,
    "start_time": "2023-03-22T18:59:39.151Z"
   },
   {
    "duration": 20,
    "start_time": "2023-03-22T18:59:39.158Z"
   },
   {
    "duration": 57,
    "start_time": "2023-03-22T18:59:39.180Z"
   },
   {
    "duration": 21,
    "start_time": "2023-03-22T18:59:39.239Z"
   },
   {
    "duration": 195,
    "start_time": "2023-03-22T18:59:39.261Z"
   },
   {
    "duration": 5,
    "start_time": "2023-03-22T18:59:39.458Z"
   },
   {
    "duration": 17,
    "start_time": "2023-03-22T18:59:39.464Z"
   },
   {
    "duration": 28,
    "start_time": "2023-03-22T18:59:39.483Z"
   },
   {
    "duration": 447,
    "start_time": "2023-03-22T18:59:39.518Z"
   },
   {
    "duration": 11,
    "start_time": "2023-03-22T18:59:39.967Z"
   },
   {
    "duration": 361,
    "start_time": "2023-03-22T18:59:39.979Z"
   },
   {
    "duration": 10,
    "start_time": "2023-03-22T18:59:40.342Z"
   },
   {
    "duration": 356,
    "start_time": "2023-03-22T18:59:40.354Z"
   },
   {
    "duration": 12,
    "start_time": "2023-03-22T18:59:40.712Z"
   },
   {
    "duration": 339,
    "start_time": "2023-03-22T18:59:40.726Z"
   },
   {
    "duration": 10,
    "start_time": "2023-03-22T18:59:41.067Z"
   },
   {
    "duration": 189,
    "start_time": "2023-03-22T18:59:41.078Z"
   },
   {
    "duration": 15,
    "start_time": "2023-03-22T18:59:41.269Z"
   },
   {
    "duration": 49,
    "start_time": "2023-03-22T18:59:41.285Z"
   },
   {
    "duration": 237,
    "start_time": "2023-03-22T18:59:41.339Z"
   },
   {
    "duration": 26,
    "start_time": "2023-03-22T18:59:41.578Z"
   },
   {
    "duration": 155,
    "start_time": "2023-03-22T18:59:41.606Z"
   },
   {
    "duration": 0,
    "start_time": "2023-03-22T18:59:41.762Z"
   },
   {
    "duration": 0,
    "start_time": "2023-03-22T18:59:41.763Z"
   },
   {
    "duration": 3,
    "start_time": "2023-03-22T19:00:11.332Z"
   },
   {
    "duration": 81,
    "start_time": "2023-03-22T19:00:11.341Z"
   },
   {
    "duration": 22,
    "start_time": "2023-03-22T19:00:11.424Z"
   },
   {
    "duration": 15,
    "start_time": "2023-03-22T19:00:11.448Z"
   },
   {
    "duration": 9,
    "start_time": "2023-03-22T19:00:11.465Z"
   },
   {
    "duration": 35,
    "start_time": "2023-03-22T19:00:11.476Z"
   },
   {
    "duration": 34,
    "start_time": "2023-03-22T19:00:11.513Z"
   },
   {
    "duration": 5,
    "start_time": "2023-03-22T19:00:11.549Z"
   },
   {
    "duration": 15,
    "start_time": "2023-03-22T19:00:11.556Z"
   },
   {
    "duration": 6,
    "start_time": "2023-03-22T19:00:11.573Z"
   },
   {
    "duration": 6,
    "start_time": "2023-03-22T19:00:11.581Z"
   },
   {
    "duration": 22,
    "start_time": "2023-03-22T19:00:11.589Z"
   },
   {
    "duration": 37,
    "start_time": "2023-03-22T19:00:11.613Z"
   },
   {
    "duration": 11,
    "start_time": "2023-03-22T19:00:11.652Z"
   },
   {
    "duration": 24,
    "start_time": "2023-03-22T19:00:11.667Z"
   },
   {
    "duration": 52,
    "start_time": "2023-03-22T19:00:11.693Z"
   },
   {
    "duration": 202,
    "start_time": "2023-03-22T19:00:11.747Z"
   },
   {
    "duration": 15,
    "start_time": "2023-03-22T19:00:11.951Z"
   },
   {
    "duration": 9,
    "start_time": "2023-03-22T19:00:11.968Z"
   },
   {
    "duration": 183,
    "start_time": "2023-03-22T19:00:11.978Z"
   },
   {
    "duration": 12,
    "start_time": "2023-03-22T19:00:12.163Z"
   },
   {
    "duration": 29,
    "start_time": "2023-03-22T19:00:12.177Z"
   },
   {
    "duration": 938,
    "start_time": "2023-03-22T19:00:12.210Z"
   },
   {
    "duration": 197,
    "start_time": "2023-03-22T19:00:13.150Z"
   },
   {
    "duration": 12,
    "start_time": "2023-03-22T19:00:13.348Z"
   },
   {
    "duration": 179,
    "start_time": "2023-03-22T19:00:13.362Z"
   },
   {
    "duration": 14,
    "start_time": "2023-03-22T19:00:13.542Z"
   },
   {
    "duration": 240,
    "start_time": "2023-03-22T19:00:13.558Z"
   },
   {
    "duration": 13,
    "start_time": "2023-03-22T19:00:13.799Z"
   },
   {
    "duration": 217,
    "start_time": "2023-03-22T19:00:13.814Z"
   },
   {
    "duration": 13,
    "start_time": "2023-03-22T19:00:14.033Z"
   },
   {
    "duration": 216,
    "start_time": "2023-03-22T19:00:14.048Z"
   },
   {
    "duration": 15,
    "start_time": "2023-03-22T19:00:14.266Z"
   },
   {
    "duration": 201,
    "start_time": "2023-03-22T19:00:14.304Z"
   },
   {
    "duration": 23,
    "start_time": "2023-03-22T19:00:14.511Z"
   },
   {
    "duration": 28,
    "start_time": "2023-03-22T19:00:14.539Z"
   },
   {
    "duration": 618,
    "start_time": "2023-03-22T19:00:14.569Z"
   },
   {
    "duration": 353,
    "start_time": "2023-03-22T19:00:15.189Z"
   },
   {
    "duration": 254,
    "start_time": "2023-03-22T19:00:15.545Z"
   },
   {
    "duration": 26,
    "start_time": "2023-03-22T19:00:15.808Z"
   },
   {
    "duration": 232,
    "start_time": "2023-03-22T19:00:15.836Z"
   },
   {
    "duration": 6,
    "start_time": "2023-03-22T19:00:16.074Z"
   },
   {
    "duration": 26,
    "start_time": "2023-03-22T19:00:16.082Z"
   },
   {
    "duration": 46,
    "start_time": "2023-03-22T19:00:16.114Z"
   },
   {
    "duration": 27,
    "start_time": "2023-03-22T19:00:16.162Z"
   },
   {
    "duration": 264,
    "start_time": "2023-03-22T19:00:16.191Z"
   },
   {
    "duration": 5,
    "start_time": "2023-03-22T19:00:16.457Z"
   },
   {
    "duration": 28,
    "start_time": "2023-03-22T19:00:16.464Z"
   },
   {
    "duration": 58,
    "start_time": "2023-03-22T19:00:16.494Z"
   },
   {
    "duration": 453,
    "start_time": "2023-03-22T19:00:16.554Z"
   },
   {
    "duration": 28,
    "start_time": "2023-03-22T19:00:17.011Z"
   },
   {
    "duration": 409,
    "start_time": "2023-03-22T19:00:17.041Z"
   },
   {
    "duration": 11,
    "start_time": "2023-03-22T19:00:17.452Z"
   },
   {
    "duration": 404,
    "start_time": "2023-03-22T19:00:17.465Z"
   },
   {
    "duration": 11,
    "start_time": "2023-03-22T19:00:17.872Z"
   },
   {
    "duration": 466,
    "start_time": "2023-03-22T19:00:17.897Z"
   },
   {
    "duration": 10,
    "start_time": "2023-03-22T19:00:18.366Z"
   },
   {
    "duration": 200,
    "start_time": "2023-03-22T19:00:18.378Z"
   },
   {
    "duration": 46,
    "start_time": "2023-03-22T19:00:18.580Z"
   },
   {
    "duration": 45,
    "start_time": "2023-03-22T19:00:18.633Z"
   },
   {
    "duration": 288,
    "start_time": "2023-03-22T19:00:18.680Z"
   },
   {
    "duration": 31,
    "start_time": "2023-03-22T19:00:18.970Z"
   },
   {
    "duration": 45,
    "start_time": "2023-03-22T19:00:19.008Z"
   },
   {
    "duration": 13,
    "start_time": "2023-03-22T19:00:19.055Z"
   },
   {
    "duration": 34811,
    "start_time": "2023-03-22T19:00:19.070Z"
   },
   {
    "duration": 19,
    "start_time": "2023-03-22T19:03:52.031Z"
   },
   {
    "duration": 104,
    "start_time": "2023-03-22T19:04:11.064Z"
   },
   {
    "duration": 29,
    "start_time": "2023-03-22T19:04:20.624Z"
   },
   {
    "duration": 1148,
    "start_time": "2023-03-22T19:04:47.663Z"
   },
   {
    "duration": 1097,
    "start_time": "2023-03-22T19:05:19.880Z"
   },
   {
    "duration": 1623,
    "start_time": "2023-03-22T19:07:39.606Z"
   },
   {
    "duration": 1191,
    "start_time": "2023-03-22T19:08:11.646Z"
   },
   {
    "duration": 1095,
    "start_time": "2023-03-22T19:08:33.166Z"
   },
   {
    "duration": 18,
    "start_time": "2023-03-22T19:13:04.938Z"
   },
   {
    "duration": 7,
    "start_time": "2023-03-22T19:14:57.438Z"
   },
   {
    "duration": 7,
    "start_time": "2023-03-22T19:18:12.385Z"
   },
   {
    "duration": 8,
    "start_time": "2023-03-22T19:18:30.540Z"
   },
   {
    "duration": 5,
    "start_time": "2023-03-22T19:22:54.259Z"
   },
   {
    "duration": 7,
    "start_time": "2023-03-22T19:24:10.764Z"
   },
   {
    "duration": 20,
    "start_time": "2023-03-22T19:24:18.960Z"
   },
   {
    "duration": 11,
    "start_time": "2023-03-22T19:26:17.729Z"
   },
   {
    "duration": 6,
    "start_time": "2023-03-22T19:26:29.848Z"
   },
   {
    "duration": 6,
    "start_time": "2023-03-22T19:27:32.785Z"
   },
   {
    "duration": 37,
    "start_time": "2023-03-22T19:27:41.101Z"
   },
   {
    "duration": 6,
    "start_time": "2023-03-22T19:28:44.171Z"
   },
   {
    "duration": 7,
    "start_time": "2023-03-22T19:28:53.868Z"
   },
   {
    "duration": 20,
    "start_time": "2023-03-22T19:29:15.108Z"
   },
   {
    "duration": 87,
    "start_time": "2023-03-22T19:29:28.834Z"
   },
   {
    "duration": 9,
    "start_time": "2023-03-22T19:29:36.765Z"
   },
   {
    "duration": 4,
    "start_time": "2023-03-22T19:29:59.028Z"
   },
   {
    "duration": 68,
    "start_time": "2023-03-22T19:29:59.035Z"
   },
   {
    "duration": 18,
    "start_time": "2023-03-22T19:29:59.105Z"
   },
   {
    "duration": 25,
    "start_time": "2023-03-22T19:29:59.130Z"
   },
   {
    "duration": 10,
    "start_time": "2023-03-22T19:29:59.157Z"
   },
   {
    "duration": 15,
    "start_time": "2023-03-22T19:29:59.169Z"
   },
   {
    "duration": 23,
    "start_time": "2023-03-22T19:29:59.186Z"
   },
   {
    "duration": 40,
    "start_time": "2023-03-22T19:29:59.211Z"
   },
   {
    "duration": 38,
    "start_time": "2023-03-22T19:29:59.253Z"
   },
   {
    "duration": 17,
    "start_time": "2023-03-22T19:29:59.292Z"
   },
   {
    "duration": 33,
    "start_time": "2023-03-22T19:29:59.311Z"
   },
   {
    "duration": 17,
    "start_time": "2023-03-22T19:29:59.345Z"
   },
   {
    "duration": 8,
    "start_time": "2023-03-22T19:29:59.364Z"
   },
   {
    "duration": 8,
    "start_time": "2023-03-22T19:29:59.373Z"
   },
   {
    "duration": 40,
    "start_time": "2023-03-22T19:29:59.385Z"
   },
   {
    "duration": 33,
    "start_time": "2023-03-22T19:29:59.434Z"
   },
   {
    "duration": 173,
    "start_time": "2023-03-22T19:29:59.469Z"
   },
   {
    "duration": 14,
    "start_time": "2023-03-22T19:29:59.643Z"
   },
   {
    "duration": 6,
    "start_time": "2023-03-22T19:29:59.659Z"
   },
   {
    "duration": 177,
    "start_time": "2023-03-22T19:29:59.666Z"
   },
   {
    "duration": 12,
    "start_time": "2023-03-22T19:29:59.844Z"
   },
   {
    "duration": 4,
    "start_time": "2023-03-22T19:29:59.857Z"
   },
   {
    "duration": 782,
    "start_time": "2023-03-22T19:29:59.862Z"
   },
   {
    "duration": 201,
    "start_time": "2023-03-22T19:30:00.645Z"
   },
   {
    "duration": 11,
    "start_time": "2023-03-22T19:30:00.848Z"
   },
   {
    "duration": 179,
    "start_time": "2023-03-22T19:30:00.861Z"
   },
   {
    "duration": 14,
    "start_time": "2023-03-22T19:30:01.044Z"
   },
   {
    "duration": 391,
    "start_time": "2023-03-22T19:30:01.060Z"
   },
   {
    "duration": 15,
    "start_time": "2023-03-22T19:30:01.453Z"
   },
   {
    "duration": 219,
    "start_time": "2023-03-22T19:30:01.470Z"
   },
   {
    "duration": 28,
    "start_time": "2023-03-22T19:30:01.691Z"
   },
   {
    "duration": 287,
    "start_time": "2023-03-22T19:30:01.720Z"
   },
   {
    "duration": 12,
    "start_time": "2023-03-22T19:30:02.008Z"
   },
   {
    "duration": 204,
    "start_time": "2023-03-22T19:30:02.022Z"
   },
   {
    "duration": 16,
    "start_time": "2023-03-22T19:30:02.235Z"
   },
   {
    "duration": 33,
    "start_time": "2023-03-22T19:30:02.252Z"
   },
   {
    "duration": 648,
    "start_time": "2023-03-22T19:30:02.287Z"
   },
   {
    "duration": 209,
    "start_time": "2023-03-22T19:30:02.937Z"
   },
   {
    "duration": 219,
    "start_time": "2023-03-22T19:30:03.147Z"
   },
   {
    "duration": 14,
    "start_time": "2023-03-22T19:30:03.368Z"
   },
   {
    "duration": 231,
    "start_time": "2023-03-22T19:30:03.383Z"
   },
   {
    "duration": 7,
    "start_time": "2023-03-22T19:30:03.619Z"
   },
   {
    "duration": 27,
    "start_time": "2023-03-22T19:30:03.627Z"
   },
   {
    "duration": 22,
    "start_time": "2023-03-22T19:30:03.656Z"
   },
   {
    "duration": 83,
    "start_time": "2023-03-22T19:30:03.680Z"
   },
   {
    "duration": 221,
    "start_time": "2023-03-22T19:30:03.766Z"
   },
   {
    "duration": 11,
    "start_time": "2023-03-22T19:30:03.989Z"
   },
   {
    "duration": 52,
    "start_time": "2023-03-22T19:30:04.007Z"
   },
   {
    "duration": 18,
    "start_time": "2023-03-22T19:30:04.061Z"
   },
   {
    "duration": 467,
    "start_time": "2023-03-22T19:30:04.081Z"
   },
   {
    "duration": 10,
    "start_time": "2023-03-22T19:30:04.550Z"
   },
   {
    "duration": 323,
    "start_time": "2023-03-22T19:30:04.562Z"
   },
   {
    "duration": 26,
    "start_time": "2023-03-22T19:30:04.887Z"
   },
   {
    "duration": 366,
    "start_time": "2023-03-22T19:30:04.918Z"
   },
   {
    "duration": 41,
    "start_time": "2023-03-22T19:30:05.286Z"
   },
   {
    "duration": 320,
    "start_time": "2023-03-22T19:30:05.329Z"
   },
   {
    "duration": 11,
    "start_time": "2023-03-22T19:30:05.651Z"
   },
   {
    "duration": 196,
    "start_time": "2023-03-22T19:30:05.663Z"
   },
   {
    "duration": 13,
    "start_time": "2023-03-22T19:30:05.861Z"
   },
   {
    "duration": 51,
    "start_time": "2023-03-22T19:30:05.876Z"
   },
   {
    "duration": 243,
    "start_time": "2023-03-22T19:30:05.934Z"
   },
   {
    "duration": 26,
    "start_time": "2023-03-22T19:30:06.179Z"
   },
   {
    "duration": 34,
    "start_time": "2023-03-22T19:30:06.207Z"
   },
   {
    "duration": 13,
    "start_time": "2023-03-22T19:30:08.992Z"
   },
   {
    "duration": 11,
    "start_time": "2023-03-22T19:30:10.228Z"
   },
   {
    "duration": 13,
    "start_time": "2023-03-22T19:31:18.013Z"
   },
   {
    "duration": 151,
    "start_time": "2023-03-22T19:31:50.988Z"
   },
   {
    "duration": 157,
    "start_time": "2023-03-22T19:31:59.734Z"
   },
   {
    "duration": 264,
    "start_time": "2023-03-22T19:32:11.137Z"
   },
   {
    "duration": 186,
    "start_time": "2023-03-22T19:32:14.159Z"
   },
   {
    "duration": 20,
    "start_time": "2023-03-22T19:34:17.772Z"
   },
   {
    "duration": 179,
    "start_time": "2023-03-22T19:35:06.638Z"
   },
   {
    "duration": 182,
    "start_time": "2023-03-22T19:35:35.475Z"
   },
   {
    "duration": 16,
    "start_time": "2023-03-22T19:36:09.250Z"
   },
   {
    "duration": 169,
    "start_time": "2023-03-22T19:36:31.377Z"
   },
   {
    "duration": 20,
    "start_time": "2023-03-22T19:37:44.498Z"
   },
   {
    "duration": 201,
    "start_time": "2023-03-22T19:38:42.799Z"
   },
   {
    "duration": 17,
    "start_time": "2023-03-22T19:39:31.676Z"
   },
   {
    "duration": 183,
    "start_time": "2023-03-22T19:39:56.844Z"
   },
   {
    "duration": 18,
    "start_time": "2023-03-22T19:40:33.714Z"
   },
   {
    "duration": 198,
    "start_time": "2023-03-22T19:41:14.526Z"
   },
   {
    "duration": 11,
    "start_time": "2023-03-22T19:42:30.754Z"
   },
   {
    "duration": 1511,
    "start_time": "2023-03-23T04:46:51.369Z"
   },
   {
    "duration": 122,
    "start_time": "2023-03-23T04:46:52.882Z"
   },
   {
    "duration": 16,
    "start_time": "2023-03-23T04:46:53.006Z"
   },
   {
    "duration": 17,
    "start_time": "2023-03-23T04:46:53.024Z"
   },
   {
    "duration": 12,
    "start_time": "2023-03-23T04:46:53.042Z"
   },
   {
    "duration": 16,
    "start_time": "2023-03-23T04:46:53.056Z"
   },
   {
    "duration": 31,
    "start_time": "2023-03-23T04:46:53.073Z"
   },
   {
    "duration": 8,
    "start_time": "2023-03-23T04:46:53.105Z"
   },
   {
    "duration": 33,
    "start_time": "2023-03-23T04:46:53.115Z"
   },
   {
    "duration": 7,
    "start_time": "2023-03-23T04:46:53.151Z"
   },
   {
    "duration": 23,
    "start_time": "2023-03-23T04:46:53.160Z"
   },
   {
    "duration": 22,
    "start_time": "2023-03-23T04:46:53.185Z"
   },
   {
    "duration": 10,
    "start_time": "2023-03-23T04:46:53.209Z"
   },
   {
    "duration": 14,
    "start_time": "2023-03-23T04:46:53.221Z"
   },
   {
    "duration": 28,
    "start_time": "2023-03-23T04:46:53.236Z"
   },
   {
    "duration": 27,
    "start_time": "2023-03-23T04:46:53.265Z"
   },
   {
    "duration": 183,
    "start_time": "2023-03-23T04:46:53.293Z"
   },
   {
    "duration": 27,
    "start_time": "2023-03-23T04:46:53.478Z"
   },
   {
    "duration": 10,
    "start_time": "2023-03-23T04:46:53.507Z"
   },
   {
    "duration": 165,
    "start_time": "2023-03-23T04:46:53.519Z"
   },
   {
    "duration": 19,
    "start_time": "2023-03-23T04:46:53.686Z"
   },
   {
    "duration": 9,
    "start_time": "2023-03-23T04:46:53.707Z"
   },
   {
    "duration": 709,
    "start_time": "2023-03-23T04:46:53.718Z"
   },
   {
    "duration": 258,
    "start_time": "2023-03-23T04:46:56.735Z"
   },
   {
    "duration": 749,
    "start_time": "2023-03-23T04:48:07.582Z"
   },
   {
    "duration": 702,
    "start_time": "2023-03-23T04:48:13.520Z"
   },
   {
    "duration": 681,
    "start_time": "2023-03-23T04:48:17.880Z"
   },
   {
    "duration": 796,
    "start_time": "2023-03-23T04:48:23.856Z"
   },
   {
    "duration": 689,
    "start_time": "2023-03-23T04:48:45.613Z"
   },
   {
    "duration": 824,
    "start_time": "2023-03-23T04:49:02.400Z"
   },
   {
    "duration": 3,
    "start_time": "2023-03-23T04:49:21.657Z"
   },
   {
    "duration": 80,
    "start_time": "2023-03-23T04:49:21.662Z"
   },
   {
    "duration": 19,
    "start_time": "2023-03-23T04:49:21.744Z"
   },
   {
    "duration": 48,
    "start_time": "2023-03-23T04:49:21.765Z"
   },
   {
    "duration": 23,
    "start_time": "2023-03-23T04:49:21.815Z"
   },
   {
    "duration": 18,
    "start_time": "2023-03-23T04:49:21.839Z"
   },
   {
    "duration": 19,
    "start_time": "2023-03-23T04:49:21.858Z"
   },
   {
    "duration": 19,
    "start_time": "2023-03-23T04:49:21.879Z"
   },
   {
    "duration": 21,
    "start_time": "2023-03-23T04:49:21.900Z"
   },
   {
    "duration": 13,
    "start_time": "2023-03-23T04:49:21.925Z"
   },
   {
    "duration": 13,
    "start_time": "2023-03-23T04:49:21.940Z"
   },
   {
    "duration": 18,
    "start_time": "2023-03-23T04:49:21.956Z"
   },
   {
    "duration": 27,
    "start_time": "2023-03-23T04:49:21.976Z"
   },
   {
    "duration": 14,
    "start_time": "2023-03-23T04:49:22.004Z"
   },
   {
    "duration": 22,
    "start_time": "2023-03-23T04:49:22.021Z"
   },
   {
    "duration": 30,
    "start_time": "2023-03-23T04:49:22.045Z"
   },
   {
    "duration": 179,
    "start_time": "2023-03-23T04:49:22.077Z"
   },
   {
    "duration": 15,
    "start_time": "2023-03-23T04:49:22.258Z"
   },
   {
    "duration": 23,
    "start_time": "2023-03-23T04:49:22.276Z"
   },
   {
    "duration": 191,
    "start_time": "2023-03-23T04:49:22.301Z"
   },
   {
    "duration": 15,
    "start_time": "2023-03-23T04:49:22.494Z"
   },
   {
    "duration": 18,
    "start_time": "2023-03-23T04:49:22.512Z"
   },
   {
    "duration": 867,
    "start_time": "2023-03-23T04:49:22.533Z"
   },
   {
    "duration": 167,
    "start_time": "2023-03-23T04:49:23.402Z"
   },
   {
    "duration": 11,
    "start_time": "2023-03-23T04:49:23.570Z"
   },
   {
    "duration": 163,
    "start_time": "2023-03-23T04:49:23.583Z"
   },
   {
    "duration": 13,
    "start_time": "2023-03-23T04:49:23.748Z"
   },
   {
    "duration": 199,
    "start_time": "2023-03-23T04:49:23.767Z"
   },
   {
    "duration": 12,
    "start_time": "2023-03-23T04:49:23.968Z"
   },
   {
    "duration": 185,
    "start_time": "2023-03-23T04:49:23.982Z"
   },
   {
    "duration": 12,
    "start_time": "2023-03-23T04:49:24.169Z"
   },
   {
    "duration": 272,
    "start_time": "2023-03-23T04:49:24.196Z"
   },
   {
    "duration": 11,
    "start_time": "2023-03-23T04:49:24.470Z"
   },
   {
    "duration": 154,
    "start_time": "2023-03-23T04:49:24.497Z"
   },
   {
    "duration": 12,
    "start_time": "2023-03-23T04:49:24.652Z"
   },
   {
    "duration": 35,
    "start_time": "2023-03-23T04:49:24.666Z"
   },
   {
    "duration": 637,
    "start_time": "2023-03-23T04:49:24.703Z"
   },
   {
    "duration": 233,
    "start_time": "2023-03-23T04:49:25.342Z"
   },
   {
    "duration": 244,
    "start_time": "2023-03-23T04:49:25.577Z"
   },
   {
    "duration": 22,
    "start_time": "2023-03-23T04:49:25.824Z"
   },
   {
    "duration": 186,
    "start_time": "2023-03-23T04:49:25.848Z"
   },
   {
    "duration": 6,
    "start_time": "2023-03-23T04:49:26.037Z"
   },
   {
    "duration": 39,
    "start_time": "2023-03-23T04:49:26.045Z"
   },
   {
    "duration": 23,
    "start_time": "2023-03-23T04:49:26.085Z"
   },
   {
    "duration": 35,
    "start_time": "2023-03-23T04:49:26.110Z"
   },
   {
    "duration": 180,
    "start_time": "2023-03-23T04:49:26.147Z"
   },
   {
    "duration": 5,
    "start_time": "2023-03-23T04:49:26.329Z"
   },
   {
    "duration": 15,
    "start_time": "2023-03-23T04:49:26.336Z"
   },
   {
    "duration": 18,
    "start_time": "2023-03-23T04:49:26.353Z"
   },
   {
    "duration": 348,
    "start_time": "2023-03-23T04:49:26.373Z"
   },
   {
    "duration": 13,
    "start_time": "2023-03-23T04:49:26.724Z"
   },
   {
    "duration": 467,
    "start_time": "2023-03-23T04:49:26.739Z"
   },
   {
    "duration": 16,
    "start_time": "2023-03-23T04:49:27.208Z"
   },
   {
    "duration": 431,
    "start_time": "2023-03-23T04:49:27.226Z"
   },
   {
    "duration": 11,
    "start_time": "2023-03-23T04:49:27.659Z"
   },
   {
    "duration": 331,
    "start_time": "2023-03-23T04:49:27.673Z"
   },
   {
    "duration": 11,
    "start_time": "2023-03-23T04:49:28.006Z"
   },
   {
    "duration": 178,
    "start_time": "2023-03-23T04:49:28.019Z"
   },
   {
    "duration": 14,
    "start_time": "2023-03-23T04:49:28.199Z"
   },
   {
    "duration": 51,
    "start_time": "2023-03-23T04:49:28.214Z"
   },
   {
    "duration": 288,
    "start_time": "2023-03-23T04:49:28.268Z"
   },
   {
    "duration": 16,
    "start_time": "2023-03-23T04:49:28.559Z"
   },
   {
    "duration": 212,
    "start_time": "2023-03-23T04:49:28.578Z"
   },
   {
    "duration": 18,
    "start_time": "2023-03-23T04:49:28.796Z"
   },
   {
    "duration": 237,
    "start_time": "2023-03-23T04:49:28.817Z"
   },
   {
    "duration": 21,
    "start_time": "2023-03-23T04:49:29.056Z"
   },
   {
    "duration": 269,
    "start_time": "2023-03-23T04:49:29.080Z"
   },
   {
    "duration": 19,
    "start_time": "2023-03-23T04:49:29.351Z"
   },
   {
    "duration": 200,
    "start_time": "2023-03-23T04:49:29.372Z"
   },
   {
    "duration": 25,
    "start_time": "2023-03-23T04:49:29.574Z"
   },
   {
    "duration": 325,
    "start_time": "2023-03-23T04:49:29.602Z"
   },
   {
    "duration": 16,
    "start_time": "2023-03-23T04:49:29.929Z"
   },
   {
    "duration": 215,
    "start_time": "2023-03-23T04:49:29.947Z"
   },
   {
    "duration": 13,
    "start_time": "2023-03-23T04:49:30.163Z"
   },
   {
    "duration": 5055,
    "start_time": "2023-03-23T04:49:30.178Z"
   },
   {
    "duration": 393,
    "start_time": "2023-03-23T05:10:44.060Z"
   },
   {
    "duration": 195,
    "start_time": "2023-03-23T05:15:22.929Z"
   },
   {
    "duration": 7,
    "start_time": "2023-03-23T05:15:48.233Z"
   },
   {
    "duration": 13,
    "start_time": "2023-03-23T05:16:07.895Z"
   },
   {
    "duration": 6,
    "start_time": "2023-03-23T05:17:03.667Z"
   },
   {
    "duration": 9,
    "start_time": "2023-03-23T05:17:12.866Z"
   },
   {
    "duration": 4,
    "start_time": "2023-03-23T05:17:41.775Z"
   },
   {
    "duration": 101,
    "start_time": "2023-03-23T05:17:41.786Z"
   },
   {
    "duration": 17,
    "start_time": "2023-03-23T05:17:41.889Z"
   },
   {
    "duration": 77,
    "start_time": "2023-03-23T05:17:41.908Z"
   },
   {
    "duration": 54,
    "start_time": "2023-03-23T05:17:41.987Z"
   },
   {
    "duration": 14,
    "start_time": "2023-03-23T05:17:42.044Z"
   },
   {
    "duration": 17,
    "start_time": "2023-03-23T05:17:42.060Z"
   },
   {
    "duration": 53,
    "start_time": "2023-03-23T05:17:42.079Z"
   },
   {
    "duration": 33,
    "start_time": "2023-03-23T05:17:42.134Z"
   },
   {
    "duration": 7,
    "start_time": "2023-03-23T05:17:42.170Z"
   },
   {
    "duration": 60,
    "start_time": "2023-03-23T05:17:42.179Z"
   },
   {
    "duration": 13,
    "start_time": "2023-03-23T05:17:42.250Z"
   },
   {
    "duration": 19,
    "start_time": "2023-03-23T05:17:42.264Z"
   },
   {
    "duration": 50,
    "start_time": "2023-03-23T05:17:42.285Z"
   },
   {
    "duration": 19,
    "start_time": "2023-03-23T05:17:42.340Z"
   },
   {
    "duration": 33,
    "start_time": "2023-03-23T05:17:42.361Z"
   },
   {
    "duration": 252,
    "start_time": "2023-03-23T05:17:42.397Z"
   },
   {
    "duration": 21,
    "start_time": "2023-03-23T05:17:42.651Z"
   },
   {
    "duration": 34,
    "start_time": "2023-03-23T05:17:42.674Z"
   },
   {
    "duration": 208,
    "start_time": "2023-03-23T05:17:42.714Z"
   },
   {
    "duration": 18,
    "start_time": "2023-03-23T05:17:42.927Z"
   },
   {
    "duration": 16,
    "start_time": "2023-03-23T05:17:42.947Z"
   },
   {
    "duration": 805,
    "start_time": "2023-03-23T05:17:42.965Z"
   },
   {
    "duration": 188,
    "start_time": "2023-03-23T05:17:43.772Z"
   },
   {
    "duration": 12,
    "start_time": "2023-03-23T05:17:43.963Z"
   },
   {
    "duration": 228,
    "start_time": "2023-03-23T05:17:43.977Z"
   },
   {
    "duration": 14,
    "start_time": "2023-03-23T05:17:44.207Z"
   },
   {
    "duration": 327,
    "start_time": "2023-03-23T05:17:44.224Z"
   },
   {
    "duration": 12,
    "start_time": "2023-03-23T05:17:44.553Z"
   },
   {
    "duration": 182,
    "start_time": "2023-03-23T05:17:44.567Z"
   },
   {
    "duration": 10,
    "start_time": "2023-03-23T05:17:44.751Z"
   },
   {
    "duration": 201,
    "start_time": "2023-03-23T05:17:44.763Z"
   },
   {
    "duration": 11,
    "start_time": "2023-03-23T05:17:44.966Z"
   },
   {
    "duration": 180,
    "start_time": "2023-03-23T05:17:44.979Z"
   },
   {
    "duration": 11,
    "start_time": "2023-03-23T05:17:45.161Z"
   },
   {
    "duration": 40,
    "start_time": "2023-03-23T05:17:45.174Z"
   },
   {
    "duration": 663,
    "start_time": "2023-03-23T05:17:45.218Z"
   },
   {
    "duration": 249,
    "start_time": "2023-03-23T05:17:45.883Z"
   },
   {
    "duration": 279,
    "start_time": "2023-03-23T05:17:46.137Z"
   },
   {
    "duration": 27,
    "start_time": "2023-03-23T05:17:46.430Z"
   },
   {
    "duration": 272,
    "start_time": "2023-03-23T05:17:46.459Z"
   },
   {
    "duration": 7,
    "start_time": "2023-03-23T05:17:46.744Z"
   },
   {
    "duration": 23,
    "start_time": "2023-03-23T05:17:46.752Z"
   },
   {
    "duration": 16,
    "start_time": "2023-03-23T05:17:46.777Z"
   },
   {
    "duration": 55,
    "start_time": "2023-03-23T05:17:46.795Z"
   },
   {
    "duration": 204,
    "start_time": "2023-03-23T05:17:46.852Z"
   },
   {
    "duration": 6,
    "start_time": "2023-03-23T05:17:47.058Z"
   },
   {
    "duration": 24,
    "start_time": "2023-03-23T05:17:47.065Z"
   },
   {
    "duration": 55,
    "start_time": "2023-03-23T05:17:47.091Z"
   },
   {
    "duration": 502,
    "start_time": "2023-03-23T05:17:47.148Z"
   },
   {
    "duration": 15,
    "start_time": "2023-03-23T05:17:47.652Z"
   },
   {
    "duration": 417,
    "start_time": "2023-03-23T05:17:47.669Z"
   },
   {
    "duration": 28,
    "start_time": "2023-03-23T05:17:48.088Z"
   },
   {
    "duration": 363,
    "start_time": "2023-03-23T05:17:48.122Z"
   },
   {
    "duration": 25,
    "start_time": "2023-03-23T05:17:48.488Z"
   },
   {
    "duration": 372,
    "start_time": "2023-03-23T05:17:48.515Z"
   },
   {
    "duration": 29,
    "start_time": "2023-03-23T05:17:48.888Z"
   },
   {
    "duration": 236,
    "start_time": "2023-03-23T05:17:48.920Z"
   },
   {
    "duration": 19,
    "start_time": "2023-03-23T05:17:49.158Z"
   },
   {
    "duration": 30,
    "start_time": "2023-03-23T05:17:49.180Z"
   },
   {
    "duration": 298,
    "start_time": "2023-03-23T05:17:49.211Z"
   },
   {
    "duration": 20,
    "start_time": "2023-03-23T05:17:49.511Z"
   },
   {
    "duration": 217,
    "start_time": "2023-03-23T05:17:49.533Z"
   },
   {
    "duration": 24,
    "start_time": "2023-03-23T05:17:49.753Z"
   },
   {
    "duration": 239,
    "start_time": "2023-03-23T05:17:49.779Z"
   },
   {
    "duration": 23,
    "start_time": "2023-03-23T05:17:50.021Z"
   },
   {
    "duration": 614,
    "start_time": "2023-03-23T05:17:50.047Z"
   },
   {
    "duration": 18,
    "start_time": "2023-03-23T05:17:50.698Z"
   },
   {
    "duration": 235,
    "start_time": "2023-03-23T05:17:50.718Z"
   },
   {
    "duration": 22,
    "start_time": "2023-03-23T05:17:50.956Z"
   },
   {
    "duration": 300,
    "start_time": "2023-03-23T05:17:50.980Z"
   },
   {
    "duration": 30,
    "start_time": "2023-03-23T05:17:51.282Z"
   },
   {
    "duration": 267,
    "start_time": "2023-03-23T05:17:51.315Z"
   },
   {
    "duration": 20,
    "start_time": "2023-03-23T05:17:51.584Z"
   },
   {
    "duration": 192,
    "start_time": "2023-03-23T05:17:51.611Z"
   },
   {
    "duration": 0,
    "start_time": "2023-03-23T05:17:51.806Z"
   },
   {
    "duration": 5,
    "start_time": "2023-03-23T05:18:09.379Z"
   },
   {
    "duration": 22,
    "start_time": "2023-03-23T05:18:51.272Z"
   },
   {
    "duration": 10,
    "start_time": "2023-03-23T05:19:10.248Z"
   },
   {
    "duration": 8,
    "start_time": "2023-03-23T05:19:16.169Z"
   },
   {
    "duration": 10,
    "start_time": "2023-03-23T05:19:27.616Z"
   },
   {
    "duration": 16,
    "start_time": "2023-03-23T05:20:19.159Z"
   },
   {
    "duration": 18,
    "start_time": "2023-03-23T05:20:21.260Z"
   },
   {
    "duration": 303,
    "start_time": "2023-03-23T05:20:32.680Z"
   },
   {
    "duration": 221,
    "start_time": "2023-03-23T05:21:18.040Z"
   },
   {
    "duration": 264,
    "start_time": "2023-03-23T05:21:23.087Z"
   },
   {
    "duration": 196,
    "start_time": "2023-03-23T05:21:31.580Z"
   },
   {
    "duration": 9,
    "start_time": "2023-03-23T05:23:43.073Z"
   },
   {
    "duration": 165,
    "start_time": "2023-03-23T05:27:59.524Z"
   },
   {
    "duration": 178,
    "start_time": "2023-03-23T05:30:05.983Z"
   },
   {
    "duration": 4,
    "start_time": "2023-03-23T06:15:21.787Z"
   },
   {
    "duration": 6,
    "start_time": "2023-03-23T06:16:33.323Z"
   },
   {
    "duration": 330,
    "start_time": "2023-03-23T06:21:42.381Z"
   },
   {
    "duration": 32,
    "start_time": "2023-03-23T06:23:03.530Z"
   },
   {
    "duration": 134,
    "start_time": "2023-03-23T06:23:11.474Z"
   },
   {
    "duration": 5,
    "start_time": "2023-03-23T06:24:06.955Z"
   },
   {
    "duration": 16,
    "start_time": "2023-03-23T06:24:14.721Z"
   },
   {
    "duration": 14,
    "start_time": "2023-03-23T06:24:18.351Z"
   },
   {
    "duration": 13,
    "start_time": "2023-03-23T06:24:35.681Z"
   },
   {
    "duration": 13,
    "start_time": "2023-03-23T06:24:55.178Z"
   },
   {
    "duration": 10,
    "start_time": "2023-03-23T06:25:44.183Z"
   },
   {
    "duration": 11,
    "start_time": "2023-03-23T06:26:13.072Z"
   },
   {
    "duration": 4,
    "start_time": "2023-03-23T10:19:44.800Z"
   },
   {
    "duration": 79,
    "start_time": "2023-03-23T10:19:44.808Z"
   },
   {
    "duration": 25,
    "start_time": "2023-03-23T10:19:44.888Z"
   },
   {
    "duration": 23,
    "start_time": "2023-03-23T10:19:44.915Z"
   },
   {
    "duration": 10,
    "start_time": "2023-03-23T10:19:44.940Z"
   },
   {
    "duration": 26,
    "start_time": "2023-03-23T10:19:44.952Z"
   },
   {
    "duration": 20,
    "start_time": "2023-03-23T10:19:44.980Z"
   },
   {
    "duration": 31,
    "start_time": "2023-03-23T10:19:45.004Z"
   },
   {
    "duration": 22,
    "start_time": "2023-03-23T10:19:45.036Z"
   },
   {
    "duration": 30,
    "start_time": "2023-03-23T10:19:45.060Z"
   },
   {
    "duration": 48,
    "start_time": "2023-03-23T10:19:45.094Z"
   },
   {
    "duration": 24,
    "start_time": "2023-03-23T10:19:45.144Z"
   },
   {
    "duration": 15,
    "start_time": "2023-03-23T10:19:45.170Z"
   },
   {
    "duration": 14,
    "start_time": "2023-03-23T10:19:45.187Z"
   },
   {
    "duration": 50,
    "start_time": "2023-03-23T10:19:45.203Z"
   },
   {
    "duration": 24,
    "start_time": "2023-03-23T10:19:45.255Z"
   },
   {
    "duration": 188,
    "start_time": "2023-03-23T10:19:45.281Z"
   },
   {
    "duration": 39,
    "start_time": "2023-03-23T10:19:45.470Z"
   },
   {
    "duration": 7,
    "start_time": "2023-03-23T10:19:45.512Z"
   },
   {
    "duration": 143,
    "start_time": "2023-03-23T10:19:45.520Z"
   },
   {
    "duration": 12,
    "start_time": "2023-03-23T10:19:45.664Z"
   },
   {
    "duration": 24,
    "start_time": "2023-03-23T10:19:45.678Z"
   },
   {
    "duration": 813,
    "start_time": "2023-03-23T10:19:45.704Z"
   },
   {
    "duration": 175,
    "start_time": "2023-03-23T10:19:46.519Z"
   },
   {
    "duration": 22,
    "start_time": "2023-03-23T10:19:46.696Z"
   },
   {
    "duration": 148,
    "start_time": "2023-03-23T10:19:46.719Z"
   },
   {
    "duration": 12,
    "start_time": "2023-03-23T10:19:46.868Z"
   },
   {
    "duration": 182,
    "start_time": "2023-03-23T10:19:46.881Z"
   },
   {
    "duration": 11,
    "start_time": "2023-03-23T10:19:47.069Z"
   },
   {
    "duration": 173,
    "start_time": "2023-03-23T10:19:47.082Z"
   },
   {
    "duration": 11,
    "start_time": "2023-03-23T10:19:47.257Z"
   },
   {
    "duration": 176,
    "start_time": "2023-03-23T10:19:47.270Z"
   },
   {
    "duration": 11,
    "start_time": "2023-03-23T10:19:47.449Z"
   },
   {
    "duration": 163,
    "start_time": "2023-03-23T10:19:47.462Z"
   },
   {
    "duration": 11,
    "start_time": "2023-03-23T10:19:47.627Z"
   },
   {
    "duration": 13,
    "start_time": "2023-03-23T10:19:47.640Z"
   },
   {
    "duration": 582,
    "start_time": "2023-03-23T10:19:47.655Z"
   },
   {
    "duration": 212,
    "start_time": "2023-03-23T10:19:48.239Z"
   },
   {
    "duration": 324,
    "start_time": "2023-03-23T10:19:48.454Z"
   },
   {
    "duration": 33,
    "start_time": "2023-03-23T10:19:48.780Z"
   },
   {
    "duration": 160,
    "start_time": "2023-03-23T10:19:48.814Z"
   },
   {
    "duration": 5,
    "start_time": "2023-03-23T10:19:48.976Z"
   },
   {
    "duration": 17,
    "start_time": "2023-03-23T10:19:49.000Z"
   },
   {
    "duration": 17,
    "start_time": "2023-03-23T10:19:49.019Z"
   },
   {
    "duration": 32,
    "start_time": "2023-03-23T10:19:49.038Z"
   },
   {
    "duration": 184,
    "start_time": "2023-03-23T10:19:49.072Z"
   },
   {
    "duration": 5,
    "start_time": "2023-03-23T10:19:49.257Z"
   },
   {
    "duration": 17,
    "start_time": "2023-03-23T10:19:49.264Z"
   },
   {
    "duration": 35,
    "start_time": "2023-03-23T10:19:49.283Z"
   },
   {
    "duration": 320,
    "start_time": "2023-03-23T10:19:49.320Z"
   },
   {
    "duration": 10,
    "start_time": "2023-03-23T10:19:49.643Z"
   },
   {
    "duration": 310,
    "start_time": "2023-03-23T10:19:49.655Z"
   },
   {
    "duration": 10,
    "start_time": "2023-03-23T10:19:49.967Z"
   },
   {
    "duration": 341,
    "start_time": "2023-03-23T10:19:49.979Z"
   },
   {
    "duration": 11,
    "start_time": "2023-03-23T10:19:50.322Z"
   },
   {
    "duration": 355,
    "start_time": "2023-03-23T10:19:50.335Z"
   },
   {
    "duration": 14,
    "start_time": "2023-03-23T10:19:50.700Z"
   },
   {
    "duration": 270,
    "start_time": "2023-03-23T10:19:50.716Z"
   },
   {
    "duration": 21,
    "start_time": "2023-03-23T10:19:50.997Z"
   },
   {
    "duration": 23,
    "start_time": "2023-03-23T10:19:51.020Z"
   },
   {
    "duration": 245,
    "start_time": "2023-03-23T10:19:51.044Z"
   },
   {
    "duration": 22,
    "start_time": "2023-03-23T10:19:51.291Z"
   },
   {
    "duration": 198,
    "start_time": "2023-03-23T10:19:51.315Z"
   },
   {
    "duration": 16,
    "start_time": "2023-03-23T10:19:51.515Z"
   },
   {
    "duration": 190,
    "start_time": "2023-03-23T10:19:51.533Z"
   },
   {
    "duration": 16,
    "start_time": "2023-03-23T10:19:51.725Z"
   },
   {
    "duration": 188,
    "start_time": "2023-03-23T10:19:51.743Z"
   },
   {
    "duration": 18,
    "start_time": "2023-03-23T10:19:51.934Z"
   },
   {
    "duration": 213,
    "start_time": "2023-03-23T10:19:51.954Z"
   },
   {
    "duration": 15,
    "start_time": "2023-03-23T10:19:52.169Z"
   },
   {
    "duration": 196,
    "start_time": "2023-03-23T10:19:52.185Z"
   },
   {
    "duration": 32,
    "start_time": "2023-03-23T10:19:52.383Z"
   },
   {
    "duration": 229,
    "start_time": "2023-03-23T10:19:52.417Z"
   },
   {
    "duration": 9,
    "start_time": "2023-03-23T10:19:52.648Z"
   },
   {
    "duration": 221,
    "start_time": "2023-03-23T10:19:52.659Z"
   },
   {
    "duration": 157,
    "start_time": "2023-03-23T10:19:52.882Z"
   },
   {
    "duration": 173,
    "start_time": "2023-03-23T10:19:53.040Z"
   },
   {
    "duration": 6,
    "start_time": "2023-03-23T10:19:53.214Z"
   },
   {
    "duration": 26,
    "start_time": "2023-03-23T10:19:53.221Z"
   },
   {
    "duration": 15,
    "start_time": "2023-03-23T10:19:53.249Z"
   },
   {
    "duration": 16471,
    "start_time": "2023-03-23T10:19:53.266Z"
   },
   {
    "duration": 121,
    "start_time": "2023-03-23T10:21:27.997Z"
   },
   {
    "duration": 11,
    "start_time": "2023-03-23T10:21:40.329Z"
   },
   {
    "duration": 8,
    "start_time": "2023-03-23T10:24:03.471Z"
   },
   {
    "duration": 16,
    "start_time": "2023-03-23T10:25:03.196Z"
   },
   {
    "duration": 10,
    "start_time": "2023-03-23T10:25:08.059Z"
   },
   {
    "duration": 8,
    "start_time": "2023-03-23T10:30:20.512Z"
   },
   {
    "duration": 12,
    "start_time": "2023-03-23T10:34:01.613Z"
   },
   {
    "duration": 11,
    "start_time": "2023-03-23T10:35:12.851Z"
   },
   {
    "duration": 10,
    "start_time": "2023-03-23T10:41:44.912Z"
   },
   {
    "duration": 12,
    "start_time": "2023-03-23T10:42:23.908Z"
   },
   {
    "duration": 11,
    "start_time": "2023-03-23T10:42:43.531Z"
   },
   {
    "duration": 11,
    "start_time": "2023-03-23T10:42:46.148Z"
   },
   {
    "duration": 13,
    "start_time": "2023-03-23T10:46:52.315Z"
   },
   {
    "duration": 4,
    "start_time": "2023-03-23T10:49:02.391Z"
   },
   {
    "duration": 101,
    "start_time": "2023-03-23T10:49:02.403Z"
   },
   {
    "duration": 20,
    "start_time": "2023-03-23T10:49:02.507Z"
   },
   {
    "duration": 32,
    "start_time": "2023-03-23T10:49:02.529Z"
   },
   {
    "duration": 36,
    "start_time": "2023-03-23T10:49:05.576Z"
   },
   {
    "duration": 23,
    "start_time": "2023-03-23T10:49:12.439Z"
   },
   {
    "duration": 55,
    "start_time": "2023-03-23T10:49:20.031Z"
   },
   {
    "duration": 279,
    "start_time": "2023-03-23T10:51:18.918Z"
   },
   {
    "duration": 3386,
    "start_time": "2023-03-23T11:12:02.954Z"
   },
   {
    "duration": 1457,
    "start_time": "2023-03-23T11:48:43.541Z"
   },
   {
    "duration": 138,
    "start_time": "2023-03-23T11:48:44.999Z"
   },
   {
    "duration": 12,
    "start_time": "2023-03-23T11:48:45.139Z"
   },
   {
    "duration": 15,
    "start_time": "2023-03-23T11:48:45.153Z"
   },
   {
    "duration": 22,
    "start_time": "2023-03-23T11:48:45.170Z"
   },
   {
    "duration": 14,
    "start_time": "2023-03-23T11:48:45.194Z"
   },
   {
    "duration": 12,
    "start_time": "2023-03-23T11:48:45.228Z"
   },
   {
    "duration": 9,
    "start_time": "2023-03-23T11:48:45.242Z"
   },
   {
    "duration": 8,
    "start_time": "2023-03-23T11:48:45.253Z"
   },
   {
    "duration": 18,
    "start_time": "2023-03-23T11:48:45.264Z"
   },
   {
    "duration": 8,
    "start_time": "2023-03-23T11:48:45.283Z"
   },
   {
    "duration": 6,
    "start_time": "2023-03-23T11:48:45.292Z"
   },
   {
    "duration": 27,
    "start_time": "2023-03-23T11:48:45.300Z"
   },
   {
    "duration": 6,
    "start_time": "2023-03-23T11:48:45.336Z"
   },
   {
    "duration": 11,
    "start_time": "2023-03-23T11:48:45.344Z"
   },
   {
    "duration": 21,
    "start_time": "2023-03-23T11:48:45.357Z"
   },
   {
    "duration": 16,
    "start_time": "2023-03-23T11:48:45.380Z"
   },
   {
    "duration": 198,
    "start_time": "2023-03-23T11:48:45.398Z"
   },
   {
    "duration": 17,
    "start_time": "2023-03-23T11:48:45.598Z"
   },
   {
    "duration": 20,
    "start_time": "2023-03-23T11:48:45.616Z"
   },
   {
    "duration": 144,
    "start_time": "2023-03-23T11:48:45.638Z"
   },
   {
    "duration": 11,
    "start_time": "2023-03-23T11:48:45.784Z"
   },
   {
    "duration": 10,
    "start_time": "2023-03-23T11:48:45.797Z"
   },
   {
    "duration": 687,
    "start_time": "2023-03-23T11:48:45.808Z"
   },
   {
    "duration": 160,
    "start_time": "2023-03-23T11:48:46.498Z"
   },
   {
    "duration": 12,
    "start_time": "2023-03-23T11:48:46.661Z"
   },
   {
    "duration": 164,
    "start_time": "2023-03-23T11:48:46.675Z"
   },
   {
    "duration": 74,
    "start_time": "2023-03-23T11:48:46.845Z"
   },
   {
    "duration": 168,
    "start_time": "2023-03-23T11:48:46.928Z"
   },
   {
    "duration": 10,
    "start_time": "2023-03-23T11:48:47.098Z"
   },
   {
    "duration": 146,
    "start_time": "2023-03-23T11:48:47.110Z"
   },
   {
    "duration": 10,
    "start_time": "2023-03-23T11:48:47.258Z"
   },
   {
    "duration": 149,
    "start_time": "2023-03-23T11:48:47.269Z"
   },
   {
    "duration": 17,
    "start_time": "2023-03-23T11:48:47.424Z"
   },
   {
    "duration": 130,
    "start_time": "2023-03-23T11:48:47.443Z"
   },
   {
    "duration": 10,
    "start_time": "2023-03-23T11:48:47.574Z"
   },
   {
    "duration": 12,
    "start_time": "2023-03-23T11:48:47.586Z"
   },
   {
    "duration": 527,
    "start_time": "2023-03-23T11:48:47.600Z"
   },
   {
    "duration": 189,
    "start_time": "2023-03-23T11:48:48.129Z"
   },
   {
    "duration": 198,
    "start_time": "2023-03-23T11:48:48.320Z"
   },
   {
    "duration": 23,
    "start_time": "2023-03-23T11:48:48.520Z"
   },
   {
    "duration": 142,
    "start_time": "2023-03-23T11:48:48.545Z"
   },
   {
    "duration": 4,
    "start_time": "2023-03-23T11:48:48.689Z"
   },
   {
    "duration": 25,
    "start_time": "2023-03-23T11:48:48.695Z"
   },
   {
    "duration": 28,
    "start_time": "2023-03-23T11:48:48.728Z"
   },
   {
    "duration": 21,
    "start_time": "2023-03-23T11:48:48.758Z"
   },
   {
    "duration": 158,
    "start_time": "2023-03-23T11:48:48.781Z"
   },
   {
    "duration": 5,
    "start_time": "2023-03-23T11:48:48.941Z"
   },
   {
    "duration": 27,
    "start_time": "2023-03-23T11:48:48.947Z"
   },
   {
    "duration": 9,
    "start_time": "2023-03-23T11:48:48.975Z"
   },
   {
    "duration": 331,
    "start_time": "2023-03-23T11:48:48.986Z"
   },
   {
    "duration": 18,
    "start_time": "2023-03-23T11:48:49.319Z"
   },
   {
    "duration": 261,
    "start_time": "2023-03-23T11:48:49.339Z"
   },
   {
    "duration": 9,
    "start_time": "2023-03-23T11:48:49.602Z"
   },
   {
    "duration": 298,
    "start_time": "2023-03-23T11:48:49.624Z"
   },
   {
    "duration": 10,
    "start_time": "2023-03-23T11:48:49.939Z"
   },
   {
    "duration": 287,
    "start_time": "2023-03-23T11:48:49.951Z"
   },
   {
    "duration": 9,
    "start_time": "2023-03-23T11:48:50.240Z"
   },
   {
    "duration": 143,
    "start_time": "2023-03-23T11:48:50.250Z"
   },
   {
    "duration": 12,
    "start_time": "2023-03-23T11:48:50.395Z"
   },
   {
    "duration": 21,
    "start_time": "2023-03-23T11:48:50.409Z"
   },
   {
    "duration": 205,
    "start_time": "2023-03-23T11:48:50.431Z"
   },
   {
    "duration": 14,
    "start_time": "2023-03-23T11:48:50.638Z"
   },
   {
    "duration": 143,
    "start_time": "2023-03-23T11:48:50.654Z"
   },
   {
    "duration": 14,
    "start_time": "2023-03-23T11:48:50.798Z"
   },
   {
    "duration": 144,
    "start_time": "2023-03-23T11:48:50.828Z"
   },
   {
    "duration": 13,
    "start_time": "2023-03-23T11:48:50.974Z"
   },
   {
    "duration": 213,
    "start_time": "2023-03-23T11:48:50.989Z"
   },
   {
    "duration": 23,
    "start_time": "2023-03-23T11:48:51.203Z"
   },
   {
    "duration": 201,
    "start_time": "2023-03-23T11:48:51.235Z"
   },
   {
    "duration": 14,
    "start_time": "2023-03-23T11:48:51.438Z"
   },
   {
    "duration": 151,
    "start_time": "2023-03-23T11:48:51.454Z"
   },
   {
    "duration": 17,
    "start_time": "2023-03-23T11:48:51.606Z"
   },
   {
    "duration": 169,
    "start_time": "2023-03-23T11:48:51.624Z"
   },
   {
    "duration": 5,
    "start_time": "2023-03-23T11:48:51.794Z"
   },
   {
    "duration": 154,
    "start_time": "2023-03-23T11:48:51.800Z"
   },
   {
    "duration": 195,
    "start_time": "2023-03-23T11:48:51.956Z"
   },
   {
    "duration": 130,
    "start_time": "2023-03-23T11:48:52.153Z"
   },
   {
    "duration": 5,
    "start_time": "2023-03-23T11:48:52.284Z"
   },
   {
    "duration": 37,
    "start_time": "2023-03-23T11:48:52.290Z"
   },
   {
    "duration": 23,
    "start_time": "2023-03-23T11:48:52.328Z"
   },
   {
    "duration": 17,
    "start_time": "2023-03-23T11:48:52.356Z"
   },
   {
    "duration": 286,
    "start_time": "2023-03-23T11:48:52.375Z"
   },
   {
    "duration": 71,
    "start_time": "2023-03-23T12:16:00.553Z"
   },
   {
    "duration": 67,
    "start_time": "2023-03-23T12:16:06.732Z"
   },
   {
    "duration": 65,
    "start_time": "2023-03-23T12:16:23.074Z"
   },
   {
    "duration": 24,
    "start_time": "2023-03-23T12:16:45.966Z"
   },
   {
    "duration": 56,
    "start_time": "2023-03-23T12:16:58.720Z"
   },
   {
    "duration": 15,
    "start_time": "2023-03-23T12:19:39.315Z"
   },
   {
    "duration": 4,
    "start_time": "2023-03-23T12:19:55.890Z"
   },
   {
    "duration": 83,
    "start_time": "2023-03-23T12:19:55.903Z"
   },
   {
    "duration": 14,
    "start_time": "2023-03-23T12:19:55.988Z"
   },
   {
    "duration": 56,
    "start_time": "2023-03-23T12:19:56.004Z"
   },
   {
    "duration": 14,
    "start_time": "2023-03-23T12:19:56.062Z"
   },
   {
    "duration": 42,
    "start_time": "2023-03-23T12:19:56.078Z"
   },
   {
    "duration": 20,
    "start_time": "2023-03-23T12:20:01.857Z"
   },
   {
    "duration": 5,
    "start_time": "2023-03-23T12:22:06.182Z"
   },
   {
    "duration": 20,
    "start_time": "2023-03-23T12:22:23.020Z"
   },
   {
    "duration": 10,
    "start_time": "2023-03-23T12:31:04.365Z"
   },
   {
    "duration": 6,
    "start_time": "2023-03-23T12:31:13.505Z"
   },
   {
    "duration": 7,
    "start_time": "2023-03-23T12:31:41.190Z"
   },
   {
    "duration": 12,
    "start_time": "2023-03-23T12:31:45.876Z"
   },
   {
    "duration": 3,
    "start_time": "2023-03-23T12:32:06.858Z"
   },
   {
    "duration": 76,
    "start_time": "2023-03-23T12:32:06.879Z"
   },
   {
    "duration": 16,
    "start_time": "2023-03-23T12:32:06.957Z"
   },
   {
    "duration": 66,
    "start_time": "2023-03-23T12:32:06.975Z"
   },
   {
    "duration": 17,
    "start_time": "2023-03-23T12:32:07.044Z"
   },
   {
    "duration": 52,
    "start_time": "2023-03-23T12:32:07.063Z"
   },
   {
    "duration": 22,
    "start_time": "2023-03-23T12:32:07.117Z"
   },
   {
    "duration": 6,
    "start_time": "2023-03-23T12:32:07.142Z"
   },
   {
    "duration": 24,
    "start_time": "2023-03-23T12:32:07.150Z"
   },
   {
    "duration": 41,
    "start_time": "2023-03-23T12:32:07.176Z"
   },
   {
    "duration": 12,
    "start_time": "2023-03-23T12:32:07.220Z"
   },
   {
    "duration": 41,
    "start_time": "2023-03-23T12:32:07.234Z"
   },
   {
    "duration": 12,
    "start_time": "2023-03-23T12:32:07.277Z"
   },
   {
    "duration": 33,
    "start_time": "2023-03-23T12:32:07.291Z"
   },
   {
    "duration": 8,
    "start_time": "2023-03-23T12:32:07.326Z"
   },
   {
    "duration": 14,
    "start_time": "2023-03-23T12:32:07.335Z"
   },
   {
    "duration": 15,
    "start_time": "2023-03-23T12:32:07.352Z"
   },
   {
    "duration": 19,
    "start_time": "2023-03-23T12:32:07.369Z"
   },
   {
    "duration": 8,
    "start_time": "2023-03-23T12:32:33.208Z"
   },
   {
    "duration": 11,
    "start_time": "2023-03-23T12:32:44.526Z"
   },
   {
    "duration": 12,
    "start_time": "2023-03-23T12:32:47.505Z"
   },
   {
    "duration": 10,
    "start_time": "2023-03-23T12:32:57.591Z"
   },
   {
    "duration": 11,
    "start_time": "2023-03-23T12:32:57.716Z"
   },
   {
    "duration": 7,
    "start_time": "2023-03-23T12:35:09.459Z"
   },
   {
    "duration": 19,
    "start_time": "2023-03-23T12:35:58.295Z"
   },
   {
    "duration": 8,
    "start_time": "2023-03-23T12:42:33.737Z"
   },
   {
    "duration": 5,
    "start_time": "2023-03-23T12:45:30.855Z"
   },
   {
    "duration": 9,
    "start_time": "2023-03-23T12:45:34.129Z"
   },
   {
    "duration": 14,
    "start_time": "2023-03-23T12:48:43.872Z"
   },
   {
    "duration": 7,
    "start_time": "2023-03-23T12:48:46.554Z"
   },
   {
    "duration": 4,
    "start_time": "2023-03-23T12:49:28.846Z"
   },
   {
    "duration": 75,
    "start_time": "2023-03-23T12:49:28.873Z"
   },
   {
    "duration": 14,
    "start_time": "2023-03-23T12:49:28.950Z"
   },
   {
    "duration": 71,
    "start_time": "2023-03-23T12:49:28.965Z"
   },
   {
    "duration": 17,
    "start_time": "2023-03-23T12:49:29.039Z"
   },
   {
    "duration": 62,
    "start_time": "2023-03-23T12:49:29.058Z"
   },
   {
    "duration": 30,
    "start_time": "2023-03-23T12:49:29.123Z"
   },
   {
    "duration": 6,
    "start_time": "2023-03-23T12:49:29.155Z"
   },
   {
    "duration": 41,
    "start_time": "2023-03-23T12:49:29.164Z"
   },
   {
    "duration": 8,
    "start_time": "2023-03-23T12:49:29.208Z"
   },
   {
    "duration": 13,
    "start_time": "2023-03-23T12:49:34.429Z"
   },
   {
    "duration": 7,
    "start_time": "2023-03-23T12:49:45.552Z"
   },
   {
    "duration": 14,
    "start_time": "2023-03-23T12:50:29.736Z"
   },
   {
    "duration": 89,
    "start_time": "2023-03-23T12:50:40.088Z"
   },
   {
    "duration": 11,
    "start_time": "2023-03-23T12:50:47.675Z"
   },
   {
    "duration": 6,
    "start_time": "2023-03-23T12:50:55.862Z"
   },
   {
    "duration": 12,
    "start_time": "2023-03-23T12:51:15.575Z"
   },
   {
    "duration": 6,
    "start_time": "2023-03-23T12:51:22.233Z"
   },
   {
    "duration": 11,
    "start_time": "2023-03-23T12:55:26.208Z"
   },
   {
    "duration": 9,
    "start_time": "2023-03-23T12:56:00.124Z"
   },
   {
    "duration": 8,
    "start_time": "2023-03-23T12:56:06.035Z"
   },
   {
    "duration": 7,
    "start_time": "2023-03-23T12:56:19.212Z"
   },
   {
    "duration": 7,
    "start_time": "2023-03-23T12:56:37.124Z"
   },
   {
    "duration": 7,
    "start_time": "2023-03-23T12:56:40.390Z"
   },
   {
    "duration": 5,
    "start_time": "2023-03-23T12:56:47.655Z"
   },
   {
    "duration": 12,
    "start_time": "2023-03-23T12:59:09.991Z"
   },
   {
    "duration": 9,
    "start_time": "2023-03-23T12:59:19.528Z"
   },
   {
    "duration": 14,
    "start_time": "2023-03-23T12:59:39.872Z"
   },
   {
    "duration": 6,
    "start_time": "2023-03-23T12:59:53.694Z"
   },
   {
    "duration": 9,
    "start_time": "2023-03-23T13:00:07.389Z"
   },
   {
    "duration": 6,
    "start_time": "2023-03-23T13:00:14.124Z"
   },
   {
    "duration": 15,
    "start_time": "2023-03-23T13:02:36.863Z"
   },
   {
    "duration": 15,
    "start_time": "2023-03-23T13:02:50.752Z"
   },
   {
    "duration": 101,
    "start_time": "2023-03-24T03:12:51.388Z"
   },
   {
    "duration": 54,
    "start_time": "2023-03-24T03:12:56.873Z"
   },
   {
    "duration": 57,
    "start_time": "2023-03-24T03:13:04.418Z"
   },
   {
    "duration": 32,
    "start_time": "2023-03-24T03:14:50.971Z"
   },
   {
    "duration": 8,
    "start_time": "2023-03-24T03:15:10.476Z"
   },
   {
    "duration": 108,
    "start_time": "2023-03-24T03:15:10.490Z"
   },
   {
    "duration": 15,
    "start_time": "2023-03-24T03:15:10.601Z"
   },
   {
    "duration": 118,
    "start_time": "2023-03-24T03:15:10.618Z"
   },
   {
    "duration": 40,
    "start_time": "2023-03-24T03:15:10.738Z"
   },
   {
    "duration": 46,
    "start_time": "2023-03-24T03:15:10.788Z"
   },
   {
    "duration": 33,
    "start_time": "2023-03-24T03:15:10.836Z"
   },
   {
    "duration": 30,
    "start_time": "2023-03-24T03:15:10.871Z"
   },
   {
    "duration": 25,
    "start_time": "2023-03-24T03:15:10.903Z"
   },
   {
    "duration": 8,
    "start_time": "2023-03-24T03:15:10.930Z"
   },
   {
    "duration": 70,
    "start_time": "2023-03-24T03:15:10.940Z"
   },
   {
    "duration": 13,
    "start_time": "2023-03-24T03:15:11.011Z"
   },
   {
    "duration": 29,
    "start_time": "2023-03-24T03:15:11.026Z"
   },
   {
    "duration": 59,
    "start_time": "2023-03-24T03:15:11.057Z"
   },
   {
    "duration": 15,
    "start_time": "2023-03-24T03:15:11.119Z"
   },
   {
    "duration": 22,
    "start_time": "2023-03-24T03:15:11.136Z"
   },
   {
    "duration": 55,
    "start_time": "2023-03-24T03:15:11.160Z"
   },
   {
    "duration": 8,
    "start_time": "2023-03-24T03:15:11.217Z"
   },
   {
    "duration": 10,
    "start_time": "2023-03-24T03:15:11.227Z"
   },
   {
    "duration": 54,
    "start_time": "2023-03-24T03:15:11.247Z"
   },
   {
    "duration": 14,
    "start_time": "2023-03-24T03:15:11.303Z"
   },
   {
    "duration": 18,
    "start_time": "2023-03-24T03:15:11.320Z"
   },
   {
    "duration": 60,
    "start_time": "2023-03-24T03:15:11.340Z"
   },
   {
    "duration": 27,
    "start_time": "2023-03-24T03:15:11.402Z"
   },
   {
    "duration": 34,
    "start_time": "2023-03-24T03:15:11.430Z"
   },
   {
    "duration": 47,
    "start_time": "2023-03-24T03:15:11.469Z"
   },
   {
    "duration": 54,
    "start_time": "2023-03-24T03:15:11.518Z"
   },
   {
    "duration": 264,
    "start_time": "2023-03-24T03:15:11.574Z"
   },
   {
    "duration": 44,
    "start_time": "2023-03-24T03:15:11.849Z"
   },
   {
    "duration": 24,
    "start_time": "2023-03-24T03:15:16.599Z"
   },
   {
    "duration": 18256,
    "start_time": "2023-03-24T03:15:50.802Z"
   },
   {
    "duration": 116,
    "start_time": "2023-03-24T03:17:55.091Z"
   },
   {
    "duration": 267,
    "start_time": "2023-03-24T03:18:10.759Z"
   },
   {
    "duration": 332,
    "start_time": "2023-03-24T03:18:15.854Z"
   },
   {
    "duration": 266,
    "start_time": "2023-03-24T03:18:20.490Z"
   },
   {
    "duration": 211,
    "start_time": "2023-03-24T03:22:07.987Z"
   },
   {
    "duration": 132,
    "start_time": "2023-03-24T03:22:27.304Z"
   },
   {
    "duration": 5,
    "start_time": "2023-03-24T04:31:42.169Z"
   },
   {
    "duration": 83,
    "start_time": "2023-03-24T04:31:42.179Z"
   },
   {
    "duration": 20,
    "start_time": "2023-03-24T04:31:42.267Z"
   },
   {
    "duration": 91,
    "start_time": "2023-03-24T04:31:42.289Z"
   },
   {
    "duration": 21,
    "start_time": "2023-03-24T04:31:42.383Z"
   },
   {
    "duration": 65,
    "start_time": "2023-03-24T04:31:42.408Z"
   },
   {
    "duration": 26,
    "start_time": "2023-03-24T04:31:42.477Z"
   },
   {
    "duration": 7,
    "start_time": "2023-03-24T04:31:42.505Z"
   },
   {
    "duration": 54,
    "start_time": "2023-03-24T04:31:42.513Z"
   },
   {
    "duration": 28,
    "start_time": "2023-03-24T04:31:42.575Z"
   },
   {
    "duration": 214,
    "start_time": "2023-03-24T04:31:42.605Z"
   },
   {
    "duration": 57,
    "start_time": "2023-03-24T04:31:42.821Z"
   },
   {
    "duration": 14,
    "start_time": "2023-03-24T04:31:42.880Z"
   },
   {
    "duration": 17,
    "start_time": "2023-03-24T04:31:42.895Z"
   },
   {
    "duration": 35,
    "start_time": "2023-03-24T04:31:42.916Z"
   },
   {
    "duration": 26,
    "start_time": "2023-03-24T04:31:42.958Z"
   },
   {
    "duration": 35,
    "start_time": "2023-03-24T04:31:42.986Z"
   },
   {
    "duration": 7,
    "start_time": "2023-03-24T04:31:43.023Z"
   },
   {
    "duration": 13,
    "start_time": "2023-03-24T04:31:43.031Z"
   },
   {
    "duration": 47,
    "start_time": "2023-03-24T04:31:43.047Z"
   },
   {
    "duration": 13,
    "start_time": "2023-03-24T04:31:43.096Z"
   },
   {
    "duration": 5,
    "start_time": "2023-03-24T04:31:43.111Z"
   },
   {
    "duration": 6,
    "start_time": "2023-03-24T04:31:43.118Z"
   },
   {
    "duration": 21,
    "start_time": "2023-03-24T04:31:43.126Z"
   },
   {
    "duration": 24,
    "start_time": "2023-03-24T04:31:43.148Z"
   },
   {
    "duration": 21,
    "start_time": "2023-03-24T04:31:43.175Z"
   },
   {
    "duration": 35,
    "start_time": "2023-03-24T04:31:43.197Z"
   },
   {
    "duration": 188,
    "start_time": "2023-03-24T04:31:43.234Z"
   },
   {
    "duration": 38,
    "start_time": "2023-03-24T04:31:43.424Z"
   },
   {
    "duration": 10,
    "start_time": "2023-03-24T04:31:43.465Z"
   },
   {
    "duration": 153,
    "start_time": "2023-03-24T04:31:43.477Z"
   },
   {
    "duration": 24,
    "start_time": "2023-03-24T04:31:43.631Z"
   },
   {
    "duration": 15,
    "start_time": "2023-03-24T04:31:43.661Z"
   },
   {
    "duration": 727,
    "start_time": "2023-03-24T04:31:43.677Z"
   },
   {
    "duration": 183,
    "start_time": "2023-03-24T04:31:44.406Z"
   },
   {
    "duration": 12,
    "start_time": "2023-03-24T04:31:44.591Z"
   },
   {
    "duration": 231,
    "start_time": "2023-03-24T04:31:44.605Z"
   },
   {
    "duration": 26,
    "start_time": "2023-03-24T04:31:44.838Z"
   },
   {
    "duration": 201,
    "start_time": "2023-03-24T04:31:44.866Z"
   },
   {
    "duration": 12,
    "start_time": "2023-03-24T04:31:45.072Z"
   },
   {
    "duration": 205,
    "start_time": "2023-03-24T04:31:45.086Z"
   },
   {
    "duration": 12,
    "start_time": "2023-03-24T04:31:45.295Z"
   },
   {
    "duration": 178,
    "start_time": "2023-03-24T04:31:45.308Z"
   },
   {
    "duration": 11,
    "start_time": "2023-03-24T04:31:45.488Z"
   },
   {
    "duration": 325,
    "start_time": "2023-03-24T04:31:45.501Z"
   },
   {
    "duration": 34,
    "start_time": "2023-03-24T04:31:45.828Z"
   },
   {
    "duration": 55,
    "start_time": "2023-03-24T04:31:45.864Z"
   },
   {
    "duration": 728,
    "start_time": "2023-03-24T04:31:45.921Z"
   },
   {
    "duration": 284,
    "start_time": "2023-03-24T04:31:46.651Z"
   },
   {
    "duration": 276,
    "start_time": "2023-03-24T04:31:46.937Z"
   },
   {
    "duration": 20,
    "start_time": "2023-03-24T04:31:47.216Z"
   },
   {
    "duration": 270,
    "start_time": "2023-03-24T04:31:47.238Z"
   },
   {
    "duration": 6,
    "start_time": "2023-03-24T04:31:47.511Z"
   },
   {
    "duration": 33,
    "start_time": "2023-03-24T04:31:47.519Z"
   },
   {
    "duration": 55,
    "start_time": "2023-03-24T04:31:47.554Z"
   },
   {
    "duration": 20,
    "start_time": "2023-03-24T04:31:47.611Z"
   },
   {
    "duration": 189,
    "start_time": "2023-03-24T04:31:47.633Z"
   },
   {
    "duration": 6,
    "start_time": "2023-03-24T04:31:47.824Z"
   },
   {
    "duration": 32,
    "start_time": "2023-03-24T04:31:47.832Z"
   },
   {
    "duration": 42,
    "start_time": "2023-03-24T04:31:47.869Z"
   },
   {
    "duration": 379,
    "start_time": "2023-03-24T04:31:47.914Z"
   },
   {
    "duration": 13,
    "start_time": "2023-03-24T04:31:48.295Z"
   },
   {
    "duration": 368,
    "start_time": "2023-03-24T04:31:48.309Z"
   },
   {
    "duration": 19,
    "start_time": "2023-03-24T04:31:48.679Z"
   },
   {
    "duration": 573,
    "start_time": "2023-03-24T04:31:48.700Z"
   },
   {
    "duration": 30,
    "start_time": "2023-03-24T04:31:49.275Z"
   },
   {
    "duration": 412,
    "start_time": "2023-03-24T04:31:49.307Z"
   },
   {
    "duration": 16,
    "start_time": "2023-03-24T04:31:49.722Z"
   },
   {
    "duration": 233,
    "start_time": "2023-03-24T04:31:49.740Z"
   },
   {
    "duration": 18,
    "start_time": "2023-03-24T04:31:49.975Z"
   },
   {
    "duration": 34,
    "start_time": "2023-03-24T04:31:49.995Z"
   },
   {
    "duration": 310,
    "start_time": "2023-03-24T04:31:50.031Z"
   },
   {
    "duration": 24,
    "start_time": "2023-03-24T04:31:50.342Z"
   },
   {
    "duration": 217,
    "start_time": "2023-03-24T04:31:50.368Z"
   },
   {
    "duration": 19,
    "start_time": "2023-03-24T04:31:50.588Z"
   },
   {
    "duration": 208,
    "start_time": "2023-03-24T04:31:50.609Z"
   },
   {
    "duration": 37,
    "start_time": "2023-03-24T04:31:50.820Z"
   },
   {
    "duration": 245,
    "start_time": "2023-03-24T04:31:50.864Z"
   },
   {
    "duration": 33,
    "start_time": "2023-03-24T04:31:51.115Z"
   },
   {
    "duration": 250,
    "start_time": "2023-03-24T04:31:51.151Z"
   },
   {
    "duration": 18,
    "start_time": "2023-03-24T04:31:51.404Z"
   },
   {
    "duration": 242,
    "start_time": "2023-03-24T04:31:51.424Z"
   },
   {
    "duration": 27,
    "start_time": "2023-03-24T04:31:51.669Z"
   },
   {
    "duration": 403,
    "start_time": "2023-03-24T04:31:51.702Z"
   },
   {
    "duration": 6,
    "start_time": "2023-03-24T04:31:52.107Z"
   },
   {
    "duration": 229,
    "start_time": "2023-03-24T04:31:52.115Z"
   },
   {
    "duration": 181,
    "start_time": "2023-03-24T04:31:52.349Z"
   },
   {
    "duration": 191,
    "start_time": "2023-03-24T04:31:52.532Z"
   },
   {
    "duration": 6,
    "start_time": "2023-03-24T04:31:52.724Z"
   },
   {
    "duration": 12,
    "start_time": "2023-03-24T04:31:54.992Z"
   },
   {
    "duration": 14,
    "start_time": "2023-03-24T04:32:06.469Z"
   },
   {
    "duration": 7,
    "start_time": "2023-03-24T04:34:35.991Z"
   },
   {
    "duration": 17,
    "start_time": "2023-03-24T04:34:36.366Z"
   },
   {
    "duration": 12,
    "start_time": "2023-03-24T04:40:09.889Z"
   },
   {
    "duration": 4,
    "start_time": "2023-03-24T04:43:54.765Z"
   },
   {
    "duration": 85,
    "start_time": "2023-03-24T04:43:54.780Z"
   },
   {
    "duration": 24,
    "start_time": "2023-03-24T04:43:54.868Z"
   },
   {
    "duration": 100,
    "start_time": "2023-03-24T04:43:54.895Z"
   },
   {
    "duration": 17,
    "start_time": "2023-03-24T04:43:54.996Z"
   },
   {
    "duration": 52,
    "start_time": "2023-03-24T04:43:55.015Z"
   },
   {
    "duration": 29,
    "start_time": "2023-03-24T04:43:55.069Z"
   },
   {
    "duration": 6,
    "start_time": "2023-03-24T04:43:55.099Z"
   },
   {
    "duration": 48,
    "start_time": "2023-03-24T04:43:55.107Z"
   },
   {
    "duration": 14,
    "start_time": "2023-03-24T04:43:55.165Z"
   },
   {
    "duration": 27,
    "start_time": "2023-03-24T04:43:55.181Z"
   },
   {
    "duration": 10,
    "start_time": "2023-03-24T04:43:55.212Z"
   },
   {
    "duration": 14,
    "start_time": "2023-03-24T04:43:55.224Z"
   },
   {
    "duration": 57,
    "start_time": "2023-03-24T04:43:55.240Z"
   },
   {
    "duration": 13,
    "start_time": "2023-03-24T04:43:55.302Z"
   },
   {
    "duration": 7,
    "start_time": "2023-03-24T04:43:55.317Z"
   },
   {
    "duration": 20,
    "start_time": "2023-03-24T04:43:55.325Z"
   },
   {
    "duration": 18,
    "start_time": "2023-03-24T04:43:55.347Z"
   },
   {
    "duration": 27,
    "start_time": "2023-03-24T04:43:55.372Z"
   },
   {
    "duration": 9,
    "start_time": "2023-03-24T04:43:55.401Z"
   },
   {
    "duration": 24,
    "start_time": "2023-03-24T04:43:55.411Z"
   },
   {
    "duration": 53,
    "start_time": "2023-03-24T04:43:55.437Z"
   },
   {
    "duration": 12,
    "start_time": "2023-03-24T04:43:55.492Z"
   },
   {
    "duration": 18,
    "start_time": "2023-03-24T04:43:55.506Z"
   },
   {
    "duration": 29,
    "start_time": "2023-03-24T04:43:55.526Z"
   },
   {
    "duration": 29,
    "start_time": "2023-03-24T04:43:55.566Z"
   },
   {
    "duration": 34,
    "start_time": "2023-03-24T04:43:55.597Z"
   },
   {
    "duration": 215,
    "start_time": "2023-03-24T04:43:55.633Z"
   },
   {
    "duration": 26,
    "start_time": "2023-03-24T04:43:55.851Z"
   },
   {
    "duration": 29,
    "start_time": "2023-03-24T04:43:55.879Z"
   },
   {
    "duration": 210,
    "start_time": "2023-03-24T04:43:55.910Z"
   },
   {
    "duration": 25,
    "start_time": "2023-03-24T04:43:56.123Z"
   },
   {
    "duration": 55,
    "start_time": "2023-03-24T04:43:56.151Z"
   },
   {
    "duration": 818,
    "start_time": "2023-03-24T04:43:56.208Z"
   },
   {
    "duration": 186,
    "start_time": "2023-03-24T04:43:57.028Z"
   },
   {
    "duration": 29,
    "start_time": "2023-03-24T04:43:57.217Z"
   },
   {
    "duration": 332,
    "start_time": "2023-03-24T04:43:57.247Z"
   },
   {
    "duration": 18,
    "start_time": "2023-03-24T04:43:57.581Z"
   },
   {
    "duration": 201,
    "start_time": "2023-03-24T04:43:57.602Z"
   },
   {
    "duration": 17,
    "start_time": "2023-03-24T04:43:57.805Z"
   },
   {
    "duration": 189,
    "start_time": "2023-03-24T04:43:57.824Z"
   },
   {
    "duration": 31,
    "start_time": "2023-03-24T04:43:58.018Z"
   },
   {
    "duration": 185,
    "start_time": "2023-03-24T04:43:58.058Z"
   },
   {
    "duration": 22,
    "start_time": "2023-03-24T04:43:58.250Z"
   },
   {
    "duration": 255,
    "start_time": "2023-03-24T04:43:58.273Z"
   },
   {
    "duration": 26,
    "start_time": "2023-03-24T04:43:58.530Z"
   },
   {
    "duration": 30,
    "start_time": "2023-03-24T04:43:58.565Z"
   },
   {
    "duration": 642,
    "start_time": "2023-03-24T04:43:58.597Z"
   },
   {
    "duration": 230,
    "start_time": "2023-03-24T04:43:59.250Z"
   },
   {
    "duration": 222,
    "start_time": "2023-03-24T04:43:59.483Z"
   },
   {
    "duration": 16,
    "start_time": "2023-03-24T04:43:59.707Z"
   },
   {
    "duration": 196,
    "start_time": "2023-03-24T04:43:59.725Z"
   },
   {
    "duration": 6,
    "start_time": "2023-03-24T04:43:59.923Z"
   },
   {
    "duration": 54,
    "start_time": "2023-03-24T04:43:59.931Z"
   },
   {
    "duration": 16,
    "start_time": "2023-03-24T04:43:59.987Z"
   },
   {
    "duration": 54,
    "start_time": "2023-03-24T04:44:00.005Z"
   },
   {
    "duration": 232,
    "start_time": "2023-03-24T04:44:00.064Z"
   },
   {
    "duration": 7,
    "start_time": "2023-03-24T04:44:00.298Z"
   },
   {
    "duration": 23,
    "start_time": "2023-03-24T04:44:00.307Z"
   },
   {
    "duration": 61,
    "start_time": "2023-03-24T04:44:00.332Z"
   },
   {
    "duration": 523,
    "start_time": "2023-03-24T04:44:00.395Z"
   },
   {
    "duration": 12,
    "start_time": "2023-03-24T04:44:00.920Z"
   },
   {
    "duration": 426,
    "start_time": "2023-03-24T04:44:00.942Z"
   },
   {
    "duration": 18,
    "start_time": "2023-03-24T04:44:01.376Z"
   },
   {
    "duration": 377,
    "start_time": "2023-03-24T04:44:01.397Z"
   },
   {
    "duration": 14,
    "start_time": "2023-03-24T04:44:01.779Z"
   },
   {
    "duration": 406,
    "start_time": "2023-03-24T04:44:01.795Z"
   },
   {
    "duration": 12,
    "start_time": "2023-03-24T04:44:02.203Z"
   },
   {
    "duration": 226,
    "start_time": "2023-03-24T04:44:02.217Z"
   },
   {
    "duration": 31,
    "start_time": "2023-03-24T04:44:02.445Z"
   },
   {
    "duration": 24,
    "start_time": "2023-03-24T04:44:02.482Z"
   },
   {
    "duration": 273,
    "start_time": "2023-03-24T04:44:02.508Z"
   },
   {
    "duration": 17,
    "start_time": "2023-03-24T04:44:02.784Z"
   },
   {
    "duration": 174,
    "start_time": "2023-03-24T04:44:02.803Z"
   },
   {
    "duration": 19,
    "start_time": "2023-03-24T04:44:02.983Z"
   },
   {
    "duration": 191,
    "start_time": "2023-03-24T04:44:03.004Z"
   },
   {
    "duration": 23,
    "start_time": "2023-03-24T04:44:03.197Z"
   },
   {
    "duration": 299,
    "start_time": "2023-03-24T04:44:03.223Z"
   },
   {
    "duration": 35,
    "start_time": "2023-03-24T04:44:03.524Z"
   },
   {
    "duration": 207,
    "start_time": "2023-03-24T04:44:03.560Z"
   },
   {
    "duration": 18,
    "start_time": "2023-03-24T04:44:03.769Z"
   },
   {
    "duration": 201,
    "start_time": "2023-03-24T04:44:03.789Z"
   },
   {
    "duration": 16,
    "start_time": "2023-03-24T04:44:03.991Z"
   },
   {
    "duration": 224,
    "start_time": "2023-03-24T04:44:04.008Z"
   },
   {
    "duration": 37,
    "start_time": "2023-03-24T04:44:04.234Z"
   },
   {
    "duration": 182,
    "start_time": "2023-03-24T04:44:04.275Z"
   },
   {
    "duration": 166,
    "start_time": "2023-03-24T04:44:04.464Z"
   },
   {
    "duration": 178,
    "start_time": "2023-03-24T04:44:04.632Z"
   },
   {
    "duration": 4,
    "start_time": "2023-03-24T04:44:04.812Z"
   },
   {
    "duration": 39,
    "start_time": "2023-03-24T04:44:04.818Z"
   },
   {
    "duration": 9,
    "start_time": "2023-03-24T04:44:04.863Z"
   },
   {
    "duration": 18,
    "start_time": "2023-03-24T04:44:04.873Z"
   },
   {
    "duration": 3417,
    "start_time": "2023-03-24T04:44:04.892Z"
   },
   {
    "duration": 14,
    "start_time": "2023-03-24T04:48:01.278Z"
   },
   {
    "duration": 203,
    "start_time": "2023-03-24T04:49:02.870Z"
   },
   {
    "duration": 211,
    "start_time": "2023-03-24T04:49:20.122Z"
   },
   {
    "duration": 17,
    "start_time": "2023-03-24T04:49:38.571Z"
   },
   {
    "duration": 184,
    "start_time": "2023-03-24T04:49:42.833Z"
   },
   {
    "duration": 170,
    "start_time": "2023-03-24T04:51:18.358Z"
   },
   {
    "duration": 341,
    "start_time": "2023-03-24T04:52:06.728Z"
   },
   {
    "duration": 259,
    "start_time": "2023-03-24T04:52:56.030Z"
   },
   {
    "duration": 242,
    "start_time": "2023-03-24T04:54:53.230Z"
   },
   {
    "duration": 283,
    "start_time": "2023-03-24T04:55:05.373Z"
   },
   {
    "duration": 410,
    "start_time": "2023-03-24T04:55:12.953Z"
   },
   {
    "duration": 312,
    "start_time": "2023-03-24T04:55:21.275Z"
   },
   {
    "duration": 434,
    "start_time": "2023-03-24T04:55:44.576Z"
   },
   {
    "duration": 283,
    "start_time": "2023-03-24T04:55:53.578Z"
   },
   {
    "duration": 312,
    "start_time": "2023-03-24T04:56:00.472Z"
   },
   {
    "duration": 3,
    "start_time": "2023-03-24T04:56:09.218Z"
   },
   {
    "duration": 79,
    "start_time": "2023-03-24T04:56:09.229Z"
   },
   {
    "duration": 15,
    "start_time": "2023-03-24T04:56:09.310Z"
   },
   {
    "duration": 64,
    "start_time": "2023-03-24T04:56:09.327Z"
   },
   {
    "duration": 14,
    "start_time": "2023-03-24T04:56:09.393Z"
   },
   {
    "duration": 54,
    "start_time": "2023-03-24T04:56:09.410Z"
   },
   {
    "duration": 20,
    "start_time": "2023-03-24T04:56:09.466Z"
   },
   {
    "duration": 9,
    "start_time": "2023-03-24T04:56:09.488Z"
   },
   {
    "duration": 23,
    "start_time": "2023-03-24T04:56:09.498Z"
   },
   {
    "duration": 29,
    "start_time": "2023-03-24T04:56:09.522Z"
   },
   {
    "duration": 16,
    "start_time": "2023-03-24T04:56:09.553Z"
   },
   {
    "duration": 7,
    "start_time": "2023-03-24T04:56:09.570Z"
   },
   {
    "duration": 14,
    "start_time": "2023-03-24T04:56:09.579Z"
   },
   {
    "duration": 10,
    "start_time": "2023-03-24T04:56:09.595Z"
   },
   {
    "duration": 9,
    "start_time": "2023-03-24T04:56:09.608Z"
   },
   {
    "duration": 35,
    "start_time": "2023-03-24T04:56:09.619Z"
   },
   {
    "duration": 17,
    "start_time": "2023-03-24T04:56:09.656Z"
   },
   {
    "duration": 7,
    "start_time": "2023-03-24T04:56:09.675Z"
   },
   {
    "duration": 9,
    "start_time": "2023-03-24T04:56:09.684Z"
   },
   {
    "duration": 10,
    "start_time": "2023-03-24T04:56:09.695Z"
   },
   {
    "duration": 23,
    "start_time": "2023-03-24T04:56:09.707Z"
   },
   {
    "duration": 16,
    "start_time": "2023-03-24T04:56:09.732Z"
   },
   {
    "duration": 7,
    "start_time": "2023-03-24T04:56:09.750Z"
   },
   {
    "duration": 18,
    "start_time": "2023-03-24T04:56:09.759Z"
   },
   {
    "duration": 22,
    "start_time": "2023-03-24T04:56:09.779Z"
   },
   {
    "duration": 52,
    "start_time": "2023-03-24T04:56:09.802Z"
   },
   {
    "duration": 32,
    "start_time": "2023-03-24T04:56:09.856Z"
   },
   {
    "duration": 211,
    "start_time": "2023-03-24T04:56:09.889Z"
   },
   {
    "duration": 15,
    "start_time": "2023-03-24T04:56:10.102Z"
   },
   {
    "duration": 9,
    "start_time": "2023-03-24T04:56:10.118Z"
   },
   {
    "duration": 196,
    "start_time": "2023-03-24T04:56:10.142Z"
   },
   {
    "duration": 17,
    "start_time": "2023-03-24T04:56:10.340Z"
   },
   {
    "duration": 8,
    "start_time": "2023-03-24T04:56:10.359Z"
   },
   {
    "duration": 891,
    "start_time": "2023-03-24T04:56:10.369Z"
   },
   {
    "duration": 205,
    "start_time": "2023-03-24T04:56:11.262Z"
   },
   {
    "duration": 12,
    "start_time": "2023-03-24T04:56:11.470Z"
   },
   {
    "duration": 212,
    "start_time": "2023-03-24T04:56:11.484Z"
   },
   {
    "duration": 14,
    "start_time": "2023-03-24T04:56:11.698Z"
   },
   {
    "duration": 230,
    "start_time": "2023-03-24T04:56:11.714Z"
   },
   {
    "duration": 16,
    "start_time": "2023-03-24T04:56:11.952Z"
   },
   {
    "duration": 225,
    "start_time": "2023-03-24T04:56:11.970Z"
   },
   {
    "duration": 14,
    "start_time": "2023-03-24T04:56:12.199Z"
   },
   {
    "duration": 238,
    "start_time": "2023-03-24T04:56:12.215Z"
   },
   {
    "duration": 12,
    "start_time": "2023-03-24T04:56:12.455Z"
   },
   {
    "duration": 190,
    "start_time": "2023-03-24T04:56:12.468Z"
   },
   {
    "duration": 10,
    "start_time": "2023-03-24T04:56:12.660Z"
   },
   {
    "duration": 30,
    "start_time": "2023-03-24T04:56:12.672Z"
   },
   {
    "duration": 572,
    "start_time": "2023-03-24T04:56:12.704Z"
   },
   {
    "duration": 290,
    "start_time": "2023-03-24T04:56:13.278Z"
   },
   {
    "duration": 520,
    "start_time": "2023-03-24T04:58:05.875Z"
   }
  ],
  "kernelspec": {
   "display_name": "Python 3 (ipykernel)",
   "language": "python",
   "name": "python3"
  },
  "language_info": {
   "codemirror_mode": {
    "name": "ipython",
    "version": 3
   },
   "file_extension": ".py",
   "mimetype": "text/x-python",
   "name": "python",
   "nbconvert_exporter": "python",
   "pygments_lexer": "ipython3",
   "version": "3.9.5"
  },
  "toc": {
   "base_numbering": 1,
   "nav_menu": {},
   "number_sections": true,
   "sideBar": true,
   "skip_h1_title": true,
   "title_cell": "Table of Contents",
   "title_sidebar": "Contents",
   "toc_cell": false,
   "toc_position": {},
   "toc_section_display": true,
   "toc_window_display": false
  }
 },
 "nbformat": 4,
 "nbformat_minor": 2
}
